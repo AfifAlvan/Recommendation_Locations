{
  "nbformat": 4,
  "nbformat_minor": 0,
  "metadata": {
    "colab": {
      "provenance": []
    },
    "kernelspec": {
      "name": "python3",
      "display_name": "Python 3"
    },
    "language_info": {
      "name": "python"
    }
  },
  "cells": [
    {
      "cell_type": "markdown",
      "source": [
        "# IMPORT LIBRARIES"
      ],
      "metadata": {
        "id": "VVnjkngJP8Zu"
      }
    },
    {
      "cell_type": "code",
      "source": [
        "# Data Loading\n",
        "import pandas as pd\n",
        "import numpy as np\n",
        "import matplotlib.pyplot as plt\n",
        "import seaborn as sns\n",
        "from google.colab import drive\n",
        "import matplotlib as mpl\n",
        "#Feature scaling and encode\n",
        "from sklearn.preprocessing import MinMaxScaler, OrdinalEncoder\n",
        "\n",
        "# Reduction Dimention\n",
        "from sklearn.decomposition import PCA\n",
        "\n",
        "# Modeling Data clustering\n",
        "from sklearn.cluster import KMeans, AgglomerativeClustering, SpectralClustering\n",
        "# Hyperparameter\n",
        "from sklearn.model_selection import cross_val_score, KFold, GridSearchCV\n",
        "\n",
        "# Evaluation Model\n",
        "from sklearn.metrics import accuracy_score\n",
        "from sklearn.metrics import classification_report\n",
        "from sklearn.metrics import confusion_matrix\n",
        "from sklearn.metrics import silhouette_score\n",
        "\n",
        "from sklearn.pipeline import make_pipeline\n",
        "from sklearn.compose import ColumnTransformer\n",
        "\n",
        "from statsmodels.stats.outliers_influence import variance_inflation_factor\n",
        "from sklearn.decomposition import PCA\n",
        "from yellowbrick.cluster import KElbowVisualizer\n",
        "\n",
        "from sklearn.metrics import silhouette_samples\n",
        "from matplotlib.ticker import FixedLocator, FixedFormatter\n",
        "#saving model\n",
        "from sklearn.cluster import KMeans\n",
        "import json\n",
        "import joblib\n",
        "import pickle\n"
      ],
      "metadata": {
        "id": "HVAWXXrNxIsZ"
      },
      "execution_count": 38,
      "outputs": []
    },
    {
      "cell_type": "markdown",
      "source": [
        "# DATA LOADING"
      ],
      "metadata": {
        "id": "ZfmnJsyyQBI_"
      }
    },
    {
      "cell_type": "code",
      "source": [
        "db = pd.read_excel('Dataset AI improve.xlsx')\n",
        "db"
      ],
      "metadata": {
        "id": "VVoViQ3hPq-1",
        "colab": {
          "base_uri": "https://localhost:8080/",
          "height": 644
        },
        "outputId": "9691b50c-ade8-47d8-f604-f22fd4099708"
      },
      "execution_count": 2,
      "outputs": [
        {
          "output_type": "execute_result",
          "data": {
            "text/plain": [
              "      no        kabupaten    provinsi  jumlah_penduduk  luas_wilayah_km2  \\\n",
              "0      1      Kep, Seribu     JAKARTA            28240             10.18   \n",
              "1      2  Jakarta Selatan     JAKARTA          2233855            154.32   \n",
              "2      3    Jakarta Timur     JAKARTA          3056300            182.70   \n",
              "3      4    Jakarta Pusat     JAKARTA          1066460             52.38   \n",
              "4      5    Jakarta Barat     JAKARTA          2440073            124.44   \n",
              "..   ...              ...         ...              ...               ...   \n",
              "106  107           Bekasi  JAWA BARAT          2564941            206.61   \n",
              "107  108            Depok  JAWA BARAT          2085935            200.29   \n",
              "108  109           Cimahi  JAWA BARAT           571632             39.27   \n",
              "109  110      Tasikmalaya  JAWA BARAT           723921            171.61   \n",
              "110  111           Banjar  JAWA BARAT           203417            113.49   \n",
              "\n",
              "     pengeluaran_perkapita   umur ses  kepadatan_penduduk  tahun  tpt_persen  \\\n",
              "0               1219497.42    5-9  C2                2774   2021        8.47   \n",
              "1               2506430.84  35-39   B               14475   2021        5.63   \n",
              "2               2048309.48  30-34   B               16729   2021        8.39   \n",
              "3               2162055.05  35-39   B               20360   2021        5.88   \n",
              "4               2200196.33  30-34   B               19608   2021        7.10   \n",
              "..                     ...    ...  ..                 ...    ...         ...   \n",
              "106             2488463.13  20-24   B               12414   2021        8.81   \n",
              "107             2304941.48  30-34   B               10415   2021        7.82   \n",
              "108             1827071.74  20-24  C1               14556   2021       10.77   \n",
              "109             1310775.14  15-19  C2                4218   2021        6.62   \n",
              "110             1088976.65  15-19  C2                1792   2021        5.53   \n",
              "\n",
              "     jumlah_pasar         umk  \n",
              "0               0  4394816.00  \n",
              "1              27  6185279.00  \n",
              "2              34  5442060.00  \n",
              "3              46  5099960.00  \n",
              "4              19  5687307.00  \n",
              "..            ...         ...  \n",
              "106            14  4816921.17  \n",
              "107            11  4377231.93  \n",
              "108             4  3272668.50  \n",
              "109            10  2363389.67  \n",
              "110             8  1831884.83  \n",
              "\n",
              "[111 rows x 13 columns]"
            ],
            "text/html": [
              "\n",
              "  <div id=\"df-419f1ecd-1b82-403b-9e21-1ca159fe6bde\">\n",
              "    <div class=\"colab-df-container\">\n",
              "      <div>\n",
              "<style scoped>\n",
              "    .dataframe tbody tr th:only-of-type {\n",
              "        vertical-align: middle;\n",
              "    }\n",
              "\n",
              "    .dataframe tbody tr th {\n",
              "        vertical-align: top;\n",
              "    }\n",
              "\n",
              "    .dataframe thead th {\n",
              "        text-align: right;\n",
              "    }\n",
              "</style>\n",
              "<table border=\"1\" class=\"dataframe\">\n",
              "  <thead>\n",
              "    <tr style=\"text-align: right;\">\n",
              "      <th></th>\n",
              "      <th>no</th>\n",
              "      <th>kabupaten</th>\n",
              "      <th>provinsi</th>\n",
              "      <th>jumlah_penduduk</th>\n",
              "      <th>luas_wilayah_km2</th>\n",
              "      <th>pengeluaran_perkapita</th>\n",
              "      <th>umur</th>\n",
              "      <th>ses</th>\n",
              "      <th>kepadatan_penduduk</th>\n",
              "      <th>tahun</th>\n",
              "      <th>tpt_persen</th>\n",
              "      <th>jumlah_pasar</th>\n",
              "      <th>umk</th>\n",
              "    </tr>\n",
              "  </thead>\n",
              "  <tbody>\n",
              "    <tr>\n",
              "      <th>0</th>\n",
              "      <td>1</td>\n",
              "      <td>Kep, Seribu</td>\n",
              "      <td>JAKARTA</td>\n",
              "      <td>28240</td>\n",
              "      <td>10.18</td>\n",
              "      <td>1219497.42</td>\n",
              "      <td>5-9</td>\n",
              "      <td>C2</td>\n",
              "      <td>2774</td>\n",
              "      <td>2021</td>\n",
              "      <td>8.47</td>\n",
              "      <td>0</td>\n",
              "      <td>4394816.00</td>\n",
              "    </tr>\n",
              "    <tr>\n",
              "      <th>1</th>\n",
              "      <td>2</td>\n",
              "      <td>Jakarta Selatan</td>\n",
              "      <td>JAKARTA</td>\n",
              "      <td>2233855</td>\n",
              "      <td>154.32</td>\n",
              "      <td>2506430.84</td>\n",
              "      <td>35-39</td>\n",
              "      <td>B</td>\n",
              "      <td>14475</td>\n",
              "      <td>2021</td>\n",
              "      <td>5.63</td>\n",
              "      <td>27</td>\n",
              "      <td>6185279.00</td>\n",
              "    </tr>\n",
              "    <tr>\n",
              "      <th>2</th>\n",
              "      <td>3</td>\n",
              "      <td>Jakarta Timur</td>\n",
              "      <td>JAKARTA</td>\n",
              "      <td>3056300</td>\n",
              "      <td>182.70</td>\n",
              "      <td>2048309.48</td>\n",
              "      <td>30-34</td>\n",
              "      <td>B</td>\n",
              "      <td>16729</td>\n",
              "      <td>2021</td>\n",
              "      <td>8.39</td>\n",
              "      <td>34</td>\n",
              "      <td>5442060.00</td>\n",
              "    </tr>\n",
              "    <tr>\n",
              "      <th>3</th>\n",
              "      <td>4</td>\n",
              "      <td>Jakarta Pusat</td>\n",
              "      <td>JAKARTA</td>\n",
              "      <td>1066460</td>\n",
              "      <td>52.38</td>\n",
              "      <td>2162055.05</td>\n",
              "      <td>35-39</td>\n",
              "      <td>B</td>\n",
              "      <td>20360</td>\n",
              "      <td>2021</td>\n",
              "      <td>5.88</td>\n",
              "      <td>46</td>\n",
              "      <td>5099960.00</td>\n",
              "    </tr>\n",
              "    <tr>\n",
              "      <th>4</th>\n",
              "      <td>5</td>\n",
              "      <td>Jakarta Barat</td>\n",
              "      <td>JAKARTA</td>\n",
              "      <td>2440073</td>\n",
              "      <td>124.44</td>\n",
              "      <td>2200196.33</td>\n",
              "      <td>30-34</td>\n",
              "      <td>B</td>\n",
              "      <td>19608</td>\n",
              "      <td>2021</td>\n",
              "      <td>7.10</td>\n",
              "      <td>19</td>\n",
              "      <td>5687307.00</td>\n",
              "    </tr>\n",
              "    <tr>\n",
              "      <th>...</th>\n",
              "      <td>...</td>\n",
              "      <td>...</td>\n",
              "      <td>...</td>\n",
              "      <td>...</td>\n",
              "      <td>...</td>\n",
              "      <td>...</td>\n",
              "      <td>...</td>\n",
              "      <td>...</td>\n",
              "      <td>...</td>\n",
              "      <td>...</td>\n",
              "      <td>...</td>\n",
              "      <td>...</td>\n",
              "      <td>...</td>\n",
              "    </tr>\n",
              "    <tr>\n",
              "      <th>106</th>\n",
              "      <td>107</td>\n",
              "      <td>Bekasi</td>\n",
              "      <td>JAWA BARAT</td>\n",
              "      <td>2564941</td>\n",
              "      <td>206.61</td>\n",
              "      <td>2488463.13</td>\n",
              "      <td>20-24</td>\n",
              "      <td>B</td>\n",
              "      <td>12414</td>\n",
              "      <td>2021</td>\n",
              "      <td>8.81</td>\n",
              "      <td>14</td>\n",
              "      <td>4816921.17</td>\n",
              "    </tr>\n",
              "    <tr>\n",
              "      <th>107</th>\n",
              "      <td>108</td>\n",
              "      <td>Depok</td>\n",
              "      <td>JAWA BARAT</td>\n",
              "      <td>2085935</td>\n",
              "      <td>200.29</td>\n",
              "      <td>2304941.48</td>\n",
              "      <td>30-34</td>\n",
              "      <td>B</td>\n",
              "      <td>10415</td>\n",
              "      <td>2021</td>\n",
              "      <td>7.82</td>\n",
              "      <td>11</td>\n",
              "      <td>4377231.93</td>\n",
              "    </tr>\n",
              "    <tr>\n",
              "      <th>108</th>\n",
              "      <td>109</td>\n",
              "      <td>Cimahi</td>\n",
              "      <td>JAWA BARAT</td>\n",
              "      <td>571632</td>\n",
              "      <td>39.27</td>\n",
              "      <td>1827071.74</td>\n",
              "      <td>20-24</td>\n",
              "      <td>C1</td>\n",
              "      <td>14556</td>\n",
              "      <td>2021</td>\n",
              "      <td>10.77</td>\n",
              "      <td>4</td>\n",
              "      <td>3272668.50</td>\n",
              "    </tr>\n",
              "    <tr>\n",
              "      <th>109</th>\n",
              "      <td>110</td>\n",
              "      <td>Tasikmalaya</td>\n",
              "      <td>JAWA BARAT</td>\n",
              "      <td>723921</td>\n",
              "      <td>171.61</td>\n",
              "      <td>1310775.14</td>\n",
              "      <td>15-19</td>\n",
              "      <td>C2</td>\n",
              "      <td>4218</td>\n",
              "      <td>2021</td>\n",
              "      <td>6.62</td>\n",
              "      <td>10</td>\n",
              "      <td>2363389.67</td>\n",
              "    </tr>\n",
              "    <tr>\n",
              "      <th>110</th>\n",
              "      <td>111</td>\n",
              "      <td>Banjar</td>\n",
              "      <td>JAWA BARAT</td>\n",
              "      <td>203417</td>\n",
              "      <td>113.49</td>\n",
              "      <td>1088976.65</td>\n",
              "      <td>15-19</td>\n",
              "      <td>C2</td>\n",
              "      <td>1792</td>\n",
              "      <td>2021</td>\n",
              "      <td>5.53</td>\n",
              "      <td>8</td>\n",
              "      <td>1831884.83</td>\n",
              "    </tr>\n",
              "  </tbody>\n",
              "</table>\n",
              "<p>111 rows × 13 columns</p>\n",
              "</div>\n",
              "      <button class=\"colab-df-convert\" onclick=\"convertToInteractive('df-419f1ecd-1b82-403b-9e21-1ca159fe6bde')\"\n",
              "              title=\"Convert this dataframe to an interactive table.\"\n",
              "              style=\"display:none;\">\n",
              "        \n",
              "  <svg xmlns=\"http://www.w3.org/2000/svg\" height=\"24px\"viewBox=\"0 0 24 24\"\n",
              "       width=\"24px\">\n",
              "    <path d=\"M0 0h24v24H0V0z\" fill=\"none\"/>\n",
              "    <path d=\"M18.56 5.44l.94 2.06.94-2.06 2.06-.94-2.06-.94-.94-2.06-.94 2.06-2.06.94zm-11 1L8.5 8.5l.94-2.06 2.06-.94-2.06-.94L8.5 2.5l-.94 2.06-2.06.94zm10 10l.94 2.06.94-2.06 2.06-.94-2.06-.94-.94-2.06-.94 2.06-2.06.94z\"/><path d=\"M17.41 7.96l-1.37-1.37c-.4-.4-.92-.59-1.43-.59-.52 0-1.04.2-1.43.59L10.3 9.45l-7.72 7.72c-.78.78-.78 2.05 0 2.83L4 21.41c.39.39.9.59 1.41.59.51 0 1.02-.2 1.41-.59l7.78-7.78 2.81-2.81c.8-.78.8-2.07 0-2.86zM5.41 20L4 18.59l7.72-7.72 1.47 1.35L5.41 20z\"/>\n",
              "  </svg>\n",
              "      </button>\n",
              "      \n",
              "  <style>\n",
              "    .colab-df-container {\n",
              "      display:flex;\n",
              "      flex-wrap:wrap;\n",
              "      gap: 12px;\n",
              "    }\n",
              "\n",
              "    .colab-df-convert {\n",
              "      background-color: #E8F0FE;\n",
              "      border: none;\n",
              "      border-radius: 50%;\n",
              "      cursor: pointer;\n",
              "      display: none;\n",
              "      fill: #1967D2;\n",
              "      height: 32px;\n",
              "      padding: 0 0 0 0;\n",
              "      width: 32px;\n",
              "    }\n",
              "\n",
              "    .colab-df-convert:hover {\n",
              "      background-color: #E2EBFA;\n",
              "      box-shadow: 0px 1px 2px rgba(60, 64, 67, 0.3), 0px 1px 3px 1px rgba(60, 64, 67, 0.15);\n",
              "      fill: #174EA6;\n",
              "    }\n",
              "\n",
              "    [theme=dark] .colab-df-convert {\n",
              "      background-color: #3B4455;\n",
              "      fill: #D2E3FC;\n",
              "    }\n",
              "\n",
              "    [theme=dark] .colab-df-convert:hover {\n",
              "      background-color: #434B5C;\n",
              "      box-shadow: 0px 1px 3px 1px rgba(0, 0, 0, 0.15);\n",
              "      filter: drop-shadow(0px 1px 2px rgba(0, 0, 0, 0.3));\n",
              "      fill: #FFFFFF;\n",
              "    }\n",
              "  </style>\n",
              "\n",
              "      <script>\n",
              "        const buttonEl =\n",
              "          document.querySelector('#df-419f1ecd-1b82-403b-9e21-1ca159fe6bde button.colab-df-convert');\n",
              "        buttonEl.style.display =\n",
              "          google.colab.kernel.accessAllowed ? 'block' : 'none';\n",
              "\n",
              "        async function convertToInteractive(key) {\n",
              "          const element = document.querySelector('#df-419f1ecd-1b82-403b-9e21-1ca159fe6bde');\n",
              "          const dataTable =\n",
              "            await google.colab.kernel.invokeFunction('convertToInteractive',\n",
              "                                                     [key], {});\n",
              "          if (!dataTable) return;\n",
              "\n",
              "          const docLinkHtml = 'Like what you see? Visit the ' +\n",
              "            '<a target=\"_blank\" href=https://colab.research.google.com/notebooks/data_table.ipynb>data table notebook</a>'\n",
              "            + ' to learn more about interactive tables.';\n",
              "          element.innerHTML = '';\n",
              "          dataTable['output_type'] = 'display_data';\n",
              "          await google.colab.output.renderOutput(dataTable, element);\n",
              "          const docLink = document.createElement('div');\n",
              "          docLink.innerHTML = docLinkHtml;\n",
              "          element.appendChild(docLink);\n",
              "        }\n",
              "      </script>\n",
              "    </div>\n",
              "  </div>\n",
              "  "
            ]
          },
          "metadata": {},
          "execution_count": 2
        }
      ]
    },
    {
      "cell_type": "code",
      "source": [
        "db.to_csv('Dataset AI.csv')"
      ],
      "metadata": {
        "id": "GGt9XQ5qSIcg"
      },
      "execution_count": 3,
      "outputs": []
    },
    {
      "cell_type": "code",
      "source": [
        "db.info()"
      ],
      "metadata": {
        "id": "Y47yIj4shJLS",
        "colab": {
          "base_uri": "https://localhost:8080/"
        },
        "outputId": "57028159-25fa-4f59-f65e-0a0a690f7037"
      },
      "execution_count": 4,
      "outputs": [
        {
          "output_type": "stream",
          "name": "stdout",
          "text": [
            "<class 'pandas.core.frame.DataFrame'>\n",
            "RangeIndex: 111 entries, 0 to 110\n",
            "Data columns (total 13 columns):\n",
            " #   Column                 Non-Null Count  Dtype  \n",
            "---  ------                 --------------  -----  \n",
            " 0   no                     111 non-null    int64  \n",
            " 1   kabupaten              111 non-null    object \n",
            " 2   provinsi               111 non-null    object \n",
            " 3   jumlah_penduduk        111 non-null    int64  \n",
            " 4   luas_wilayah_km2       111 non-null    float64\n",
            " 5   pengeluaran_perkapita  111 non-null    float64\n",
            " 6   umur                   111 non-null    object \n",
            " 7   ses                    111 non-null    object \n",
            " 8   kepadatan_penduduk     111 non-null    int64  \n",
            " 9   tahun                  111 non-null    int64  \n",
            " 10  tpt_persen             111 non-null    float64\n",
            " 11  jumlah_pasar           111 non-null    int64  \n",
            " 12  umk                    111 non-null    float64\n",
            "dtypes: float64(4), int64(5), object(4)\n",
            "memory usage: 11.4+ KB\n"
          ]
        }
      ]
    },
    {
      "cell_type": "code",
      "source": [
        "db.isna().sum()"
      ],
      "metadata": {
        "id": "N6vwRWA-QM8c",
        "colab": {
          "base_uri": "https://localhost:8080/"
        },
        "outputId": "8db86d97-708d-4fc1-879a-bbd94423fe46"
      },
      "execution_count": 5,
      "outputs": [
        {
          "output_type": "execute_result",
          "data": {
            "text/plain": [
              "no                       0\n",
              "kabupaten                0\n",
              "provinsi                 0\n",
              "jumlah_penduduk          0\n",
              "luas_wilayah_km2         0\n",
              "pengeluaran_perkapita    0\n",
              "umur                     0\n",
              "ses                      0\n",
              "kepadatan_penduduk       0\n",
              "tahun                    0\n",
              "tpt_persen               0\n",
              "jumlah_pasar             0\n",
              "umk                      0\n",
              "dtype: int64"
            ]
          },
          "metadata": {},
          "execution_count": 5
        }
      ]
    },
    {
      "cell_type": "code",
      "source": [
        "db['tahun'].astype(str)\n",
        "db.drop(['no','tahun'], axis = 1, inplace = True)"
      ],
      "metadata": {
        "id": "RRWD2OlDQVvb"
      },
      "execution_count": 6,
      "outputs": []
    },
    {
      "cell_type": "markdown",
      "source": [
        "# Data Visualization"
      ],
      "metadata": {
        "id": "LjOtpcQZo6-N"
      }
    },
    {
      "cell_type": "code",
      "source": [
        "def plots(df, variable):\n",
        "    #create Canvas\n",
        "    plt.figure(figsize=(15,5))\n",
        "    \n",
        "    #histogram\n",
        "    plt.subplot(1,2,1)\n",
        "    plt.title('Histogram ' + variable)\n",
        "    sns.histplot(db[variable], color = 'b', bins = 5)\n",
        "    \n",
        "    \n",
        "    #boxplot\n",
        "    plt.subplot(1, 2, 2)\n",
        "    plt.title('Boxplot ' + variable)\n",
        "    sns.boxplot(y=db[variable], )\n",
        "    \n",
        "\n",
        "    plt.show()\n",
        "    \n",
        "    #skewness\n",
        "    print(f'Nilai Skewness '+ variable,':', db[variable].skew())"
      ],
      "metadata": {
        "id": "WQ08zPUoo88c"
      },
      "execution_count": 7,
      "outputs": []
    },
    {
      "cell_type": "markdown",
      "source": [
        "# Data Cleaning"
      ],
      "metadata": {
        "id": "ibJxpL1tov6y"
      }
    },
    {
      "cell_type": "code",
      "source": [],
      "metadata": {
        "id": "XRpACKMRo6KT"
      },
      "execution_count": 7,
      "outputs": []
    },
    {
      "cell_type": "code",
      "source": [
        "# find a column values\n",
        "features = db.columns.values\n",
        "print(features)"
      ],
      "metadata": {
        "id": "gvEo6iCzoyBQ",
        "colab": {
          "base_uri": "https://localhost:8080/"
        },
        "outputId": "922f3cd1-cf1a-40fe-a9ea-8f0857ef19ea"
      },
      "execution_count": 8,
      "outputs": [
        {
          "output_type": "stream",
          "name": "stdout",
          "text": [
            "['kabupaten' 'provinsi' 'jumlah_penduduk' 'luas_wilayah_km2'\n",
            " 'pengeluaran_perkapita' 'umur' 'ses' 'kepadatan_penduduk' 'tpt_persen'\n",
            " 'jumlah_pasar' 'umk']\n"
          ]
        }
      ]
    },
    {
      "cell_type": "code",
      "source": [
        "# Features label\n",
        "features = db[['jumlah_penduduk', 'luas_wilayah_km2','pengeluaran_perkapita','kepadatan_penduduk','tpt_persen','jumlah_pasar','umk']]\n",
        "# looping for plot\n",
        "for i in features:\n",
        "    plots(db, i)"
      ],
      "metadata": {
        "id": "PArXFbv9oz07",
        "colab": {
          "base_uri": "https://localhost:8080/",
          "height": 1000
        },
        "outputId": "14e707e8-f15b-4390-ebb6-e76f741cebbf"
      },
      "execution_count": 9,
      "outputs": [
        {
          "output_type": "display_data",
          "data": {
            "text/plain": [
              "<Figure size 1080x360 with 2 Axes>"
            ],
            "image/png": "[encoded data removed]"
          },
          "metadata": {}
        },
        {
          "output_type": "stream",
          "name": "stdout",
          "text": [
            "Nilai Skewness jumlah_penduduk : 1.5656354557912007\n"
          ]
        },
        {
          "output_type": "display_data",
          "data": {
            "text/plain": [
              "<Figure size 1080x360 with 2 Axes>"
            ],
            "image/png": "[encoded data removed]"
          },
          "metadata": {}
        },
        {
          "output_type": "stream",
          "name": "stdout",
          "text": [
            "Nilai Skewness luas_wilayah_km2 : 10.173977967345412\n"
          ]
        },
        {
          "output_type": "display_data",
          "data": {
            "text/plain": [
              "<Figure size 1080x360 with 2 Axes>"
            ],
            "image/png": "[encoded data removed]"
          },
          "metadata": {}
        },
        {
          "output_type": "stream",
          "name": "stdout",
          "text": [
            "Nilai Skewness pengeluaran_perkapita : 1.459672908545585\n"
          ]
        },
        {
          "output_type": "display_data",
          "data": {
            "text/plain": [
              "<Figure size 1080x360 with 2 Axes>"
            ],
            "image/png": "[encoded data removed]"
          },
          "metadata": {}
        },
        {
          "output_type": "stream",
          "name": "stdout",
          "text": [
            "Nilai Skewness kepadatan_penduduk : 2.1465605810834902\n"
          ]
        },
        {
          "output_type": "display_data",
          "data": {
            "text/plain": [
              "<Figure size 1080x360 with 2 Axes>"
            ],
            "image/png": "[encoded data removed]"
          },
          "metadata": {}
        },
        {
          "output_type": "stream",
          "name": "stdout",
          "text": [
            "Nilai Skewness tpt_persen : 0.12248221702325396\n"
          ]
        },
        {
          "output_type": "display_data",
          "data": {
            "text/plain": [
              "<Figure size 1080x360 with 2 Axes>"
            ],
            "image/png": "[encoded data removed]"
          },
          "metadata": {}
        },
        {
          "output_type": "stream",
          "name": "stdout",
          "text": [
            "Nilai Skewness jumlah_pasar : 0.6019361682210871\n"
          ]
        },
        {
          "output_type": "display_data",
          "data": {
            "text/plain": [
              "<Figure size 1080x360 with 2 Axes>"
            ],
            "image/png": "[encoded data removed]"
          },
          "metadata": {}
        },
        {
          "output_type": "stream",
          "name": "stdout",
          "text": [
            "Nilai Skewness umk : 1.70604434979157\n"
          ]
        }
      ]
    },
    {
      "cell_type": "markdown",
      "source": [
        "- Dalam analisis outlier. Dilihat hampir semua feature memiliki ooutlier. Akan tetapi dikarenakan jumlah data yang sedikit dan outlier merupakan normally outliers maka tidak akan diberlakukan handling."
      ],
      "metadata": {
        "id": "uu3am80OyxqZ"
      }
    },
    {
      "cell_type": "markdown",
      "source": [
        "- saya telah melakukan handling outlier dengan trimming untuk beberapa feature dan menghasilkan semua data terhapus. Tidak bisa menggunakan capping karena data tidak melebihi 30% outlier yang ada. sehingga tidak diberlakukannya handling outliers\n",
        "\n",
        "**If i handling Outliers :**\n",
        "\n",
        "![image.png](data:image/png;base64,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)"
      ],
      "metadata": {
        "id": "wpEzWiIO6Hrp"
      }
    },
    {
      "cell_type": "markdown",
      "source": [
        "# DATA PROCESSING"
      ],
      "metadata": {
        "id": "jAblfR-WQEUw"
      }
    },
    {
      "cell_type": "code",
      "source": [
        "num_columns = db.select_dtypes(include=np.number).columns.tolist()\n",
        "cat_columns = db.select_dtypes(include=['object']).columns.tolist()\n",
        "print(f'Number Columns : ', num_columns)\n",
        "print(f'Categorical Columns : ', cat_columns)"
      ],
      "metadata": {
        "id": "_ZUkrv4CQftL",
        "colab": {
          "base_uri": "https://localhost:8080/"
        },
        "outputId": "17112355-082f-43d6-977f-be8806393b2b"
      },
      "execution_count": 10,
      "outputs": [
        {
          "output_type": "stream",
          "name": "stdout",
          "text": [
            "Number Columns :  ['jumlah_penduduk', 'luas_wilayah_km2', 'pengeluaran_perkapita', 'kepadatan_penduduk', 'tpt_persen', 'jumlah_pasar', 'umk']\n",
            "Categorical Columns :  ['kabupaten', 'provinsi', 'umur', 'ses']\n"
          ]
        }
      ]
    },
    {
      "cell_type": "code",
      "source": [
        "scaler = MinMaxScaler()\n",
        "\n",
        "# fit and transform the num_columns\n",
        "scaled_num_columns = scaler.fit_transform(db[['jumlah_penduduk', 'luas_wilayah_km2', 'pengeluaran_perkapita', 'kepadatan_penduduk', 'tpt_persen', 'jumlah_pasar', 'umk']])\n",
        "data_scaler = scaler.transform(db[['jumlah_penduduk', 'luas_wilayah_km2', 'pengeluaran_perkapita', 'kepadatan_penduduk', 'tpt_persen', 'jumlah_pasar', 'umk']])\n",
        "data_model_scaler= pd.DataFrame(data_scaler, columns= num_columns)\n",
        "data_model_scaler"
      ],
      "metadata": {
        "id": "nPV-Jxl6goSa",
        "colab": {
          "base_uri": "https://localhost:8080/",
          "height": 424
        },
        "outputId": "b8f40532-d18a-4f4b-e411-09c73cfa4766"
      },
      "execution_count": 11,
      "outputs": [
        {
          "output_type": "execute_result",
          "data": {
            "text/plain": [
              "     jumlah_penduduk  luas_wilayah_km2  pengeluaran_perkapita  \\\n",
              "0           0.000000          0.000000               0.250698   \n",
              "1           0.403863          0.000336               0.830523   \n",
              "2           0.554458          0.000402               0.624117   \n",
              "3           0.190105          0.000098               0.675365   \n",
              "4           0.441623          0.000266               0.692550   \n",
              "..               ...               ...                    ...   \n",
              "106         0.464487          0.000458               0.822428   \n",
              "107         0.376778          0.000443               0.739742   \n",
              "108         0.099499          0.000068               0.524439   \n",
              "109         0.127384          0.000376               0.291823   \n",
              "110         0.032076          0.000241               0.191892   \n",
              "\n",
              "     kepadatan_penduduk  tpt_persen  jumlah_pasar       umk  \n",
              "0              0.118805    0.754777      0.000000  0.499504  \n",
              "1              0.705116    0.453291      0.284211  0.844835  \n",
              "2              0.818059    0.746285      0.357895  0.701488  \n",
              "3              1.000000    0.479830      0.484211  0.635507  \n",
              "4              0.962319    0.609342      0.200000  0.748790  \n",
              "..                  ...         ...           ...       ...  \n",
              "106            0.601844    0.790870      0.147368  0.580916  \n",
              "107            0.501679    0.685775      0.115789  0.496113  \n",
              "108            0.709175    0.998938      0.042105  0.283073  \n",
              "109            0.191161    0.558386      0.105263  0.107698  \n",
              "110            0.069600    0.442675      0.084211  0.005185  \n",
              "\n",
              "[111 rows x 7 columns]"
            ],
            "text/html": [
              "\n",
              "  <div id=\"df-92bf3406-442b-44b8-9cb0-81eb0ab71bb4\">\n",
              "    <div class=\"colab-df-container\">\n",
              "      <div>\n",
              "<style scoped>\n",
              "    .dataframe tbody tr th:only-of-type {\n",
              "        vertical-align: middle;\n",
              "    }\n",
              "\n",
              "    .dataframe tbody tr th {\n",
              "        vertical-align: top;\n",
              "    }\n",
              "\n",
              "    .dataframe thead th {\n",
              "        text-align: right;\n",
              "    }\n",
              "</style>\n",
              "<table border=\"1\" class=\"dataframe\">\n",
              "  <thead>\n",
              "    <tr style=\"text-align: right;\">\n",
              "      <th></th>\n",
              "      <th>jumlah_penduduk</th>\n",
              "      <th>luas_wilayah_km2</th>\n",
              "      <th>pengeluaran_perkapita</th>\n",
              "      <th>kepadatan_penduduk</th>\n",
              "      <th>tpt_persen</th>\n",
              "      <th>jumlah_pasar</th>\n",
              "      <th>umk</th>\n",
              "    </tr>\n",
              "  </thead>\n",
              "  <tbody>\n",
              "    <tr>\n",
              "      <th>0</th>\n",
              "      <td>0.000000</td>\n",
              "      <td>0.000000</td>\n",
              "      <td>0.250698</td>\n",
              "      <td>0.118805</td>\n",
              "      <td>0.754777</td>\n",
              "      <td>0.000000</td>\n",
              "      <td>0.499504</td>\n",
              "    </tr>\n",
              "    <tr>\n",
              "      <th>1</th>\n",
              "      <td>0.403863</td>\n",
              "      <td>0.000336</td>\n",
              "      <td>0.830523</td>\n",
              "      <td>0.705116</td>\n",
              "      <td>0.453291</td>\n",
              "      <td>0.284211</td>\n",
              "      <td>0.844835</td>\n",
              "    </tr>\n",
              "    <tr>\n",
              "      <th>2</th>\n",
              "      <td>0.554458</td>\n",
              "      <td>0.000402</td>\n",
              "      <td>0.624117</td>\n",
              "      <td>0.818059</td>\n",
              "      <td>0.746285</td>\n",
              "      <td>0.357895</td>\n",
              "      <td>0.701488</td>\n",
              "    </tr>\n",
              "    <tr>\n",
              "      <th>3</th>\n",
              "      <td>0.190105</td>\n",
              "      <td>0.000098</td>\n",
              "      <td>0.675365</td>\n",
              "      <td>1.000000</td>\n",
              "      <td>0.479830</td>\n",
              "      <td>0.484211</td>\n",
              "      <td>0.635507</td>\n",
              "    </tr>\n",
              "    <tr>\n",
              "      <th>4</th>\n",
              "      <td>0.441623</td>\n",
              "      <td>0.000266</td>\n",
              "      <td>0.692550</td>\n",
              "      <td>0.962319</td>\n",
              "      <td>0.609342</td>\n",
              "      <td>0.200000</td>\n",
              "      <td>0.748790</td>\n",
              "    </tr>\n",
              "    <tr>\n",
              "      <th>...</th>\n",
              "      <td>...</td>\n",
              "      <td>...</td>\n",
              "      <td>...</td>\n",
              "      <td>...</td>\n",
              "      <td>...</td>\n",
              "      <td>...</td>\n",
              "      <td>...</td>\n",
              "    </tr>\n",
              "    <tr>\n",
              "      <th>106</th>\n",
              "      <td>0.464487</td>\n",
              "      <td>0.000458</td>\n",
              "      <td>0.822428</td>\n",
              "      <td>0.601844</td>\n",
              "      <td>0.790870</td>\n",
              "      <td>0.147368</td>\n",
              "      <td>0.580916</td>\n",
              "    </tr>\n",
              "    <tr>\n",
              "      <th>107</th>\n",
              "      <td>0.376778</td>\n",
              "      <td>0.000443</td>\n",
              "      <td>0.739742</td>\n",
              "      <td>0.501679</td>\n",
              "      <td>0.685775</td>\n",
              "      <td>0.115789</td>\n",
              "      <td>0.496113</td>\n",
              "    </tr>\n",
              "    <tr>\n",
              "      <th>108</th>\n",
              "      <td>0.099499</td>\n",
              "      <td>0.000068</td>\n",
              "      <td>0.524439</td>\n",
              "      <td>0.709175</td>\n",
              "      <td>0.998938</td>\n",
              "      <td>0.042105</td>\n",
              "      <td>0.283073</td>\n",
              "    </tr>\n",
              "    <tr>\n",
              "      <th>109</th>\n",
              "      <td>0.127384</td>\n",
              "      <td>0.000376</td>\n",
              "      <td>0.291823</td>\n",
              "      <td>0.191161</td>\n",
              "      <td>0.558386</td>\n",
              "      <td>0.105263</td>\n",
              "      <td>0.107698</td>\n",
              "    </tr>\n",
              "    <tr>\n",
              "      <th>110</th>\n",
              "      <td>0.032076</td>\n",
              "      <td>0.000241</td>\n",
              "      <td>0.191892</td>\n",
              "      <td>0.069600</td>\n",
              "      <td>0.442675</td>\n",
              "      <td>0.084211</td>\n",
              "      <td>0.005185</td>\n",
              "    </tr>\n",
              "  </tbody>\n",
              "</table>\n",
              "<p>111 rows × 7 columns</p>\n",
              "</div>\n",
              "      <button class=\"colab-df-convert\" onclick=\"convertToInteractive('df-92bf3406-442b-44b8-9cb0-81eb0ab71bb4')\"\n",
              "              title=\"Convert this dataframe to an interactive table.\"\n",
              "              style=\"display:none;\">\n",
              "        \n",
              "  <svg xmlns=\"http://www.w3.org/2000/svg\" height=\"24px\"viewBox=\"0 0 24 24\"\n",
              "       width=\"24px\">\n",
              "    <path d=\"M0 0h24v24H0V0z\" fill=\"none\"/>\n",
              "    <path d=\"M18.56 5.44l.94 2.06.94-2.06 2.06-.94-2.06-.94-.94-2.06-.94 2.06-2.06.94zm-11 1L8.5 8.5l.94-2.06 2.06-.94-2.06-.94L8.5 2.5l-.94 2.06-2.06.94zm10 10l.94 2.06.94-2.06 2.06-.94-2.06-.94-.94-2.06-.94 2.06-2.06.94z\"/><path d=\"M17.41 7.96l-1.37-1.37c-.4-.4-.92-.59-1.43-.59-.52 0-1.04.2-1.43.59L10.3 9.45l-7.72 7.72c-.78.78-.78 2.05 0 2.83L4 21.41c.39.39.9.59 1.41.59.51 0 1.02-.2 1.41-.59l7.78-7.78 2.81-2.81c.8-.78.8-2.07 0-2.86zM5.41 20L4 18.59l7.72-7.72 1.47 1.35L5.41 20z\"/>\n",
              "  </svg>\n",
              "      </button>\n",
              "      \n",
              "  <style>\n",
              "    .colab-df-container {\n",
              "      display:flex;\n",
              "      flex-wrap:wrap;\n",
              "      gap: 12px;\n",
              "    }\n",
              "\n",
              "    .colab-df-convert {\n",
              "      background-color: #E8F0FE;\n",
              "      border: none;\n",
              "      border-radius: 50%;\n",
              "      cursor: pointer;\n",
              "      display: none;\n",
              "      fill: #1967D2;\n",
              "      height: 32px;\n",
              "      padding: 0 0 0 0;\n",
              "      width: 32px;\n",
              "    }\n",
              "\n",
              "    .colab-df-convert:hover {\n",
              "      background-color: #E2EBFA;\n",
              "      box-shadow: 0px 1px 2px rgba(60, 64, 67, 0.3), 0px 1px 3px 1px rgba(60, 64, 67, 0.15);\n",
              "      fill: #174EA6;\n",
              "    }\n",
              "\n",
              "    [theme=dark] .colab-df-convert {\n",
              "      background-color: #3B4455;\n",
              "      fill: #D2E3FC;\n",
              "    }\n",
              "\n",
              "    [theme=dark] .colab-df-convert:hover {\n",
              "      background-color: #434B5C;\n",
              "      box-shadow: 0px 1px 3px 1px rgba(0, 0, 0, 0.15);\n",
              "      filter: drop-shadow(0px 1px 2px rgba(0, 0, 0, 0.3));\n",
              "      fill: #FFFFFF;\n",
              "    }\n",
              "  </style>\n",
              "\n",
              "      <script>\n",
              "        const buttonEl =\n",
              "          document.querySelector('#df-92bf3406-442b-44b8-9cb0-81eb0ab71bb4 button.colab-df-convert');\n",
              "        buttonEl.style.display =\n",
              "          google.colab.kernel.accessAllowed ? 'block' : 'none';\n",
              "\n",
              "        async function convertToInteractive(key) {\n",
              "          const element = document.querySelector('#df-92bf3406-442b-44b8-9cb0-81eb0ab71bb4');\n",
              "          const dataTable =\n",
              "            await google.colab.kernel.invokeFunction('convertToInteractive',\n",
              "                                                     [key], {});\n",
              "          if (!dataTable) return;\n",
              "\n",
              "          const docLinkHtml = 'Like what you see? Visit the ' +\n",
              "            '<a target=\"_blank\" href=https://colab.research.google.com/notebooks/data_table.ipynb>data table notebook</a>'\n",
              "            + ' to learn more about interactive tables.';\n",
              "          element.innerHTML = '';\n",
              "          dataTable['output_type'] = 'display_data';\n",
              "          await google.colab.output.renderOutput(dataTable, element);\n",
              "          const docLink = document.createElement('div');\n",
              "          docLink.innerHTML = docLinkHtml;\n",
              "          element.appendChild(docLink);\n",
              "        }\n",
              "      </script>\n",
              "    </div>\n",
              "  </div>\n",
              "  "
            ]
          },
          "metadata": {},
          "execution_count": 11
        }
      ]
    },
    {
      "cell_type": "code",
      "source": [
        "encode = OrdinalEncoder()\n",
        "encode_num_columns = encode.fit_transform(db[['kabupaten', 'provinsi', 'umur', 'ses']])\n",
        "data_encode = encode.transform(db[['kabupaten', 'provinsi', 'umur', 'ses']])\n",
        "data_model_encode= pd.DataFrame(data_encode, columns= cat_columns)\n",
        "data_model_encode"
      ],
      "metadata": {
        "id": "H3tO2_pCh7ys",
        "colab": {
          "base_uri": "https://localhost:8080/",
          "height": 424
        },
        "outputId": "ab3bc075-d832-4676-ef12-222819f5e5d2"
      },
      "execution_count": 12,
      "outputs": [
        {
          "output_type": "execute_result",
          "data": {
            "text/plain": [
              "     kabupaten  provinsi  umur  ses\n",
              "0         78.0       0.0   8.0  2.0\n",
              "1         16.0       0.0   5.0  0.0\n",
              "2         17.0       0.0   4.0  0.0\n",
              "3         15.0       0.0   5.0  0.0\n",
              "4         14.0       0.0   4.0  0.0\n",
              "..         ...       ...   ...  ...\n",
              "106        4.0       1.0   2.0  0.0\n",
              "107       10.0       1.0   4.0  0.0\n",
              "108        8.0       1.0   2.0  1.0\n",
              "109      104.0       1.0   1.0  2.0\n",
              "110        2.0       1.0   1.0  2.0\n",
              "\n",
              "[111 rows x 4 columns]"
            ],
            "text/html": [
              "\n",
              "  <div id=\"df-28ae1d3b-4b26-495e-bbed-f77ab8f03b3d\">\n",
              "    <div class=\"colab-df-container\">\n",
              "      <div>\n",
              "<style scoped>\n",
              "    .dataframe tbody tr th:only-of-type {\n",
              "        vertical-align: middle;\n",
              "    }\n",
              "\n",
              "    .dataframe tbody tr th {\n",
              "        vertical-align: top;\n",
              "    }\n",
              "\n",
              "    .dataframe thead th {\n",
              "        text-align: right;\n",
              "    }\n",
              "</style>\n",
              "<table border=\"1\" class=\"dataframe\">\n",
              "  <thead>\n",
              "    <tr style=\"text-align: right;\">\n",
              "      <th></th>\n",
              "      <th>kabupaten</th>\n",
              "      <th>provinsi</th>\n",
              "      <th>umur</th>\n",
              "      <th>ses</th>\n",
              "    </tr>\n",
              "  </thead>\n",
              "  <tbody>\n",
              "    <tr>\n",
              "      <th>0</th>\n",
              "      <td>78.0</td>\n",
              "      <td>0.0</td>\n",
              "      <td>8.0</td>\n",
              "      <td>2.0</td>\n",
              "    </tr>\n",
              "    <tr>\n",
              "      <th>1</th>\n",
              "      <td>16.0</td>\n",
              "      <td>0.0</td>\n",
              "      <td>5.0</td>\n",
              "      <td>0.0</td>\n",
              "    </tr>\n",
              "    <tr>\n",
              "      <th>2</th>\n",
              "      <td>17.0</td>\n",
              "      <td>0.0</td>\n",
              "      <td>4.0</td>\n",
              "      <td>0.0</td>\n",
              "    </tr>\n",
              "    <tr>\n",
              "      <th>3</th>\n",
              "      <td>15.0</td>\n",
              "      <td>0.0</td>\n",
              "      <td>5.0</td>\n",
              "      <td>0.0</td>\n",
              "    </tr>\n",
              "    <tr>\n",
              "      <th>4</th>\n",
              "      <td>14.0</td>\n",
              "      <td>0.0</td>\n",
              "      <td>4.0</td>\n",
              "      <td>0.0</td>\n",
              "    </tr>\n",
              "    <tr>\n",
              "      <th>...</th>\n",
              "      <td>...</td>\n",
              "      <td>...</td>\n",
              "      <td>...</td>\n",
              "      <td>...</td>\n",
              "    </tr>\n",
              "    <tr>\n",
              "      <th>106</th>\n",
              "      <td>4.0</td>\n",
              "      <td>1.0</td>\n",
              "      <td>2.0</td>\n",
              "      <td>0.0</td>\n",
              "    </tr>\n",
              "    <tr>\n",
              "      <th>107</th>\n",
              "      <td>10.0</td>\n",
              "      <td>1.0</td>\n",
              "      <td>4.0</td>\n",
              "      <td>0.0</td>\n",
              "    </tr>\n",
              "    <tr>\n",
              "      <th>108</th>\n",
              "      <td>8.0</td>\n",
              "      <td>1.0</td>\n",
              "      <td>2.0</td>\n",
              "      <td>1.0</td>\n",
              "    </tr>\n",
              "    <tr>\n",
              "      <th>109</th>\n",
              "      <td>104.0</td>\n",
              "      <td>1.0</td>\n",
              "      <td>1.0</td>\n",
              "      <td>2.0</td>\n",
              "    </tr>\n",
              "    <tr>\n",
              "      <th>110</th>\n",
              "      <td>2.0</td>\n",
              "      <td>1.0</td>\n",
              "      <td>1.0</td>\n",
              "      <td>2.0</td>\n",
              "    </tr>\n",
              "  </tbody>\n",
              "</table>\n",
              "<p>111 rows × 4 columns</p>\n",
              "</div>\n",
              "      <button class=\"colab-df-convert\" onclick=\"convertToInteractive('df-28ae1d3b-4b26-495e-bbed-f77ab8f03b3d')\"\n",
              "              title=\"Convert this dataframe to an interactive table.\"\n",
              "              style=\"display:none;\">\n",
              "        \n",
              "  <svg xmlns=\"http://www.w3.org/2000/svg\" height=\"24px\"viewBox=\"0 0 24 24\"\n",
              "       width=\"24px\">\n",
              "    <path d=\"M0 0h24v24H0V0z\" fill=\"none\"/>\n",
              "    <path d=\"M18.56 5.44l.94 2.06.94-2.06 2.06-.94-2.06-.94-.94-2.06-.94 2.06-2.06.94zm-11 1L8.5 8.5l.94-2.06 2.06-.94-2.06-.94L8.5 2.5l-.94 2.06-2.06.94zm10 10l.94 2.06.94-2.06 2.06-.94-2.06-.94-.94-2.06-.94 2.06-2.06.94z\"/><path d=\"M17.41 7.96l-1.37-1.37c-.4-.4-.92-.59-1.43-.59-.52 0-1.04.2-1.43.59L10.3 9.45l-7.72 7.72c-.78.78-.78 2.05 0 2.83L4 21.41c.39.39.9.59 1.41.59.51 0 1.02-.2 1.41-.59l7.78-7.78 2.81-2.81c.8-.78.8-2.07 0-2.86zM5.41 20L4 18.59l7.72-7.72 1.47 1.35L5.41 20z\"/>\n",
              "  </svg>\n",
              "      </button>\n",
              "      \n",
              "  <style>\n",
              "    .colab-df-container {\n",
              "      display:flex;\n",
              "      flex-wrap:wrap;\n",
              "      gap: 12px;\n",
              "    }\n",
              "\n",
              "    .colab-df-convert {\n",
              "      background-color: #E8F0FE;\n",
              "      border: none;\n",
              "      border-radius: 50%;\n",
              "      cursor: pointer;\n",
              "      display: none;\n",
              "      fill: #1967D2;\n",
              "      height: 32px;\n",
              "      padding: 0 0 0 0;\n",
              "      width: 32px;\n",
              "    }\n",
              "\n",
              "    .colab-df-convert:hover {\n",
              "      background-color: #E2EBFA;\n",
              "      box-shadow: 0px 1px 2px rgba(60, 64, 67, 0.3), 0px 1px 3px 1px rgba(60, 64, 67, 0.15);\n",
              "      fill: #174EA6;\n",
              "    }\n",
              "\n",
              "    [theme=dark] .colab-df-convert {\n",
              "      background-color: #3B4455;\n",
              "      fill: #D2E3FC;\n",
              "    }\n",
              "\n",
              "    [theme=dark] .colab-df-convert:hover {\n",
              "      background-color: #434B5C;\n",
              "      box-shadow: 0px 1px 3px 1px rgba(0, 0, 0, 0.15);\n",
              "      filter: drop-shadow(0px 1px 2px rgba(0, 0, 0, 0.3));\n",
              "      fill: #FFFFFF;\n",
              "    }\n",
              "  </style>\n",
              "\n",
              "      <script>\n",
              "        const buttonEl =\n",
              "          document.querySelector('#df-28ae1d3b-4b26-495e-bbed-f77ab8f03b3d button.colab-df-convert');\n",
              "        buttonEl.style.display =\n",
              "          google.colab.kernel.accessAllowed ? 'block' : 'none';\n",
              "\n",
              "        async function convertToInteractive(key) {\n",
              "          const element = document.querySelector('#df-28ae1d3b-4b26-495e-bbed-f77ab8f03b3d');\n",
              "          const dataTable =\n",
              "            await google.colab.kernel.invokeFunction('convertToInteractive',\n",
              "                                                     [key], {});\n",
              "          if (!dataTable) return;\n",
              "\n",
              "          const docLinkHtml = 'Like what you see? Visit the ' +\n",
              "            '<a target=\"_blank\" href=https://colab.research.google.com/notebooks/data_table.ipynb>data table notebook</a>'\n",
              "            + ' to learn more about interactive tables.';\n",
              "          element.innerHTML = '';\n",
              "          dataTable['output_type'] = 'display_data';\n",
              "          await google.colab.output.renderOutput(dataTable, element);\n",
              "          const docLink = document.createElement('div');\n",
              "          docLink.innerHTML = docLinkHtml;\n",
              "          element.appendChild(docLink);\n",
              "        }\n",
              "      </script>\n",
              "    </div>\n",
              "  </div>\n",
              "  "
            ]
          },
          "metadata": {},
          "execution_count": 12
        }
      ]
    },
    {
      "cell_type": "code",
      "source": [
        "data_final = pd.concat([data_model_scaler, data_model_encode], axis = 1)\n",
        "data_final"
      ],
      "metadata": {
        "id": "y3rb24UgjAbJ",
        "colab": {
          "base_uri": "https://localhost:8080/",
          "height": 488
        },
        "outputId": "d0f6133e-cc90-4997-e1e3-adfa159562c2"
      },
      "execution_count": 13,
      "outputs": [
        {
          "output_type": "execute_result",
          "data": {
            "text/plain": [
              "     jumlah_penduduk  luas_wilayah_km2  pengeluaran_perkapita  \\\n",
              "0           0.000000          0.000000               0.250698   \n",
              "1           0.403863          0.000336               0.830523   \n",
              "2           0.554458          0.000402               0.624117   \n",
              "3           0.190105          0.000098               0.675365   \n",
              "4           0.441623          0.000266               0.692550   \n",
              "..               ...               ...                    ...   \n",
              "106         0.464487          0.000458               0.822428   \n",
              "107         0.376778          0.000443               0.739742   \n",
              "108         0.099499          0.000068               0.524439   \n",
              "109         0.127384          0.000376               0.291823   \n",
              "110         0.032076          0.000241               0.191892   \n",
              "\n",
              "     kepadatan_penduduk  tpt_persen  jumlah_pasar       umk  kabupaten  \\\n",
              "0              0.118805    0.754777      0.000000  0.499504       78.0   \n",
              "1              0.705116    0.453291      0.284211  0.844835       16.0   \n",
              "2              0.818059    0.746285      0.357895  0.701488       17.0   \n",
              "3              1.000000    0.479830      0.484211  0.635507       15.0   \n",
              "4              0.962319    0.609342      0.200000  0.748790       14.0   \n",
              "..                  ...         ...           ...       ...        ...   \n",
              "106            0.601844    0.790870      0.147368  0.580916        4.0   \n",
              "107            0.501679    0.685775      0.115789  0.496113       10.0   \n",
              "108            0.709175    0.998938      0.042105  0.283073        8.0   \n",
              "109            0.191161    0.558386      0.105263  0.107698      104.0   \n",
              "110            0.069600    0.442675      0.084211  0.005185        2.0   \n",
              "\n",
              "     provinsi  umur  ses  \n",
              "0         0.0   8.0  2.0  \n",
              "1         0.0   5.0  0.0  \n",
              "2         0.0   4.0  0.0  \n",
              "3         0.0   5.0  0.0  \n",
              "4         0.0   4.0  0.0  \n",
              "..        ...   ...  ...  \n",
              "106       1.0   2.0  0.0  \n",
              "107       1.0   4.0  0.0  \n",
              "108       1.0   2.0  1.0  \n",
              "109       1.0   1.0  2.0  \n",
              "110       1.0   1.0  2.0  \n",
              "\n",
              "[111 rows x 11 columns]"
            ],
            "text/html": [
              "\n",
              "  <div id=\"df-ac278c51-ecea-4538-8d58-2c4371eecf70\">\n",
              "    <div class=\"colab-df-container\">\n",
              "      <div>\n",
              "<style scoped>\n",
              "    .dataframe tbody tr th:only-of-type {\n",
              "        vertical-align: middle;\n",
              "    }\n",
              "\n",
              "    .dataframe tbody tr th {\n",
              "        vertical-align: top;\n",
              "    }\n",
              "\n",
              "    .dataframe thead th {\n",
              "        text-align: right;\n",
              "    }\n",
              "</style>\n",
              "<table border=\"1\" class=\"dataframe\">\n",
              "  <thead>\n",
              "    <tr style=\"text-align: right;\">\n",
              "      <th></th>\n",
              "      <th>jumlah_penduduk</th>\n",
              "      <th>luas_wilayah_km2</th>\n",
              "      <th>pengeluaran_perkapita</th>\n",
              "      <th>kepadatan_penduduk</th>\n",
              "      <th>tpt_persen</th>\n",
              "      <th>jumlah_pasar</th>\n",
              "      <th>umk</th>\n",
              "      <th>kabupaten</th>\n",
              "      <th>provinsi</th>\n",
              "      <th>umur</th>\n",
              "      <th>ses</th>\n",
              "    </tr>\n",
              "  </thead>\n",
              "  <tbody>\n",
              "    <tr>\n",
              "      <th>0</th>\n",
              "      <td>0.000000</td>\n",
              "      <td>0.000000</td>\n",
              "      <td>0.250698</td>\n",
              "      <td>0.118805</td>\n",
              "      <td>0.754777</td>\n",
              "      <td>0.000000</td>\n",
              "      <td>0.499504</td>\n",
              "      <td>78.0</td>\n",
              "      <td>0.0</td>\n",
              "      <td>8.0</td>\n",
              "      <td>2.0</td>\n",
              "    </tr>\n",
              "    <tr>\n",
              "      <th>1</th>\n",
              "      <td>0.403863</td>\n",
              "      <td>0.000336</td>\n",
              "      <td>0.830523</td>\n",
              "      <td>0.705116</td>\n",
              "      <td>0.453291</td>\n",
              "      <td>0.284211</td>\n",
              "      <td>0.844835</td>\n",
              "      <td>16.0</td>\n",
              "      <td>0.0</td>\n",
              "      <td>5.0</td>\n",
              "      <td>0.0</td>\n",
              "    </tr>\n",
              "    <tr>\n",
              "      <th>2</th>\n",
              "      <td>0.554458</td>\n",
              "      <td>0.000402</td>\n",
              "      <td>0.624117</td>\n",
              "      <td>0.818059</td>\n",
              "      <td>0.746285</td>\n",
              "      <td>0.357895</td>\n",
              "      <td>0.701488</td>\n",
              "      <td>17.0</td>\n",
              "      <td>0.0</td>\n",
              "      <td>4.0</td>\n",
              "      <td>0.0</td>\n",
              "    </tr>\n",
              "    <tr>\n",
              "      <th>3</th>\n",
              "      <td>0.190105</td>\n",
              "      <td>0.000098</td>\n",
              "      <td>0.675365</td>\n",
              "      <td>1.000000</td>\n",
              "      <td>0.479830</td>\n",
              "      <td>0.484211</td>\n",
              "      <td>0.635507</td>\n",
              "      <td>15.0</td>\n",
              "      <td>0.0</td>\n",
              "      <td>5.0</td>\n",
              "      <td>0.0</td>\n",
              "    </tr>\n",
              "    <tr>\n",
              "      <th>4</th>\n",
              "      <td>0.441623</td>\n",
              "      <td>0.000266</td>\n",
              "      <td>0.692550</td>\n",
              "      <td>0.962319</td>\n",
              "      <td>0.609342</td>\n",
              "      <td>0.200000</td>\n",
              "      <td>0.748790</td>\n",
              "      <td>14.0</td>\n",
              "      <td>0.0</td>\n",
              "      <td>4.0</td>\n",
              "      <td>0.0</td>\n",
              "    </tr>\n",
              "    <tr>\n",
              "      <th>...</th>\n",
              "      <td>...</td>\n",
              "      <td>...</td>\n",
              "      <td>...</td>\n",
              "      <td>...</td>\n",
              "      <td>...</td>\n",
              "      <td>...</td>\n",
              "      <td>...</td>\n",
              "      <td>...</td>\n",
              "      <td>...</td>\n",
              "      <td>...</td>\n",
              "      <td>...</td>\n",
              "    </tr>\n",
              "    <tr>\n",
              "      <th>106</th>\n",
              "      <td>0.464487</td>\n",
              "      <td>0.000458</td>\n",
              "      <td>0.822428</td>\n",
              "      <td>0.601844</td>\n",
              "      <td>0.790870</td>\n",
              "      <td>0.147368</td>\n",
              "      <td>0.580916</td>\n",
              "      <td>4.0</td>\n",
              "      <td>1.0</td>\n",
              "      <td>2.0</td>\n",
              "      <td>0.0</td>\n",
              "    </tr>\n",
              "    <tr>\n",
              "      <th>107</th>\n",
              "      <td>0.376778</td>\n",
              "      <td>0.000443</td>\n",
              "      <td>0.739742</td>\n",
              "      <td>0.501679</td>\n",
              "      <td>0.685775</td>\n",
              "      <td>0.115789</td>\n",
              "      <td>0.496113</td>\n",
              "      <td>10.0</td>\n",
              "      <td>1.0</td>\n",
              "      <td>4.0</td>\n",
              "      <td>0.0</td>\n",
              "    </tr>\n",
              "    <tr>\n",
              "      <th>108</th>\n",
              "      <td>0.099499</td>\n",
              "      <td>0.000068</td>\n",
              "      <td>0.524439</td>\n",
              "      <td>0.709175</td>\n",
              "      <td>0.998938</td>\n",
              "      <td>0.042105</td>\n",
              "      <td>0.283073</td>\n",
              "      <td>8.0</td>\n",
              "      <td>1.0</td>\n",
              "      <td>2.0</td>\n",
              "      <td>1.0</td>\n",
              "    </tr>\n",
              "    <tr>\n",
              "      <th>109</th>\n",
              "      <td>0.127384</td>\n",
              "      <td>0.000376</td>\n",
              "      <td>0.291823</td>\n",
              "      <td>0.191161</td>\n",
              "      <td>0.558386</td>\n",
              "      <td>0.105263</td>\n",
              "      <td>0.107698</td>\n",
              "      <td>104.0</td>\n",
              "      <td>1.0</td>\n",
              "      <td>1.0</td>\n",
              "      <td>2.0</td>\n",
              "    </tr>\n",
              "    <tr>\n",
              "      <th>110</th>\n",
              "      <td>0.032076</td>\n",
              "      <td>0.000241</td>\n",
              "      <td>0.191892</td>\n",
              "      <td>0.069600</td>\n",
              "      <td>0.442675</td>\n",
              "      <td>0.084211</td>\n",
              "      <td>0.005185</td>\n",
              "      <td>2.0</td>\n",
              "      <td>1.0</td>\n",
              "      <td>1.0</td>\n",
              "      <td>2.0</td>\n",
              "    </tr>\n",
              "  </tbody>\n",
              "</table>\n",
              "<p>111 rows × 11 columns</p>\n",
              "</div>\n",
              "      <button class=\"colab-df-convert\" onclick=\"convertToInteractive('df-ac278c51-ecea-4538-8d58-2c4371eecf70')\"\n",
              "              title=\"Convert this dataframe to an interactive table.\"\n",
              "              style=\"display:none;\">\n",
              "        \n",
              "  <svg xmlns=\"http://www.w3.org/2000/svg\" height=\"24px\"viewBox=\"0 0 24 24\"\n",
              "       width=\"24px\">\n",
              "    <path d=\"M0 0h24v24H0V0z\" fill=\"none\"/>\n",
              "    <path d=\"M18.56 5.44l.94 2.06.94-2.06 2.06-.94-2.06-.94-.94-2.06-.94 2.06-2.06.94zm-11 1L8.5 8.5l.94-2.06 2.06-.94-2.06-.94L8.5 2.5l-.94 2.06-2.06.94zm10 10l.94 2.06.94-2.06 2.06-.94-2.06-.94-.94-2.06-.94 2.06-2.06.94z\"/><path d=\"M17.41 7.96l-1.37-1.37c-.4-.4-.92-.59-1.43-.59-.52 0-1.04.2-1.43.59L10.3 9.45l-7.72 7.72c-.78.78-.78 2.05 0 2.83L4 21.41c.39.39.9.59 1.41.59.51 0 1.02-.2 1.41-.59l7.78-7.78 2.81-2.81c.8-.78.8-2.07 0-2.86zM5.41 20L4 18.59l7.72-7.72 1.47 1.35L5.41 20z\"/>\n",
              "  </svg>\n",
              "      </button>\n",
              "      \n",
              "  <style>\n",
              "    .colab-df-container {\n",
              "      display:flex;\n",
              "      flex-wrap:wrap;\n",
              "      gap: 12px;\n",
              "    }\n",
              "\n",
              "    .colab-df-convert {\n",
              "      background-color: #E8F0FE;\n",
              "      border: none;\n",
              "      border-radius: 50%;\n",
              "      cursor: pointer;\n",
              "      display: none;\n",
              "      fill: #1967D2;\n",
              "      height: 32px;\n",
              "      padding: 0 0 0 0;\n",
              "      width: 32px;\n",
              "    }\n",
              "\n",
              "    .colab-df-convert:hover {\n",
              "      background-color: #E2EBFA;\n",
              "      box-shadow: 0px 1px 2px rgba(60, 64, 67, 0.3), 0px 1px 3px 1px rgba(60, 64, 67, 0.15);\n",
              "      fill: #174EA6;\n",
              "    }\n",
              "\n",
              "    [theme=dark] .colab-df-convert {\n",
              "      background-color: #3B4455;\n",
              "      fill: #D2E3FC;\n",
              "    }\n",
              "\n",
              "    [theme=dark] .colab-df-convert:hover {\n",
              "      background-color: #434B5C;\n",
              "      box-shadow: 0px 1px 3px 1px rgba(0, 0, 0, 0.15);\n",
              "      filter: drop-shadow(0px 1px 2px rgba(0, 0, 0, 0.3));\n",
              "      fill: #FFFFFF;\n",
              "    }\n",
              "  </style>\n",
              "\n",
              "      <script>\n",
              "        const buttonEl =\n",
              "          document.querySelector('#df-ac278c51-ecea-4538-8d58-2c4371eecf70 button.colab-df-convert');\n",
              "        buttonEl.style.display =\n",
              "          google.colab.kernel.accessAllowed ? 'block' : 'none';\n",
              "\n",
              "        async function convertToInteractive(key) {\n",
              "          const element = document.querySelector('#df-ac278c51-ecea-4538-8d58-2c4371eecf70');\n",
              "          const dataTable =\n",
              "            await google.colab.kernel.invokeFunction('convertToInteractive',\n",
              "                                                     [key], {});\n",
              "          if (!dataTable) return;\n",
              "\n",
              "          const docLinkHtml = 'Like what you see? Visit the ' +\n",
              "            '<a target=\"_blank\" href=https://colab.research.google.com/notebooks/data_table.ipynb>data table notebook</a>'\n",
              "            + ' to learn more about interactive tables.';\n",
              "          element.innerHTML = '';\n",
              "          dataTable['output_type'] = 'display_data';\n",
              "          await google.colab.output.renderOutput(dataTable, element);\n",
              "          const docLink = document.createElement('div');\n",
              "          docLink.innerHTML = docLinkHtml;\n",
              "          element.appendChild(docLink);\n",
              "        }\n",
              "      </script>\n",
              "    </div>\n",
              "  </div>\n",
              "  "
            ]
          },
          "metadata": {},
          "execution_count": 13
        }
      ]
    },
    {
      "cell_type": "code",
      "source": [
        "# Checking with VIF\n",
        "vif_data = pd.DataFrame()\n",
        "vif_data['features'] = db.columns.values\n",
        "\n",
        "vif_data['VIF'] = [variance_inflation_factor(data_final.values, i)for i in range(len(data_final.columns))]\n",
        "\n",
        "vif_data"
      ],
      "metadata": {
        "id": "_WjugLacQ6WB",
        "colab": {
          "base_uri": "https://localhost:8080/",
          "height": 395
        },
        "outputId": "778304e2-472b-4046-9a4c-d68d96f53d41"
      },
      "execution_count": 14,
      "outputs": [
        {
          "output_type": "execute_result",
          "data": {
            "text/plain": [
              "                 features        VIF\n",
              "0               kabupaten   5.740121\n",
              "1                provinsi   1.129437\n",
              "2         jumlah_penduduk  16.680582\n",
              "3        luas_wilayah_km2   5.508314\n",
              "4   pengeluaran_perkapita   8.039390\n",
              "5                    umur   3.996408\n",
              "6                     ses   4.817666\n",
              "7      kepadatan_penduduk   4.462324\n",
              "8              tpt_persen   8.612866\n",
              "9            jumlah_pasar   2.973612\n",
              "10                    umk  10.720258"
            ],
            "text/html": [
              "\n",
              "  <div id=\"df-d1458f46-446c-4e54-9422-3fb4b3e20443\">\n",
              "    <div class=\"colab-df-container\">\n",
              "      <div>\n",
              "<style scoped>\n",
              "    .dataframe tbody tr th:only-of-type {\n",
              "        vertical-align: middle;\n",
              "    }\n",
              "\n",
              "    .dataframe tbody tr th {\n",
              "        vertical-align: top;\n",
              "    }\n",
              "\n",
              "    .dataframe thead th {\n",
              "        text-align: right;\n",
              "    }\n",
              "</style>\n",
              "<table border=\"1\" class=\"dataframe\">\n",
              "  <thead>\n",
              "    <tr style=\"text-align: right;\">\n",
              "      <th></th>\n",
              "      <th>features</th>\n",
              "      <th>VIF</th>\n",
              "    </tr>\n",
              "  </thead>\n",
              "  <tbody>\n",
              "    <tr>\n",
              "      <th>0</th>\n",
              "      <td>kabupaten</td>\n",
              "      <td>5.740121</td>\n",
              "    </tr>\n",
              "    <tr>\n",
              "      <th>1</th>\n",
              "      <td>provinsi</td>\n",
              "      <td>1.129437</td>\n",
              "    </tr>\n",
              "    <tr>\n",
              "      <th>2</th>\n",
              "      <td>jumlah_penduduk</td>\n",
              "      <td>16.680582</td>\n",
              "    </tr>\n",
              "    <tr>\n",
              "      <th>3</th>\n",
              "      <td>luas_wilayah_km2</td>\n",
              "      <td>5.508314</td>\n",
              "    </tr>\n",
              "    <tr>\n",
              "      <th>4</th>\n",
              "      <td>pengeluaran_perkapita</td>\n",
              "      <td>8.039390</td>\n",
              "    </tr>\n",
              "    <tr>\n",
              "      <th>5</th>\n",
              "      <td>umur</td>\n",
              "      <td>3.996408</td>\n",
              "    </tr>\n",
              "    <tr>\n",
              "      <th>6</th>\n",
              "      <td>ses</td>\n",
              "      <td>4.817666</td>\n",
              "    </tr>\n",
              "    <tr>\n",
              "      <th>7</th>\n",
              "      <td>kepadatan_penduduk</td>\n",
              "      <td>4.462324</td>\n",
              "    </tr>\n",
              "    <tr>\n",
              "      <th>8</th>\n",
              "      <td>tpt_persen</td>\n",
              "      <td>8.612866</td>\n",
              "    </tr>\n",
              "    <tr>\n",
              "      <th>9</th>\n",
              "      <td>jumlah_pasar</td>\n",
              "      <td>2.973612</td>\n",
              "    </tr>\n",
              "    <tr>\n",
              "      <th>10</th>\n",
              "      <td>umk</td>\n",
              "      <td>10.720258</td>\n",
              "    </tr>\n",
              "  </tbody>\n",
              "</table>\n",
              "</div>\n",
              "      <button class=\"colab-df-convert\" onclick=\"convertToInteractive('df-d1458f46-446c-4e54-9422-3fb4b3e20443')\"\n",
              "              title=\"Convert this dataframe to an interactive table.\"\n",
              "              style=\"display:none;\">\n",
              "        \n",
              "  <svg xmlns=\"http://www.w3.org/2000/svg\" height=\"24px\"viewBox=\"0 0 24 24\"\n",
              "       width=\"24px\">\n",
              "    <path d=\"M0 0h24v24H0V0z\" fill=\"none\"/>\n",
              "    <path d=\"M18.56 5.44l.94 2.06.94-2.06 2.06-.94-2.06-.94-.94-2.06-.94 2.06-2.06.94zm-11 1L8.5 8.5l.94-2.06 2.06-.94-2.06-.94L8.5 2.5l-.94 2.06-2.06.94zm10 10l.94 2.06.94-2.06 2.06-.94-2.06-.94-.94-2.06-.94 2.06-2.06.94z\"/><path d=\"M17.41 7.96l-1.37-1.37c-.4-.4-.92-.59-1.43-.59-.52 0-1.04.2-1.43.59L10.3 9.45l-7.72 7.72c-.78.78-.78 2.05 0 2.83L4 21.41c.39.39.9.59 1.41.59.51 0 1.02-.2 1.41-.59l7.78-7.78 2.81-2.81c.8-.78.8-2.07 0-2.86zM5.41 20L4 18.59l7.72-7.72 1.47 1.35L5.41 20z\"/>\n",
              "  </svg>\n",
              "      </button>\n",
              "      \n",
              "  <style>\n",
              "    .colab-df-container {\n",
              "      display:flex;\n",
              "      flex-wrap:wrap;\n",
              "      gap: 12px;\n",
              "    }\n",
              "\n",
              "    .colab-df-convert {\n",
              "      background-color: #E8F0FE;\n",
              "      border: none;\n",
              "      border-radius: 50%;\n",
              "      cursor: pointer;\n",
              "      display: none;\n",
              "      fill: #1967D2;\n",
              "      height: 32px;\n",
              "      padding: 0 0 0 0;\n",
              "      width: 32px;\n",
              "    }\n",
              "\n",
              "    .colab-df-convert:hover {\n",
              "      background-color: #E2EBFA;\n",
              "      box-shadow: 0px 1px 2px rgba(60, 64, 67, 0.3), 0px 1px 3px 1px rgba(60, 64, 67, 0.15);\n",
              "      fill: #174EA6;\n",
              "    }\n",
              "\n",
              "    [theme=dark] .colab-df-convert {\n",
              "      background-color: #3B4455;\n",
              "      fill: #D2E3FC;\n",
              "    }\n",
              "\n",
              "    [theme=dark] .colab-df-convert:hover {\n",
              "      background-color: #434B5C;\n",
              "      box-shadow: 0px 1px 3px 1px rgba(0, 0, 0, 0.15);\n",
              "      filter: drop-shadow(0px 1px 2px rgba(0, 0, 0, 0.3));\n",
              "      fill: #FFFFFF;\n",
              "    }\n",
              "  </style>\n",
              "\n",
              "      <script>\n",
              "        const buttonEl =\n",
              "          document.querySelector('#df-d1458f46-446c-4e54-9422-3fb4b3e20443 button.colab-df-convert');\n",
              "        buttonEl.style.display =\n",
              "          google.colab.kernel.accessAllowed ? 'block' : 'none';\n",
              "\n",
              "        async function convertToInteractive(key) {\n",
              "          const element = document.querySelector('#df-d1458f46-446c-4e54-9422-3fb4b3e20443');\n",
              "          const dataTable =\n",
              "            await google.colab.kernel.invokeFunction('convertToInteractive',\n",
              "                                                     [key], {});\n",
              "          if (!dataTable) return;\n",
              "\n",
              "          const docLinkHtml = 'Like what you see? Visit the ' +\n",
              "            '<a target=\"_blank\" href=https://colab.research.google.com/notebooks/data_table.ipynb>data table notebook</a>'\n",
              "            + ' to learn more about interactive tables.';\n",
              "          element.innerHTML = '';\n",
              "          dataTable['output_type'] = 'display_data';\n",
              "          await google.colab.output.renderOutput(dataTable, element);\n",
              "          const docLink = document.createElement('div');\n",
              "          docLink.innerHTML = docLinkHtml;\n",
              "          element.appendChild(docLink);\n",
              "        }\n",
              "      </script>\n",
              "    </div>\n",
              "  </div>\n",
              "  "
            ]
          },
          "metadata": {},
          "execution_count": 14
        }
      ]
    },
    {
      "cell_type": "markdown",
      "source": [
        "- Mengambil feature pada tabel VIF didasarkan dari nilai VIF yang diatas 5. Sehingga dari data diatas didapatkan bahwa 6 feature yang akan diambil.\n"
      ],
      "metadata": {
        "id": "8sFkC-BOc7Ui"
      }
    },
    {
      "cell_type": "markdown",
      "source": [
        "# MODELING"
      ],
      "metadata": {
        "id": "lhaJFf7eRCHR"
      }
    },
    {
      "cell_type": "code",
      "source": [
        "pca = PCA(n_components=6)\n",
        "principalComponents = pca.fit_transform(data_final)\n",
        "principalDf = pd.DataFrame(data = principalComponents\n",
        "             , columns = ['pc1', 'pc2','pc3', 'pc4','pc5', 'pc6',])\n",
        "principalDf"
      ],
      "metadata": {
        "id": "6TdJreiaRD_J",
        "colab": {
          "base_uri": "https://localhost:8080/",
          "height": 424
        },
        "outputId": "6a231a5a-2dad-4044-cea6-47972a36dcd9"
      },
      "execution_count": 15,
      "outputs": [
        {
          "output_type": "execute_result",
          "data": {
            "text/plain": [
              "           pc1       pc2       pc3       pc4       pc5       pc6\n",
              "0    25.804481  4.437278  2.001701 -1.820406 -0.427313 -0.125354\n",
              "1   -36.138219  0.392346  2.994119  0.025597 -0.183934  0.143554\n",
              "2   -35.122626 -0.590481  2.911039  0.029787 -0.021809 -0.065832\n",
              "3   -37.137798  0.372626  2.979434  0.020300 -0.093633  0.299691\n",
              "4   -38.121831 -0.635165  2.910853  0.084758 -0.257523  0.013464\n",
              "..         ...       ...       ...       ...       ...       ...\n",
              "106 -48.080673 -2.687431  2.002660  0.970636 -0.169289 -0.160724\n",
              "107 -42.113745 -0.602180  2.175938  0.834485 -0.192940  0.005021\n",
              "108 -44.080503 -2.581366  1.242619  0.297371 -0.397811 -0.250908\n",
              "109  51.921512 -2.027997  0.839061 -0.912611 -0.272169 -0.013223\n",
              "110 -50.061686 -3.613351  0.153851 -0.334108 -0.412253  0.288001\n",
              "\n",
              "[111 rows x 6 columns]"
            ],
            "text/html": [
              "\n",
              "  <div id=\"df-e3ee61b0-32ca-4414-8755-cfcaff9eb014\">\n",
              "    <div class=\"colab-df-container\">\n",
              "      <div>\n",
              "<style scoped>\n",
              "    .dataframe tbody tr th:only-of-type {\n",
              "        vertical-align: middle;\n",
              "    }\n",
              "\n",
              "    .dataframe tbody tr th {\n",
              "        vertical-align: top;\n",
              "    }\n",
              "\n",
              "    .dataframe thead th {\n",
              "        text-align: right;\n",
              "    }\n",
              "</style>\n",
              "<table border=\"1\" class=\"dataframe\">\n",
              "  <thead>\n",
              "    <tr style=\"text-align: right;\">\n",
              "      <th></th>\n",
              "      <th>pc1</th>\n",
              "      <th>pc2</th>\n",
              "      <th>pc3</th>\n",
              "      <th>pc4</th>\n",
              "      <th>pc5</th>\n",
              "      <th>pc6</th>\n",
              "    </tr>\n",
              "  </thead>\n",
              "  <tbody>\n",
              "    <tr>\n",
              "      <th>0</th>\n",
              "      <td>25.804481</td>\n",
              "      <td>4.437278</td>\n",
              "      <td>2.001701</td>\n",
              "      <td>-1.820406</td>\n",
              "      <td>-0.427313</td>\n",
              "      <td>-0.125354</td>\n",
              "    </tr>\n",
              "    <tr>\n",
              "      <th>1</th>\n",
              "      <td>-36.138219</td>\n",
              "      <td>0.392346</td>\n",
              "      <td>2.994119</td>\n",
              "      <td>0.025597</td>\n",
              "      <td>-0.183934</td>\n",
              "      <td>0.143554</td>\n",
              "    </tr>\n",
              "    <tr>\n",
              "      <th>2</th>\n",
              "      <td>-35.122626</td>\n",
              "      <td>-0.590481</td>\n",
              "      <td>2.911039</td>\n",
              "      <td>0.029787</td>\n",
              "      <td>-0.021809</td>\n",
              "      <td>-0.065832</td>\n",
              "    </tr>\n",
              "    <tr>\n",
              "      <th>3</th>\n",
              "      <td>-37.137798</td>\n",
              "      <td>0.372626</td>\n",
              "      <td>2.979434</td>\n",
              "      <td>0.020300</td>\n",
              "      <td>-0.093633</td>\n",
              "      <td>0.299691</td>\n",
              "    </tr>\n",
              "    <tr>\n",
              "      <th>4</th>\n",
              "      <td>-38.121831</td>\n",
              "      <td>-0.635165</td>\n",
              "      <td>2.910853</td>\n",
              "      <td>0.084758</td>\n",
              "      <td>-0.257523</td>\n",
              "      <td>0.013464</td>\n",
              "    </tr>\n",
              "    <tr>\n",
              "      <th>...</th>\n",
              "      <td>...</td>\n",
              "      <td>...</td>\n",
              "      <td>...</td>\n",
              "      <td>...</td>\n",
              "      <td>...</td>\n",
              "      <td>...</td>\n",
              "    </tr>\n",
              "    <tr>\n",
              "      <th>106</th>\n",
              "      <td>-48.080673</td>\n",
              "      <td>-2.687431</td>\n",
              "      <td>2.002660</td>\n",
              "      <td>0.970636</td>\n",
              "      <td>-0.169289</td>\n",
              "      <td>-0.160724</td>\n",
              "    </tr>\n",
              "    <tr>\n",
              "      <th>107</th>\n",
              "      <td>-42.113745</td>\n",
              "      <td>-0.602180</td>\n",
              "      <td>2.175938</td>\n",
              "      <td>0.834485</td>\n",
              "      <td>-0.192940</td>\n",
              "      <td>0.005021</td>\n",
              "    </tr>\n",
              "    <tr>\n",
              "      <th>108</th>\n",
              "      <td>-44.080503</td>\n",
              "      <td>-2.581366</td>\n",
              "      <td>1.242619</td>\n",
              "      <td>0.297371</td>\n",
              "      <td>-0.397811</td>\n",
              "      <td>-0.250908</td>\n",
              "    </tr>\n",
              "    <tr>\n",
              "      <th>109</th>\n",
              "      <td>51.921512</td>\n",
              "      <td>-2.027997</td>\n",
              "      <td>0.839061</td>\n",
              "      <td>-0.912611</td>\n",
              "      <td>-0.272169</td>\n",
              "      <td>-0.013223</td>\n",
              "    </tr>\n",
              "    <tr>\n",
              "      <th>110</th>\n",
              "      <td>-50.061686</td>\n",
              "      <td>-3.613351</td>\n",
              "      <td>0.153851</td>\n",
              "      <td>-0.334108</td>\n",
              "      <td>-0.412253</td>\n",
              "      <td>0.288001</td>\n",
              "    </tr>\n",
              "  </tbody>\n",
              "</table>\n",
              "<p>111 rows × 6 columns</p>\n",
              "</div>\n",
              "      <button class=\"colab-df-convert\" onclick=\"convertToInteractive('df-e3ee61b0-32ca-4414-8755-cfcaff9eb014')\"\n",
              "              title=\"Convert this dataframe to an interactive table.\"\n",
              "              style=\"display:none;\">\n",
              "        \n",
              "  <svg xmlns=\"http://www.w3.org/2000/svg\" height=\"24px\"viewBox=\"0 0 24 24\"\n",
              "       width=\"24px\">\n",
              "    <path d=\"M0 0h24v24H0V0z\" fill=\"none\"/>\n",
              "    <path d=\"M18.56 5.44l.94 2.06.94-2.06 2.06-.94-2.06-.94-.94-2.06-.94 2.06-2.06.94zm-11 1L8.5 8.5l.94-2.06 2.06-.94-2.06-.94L8.5 2.5l-.94 2.06-2.06.94zm10 10l.94 2.06.94-2.06 2.06-.94-2.06-.94-.94-2.06-.94 2.06-2.06.94z\"/><path d=\"M17.41 7.96l-1.37-1.37c-.4-.4-.92-.59-1.43-.59-.52 0-1.04.2-1.43.59L10.3 9.45l-7.72 7.72c-.78.78-.78 2.05 0 2.83L4 21.41c.39.39.9.59 1.41.59.51 0 1.02-.2 1.41-.59l7.78-7.78 2.81-2.81c.8-.78.8-2.07 0-2.86zM5.41 20L4 18.59l7.72-7.72 1.47 1.35L5.41 20z\"/>\n",
              "  </svg>\n",
              "      </button>\n",
              "      \n",
              "  <style>\n",
              "    .colab-df-container {\n",
              "      display:flex;\n",
              "      flex-wrap:wrap;\n",
              "      gap: 12px;\n",
              "    }\n",
              "\n",
              "    .colab-df-convert {\n",
              "      background-color: #E8F0FE;\n",
              "      border: none;\n",
              "      border-radius: 50%;\n",
              "      cursor: pointer;\n",
              "      display: none;\n",
              "      fill: #1967D2;\n",
              "      height: 32px;\n",
              "      padding: 0 0 0 0;\n",
              "      width: 32px;\n",
              "    }\n",
              "\n",
              "    .colab-df-convert:hover {\n",
              "      background-color: #E2EBFA;\n",
              "      box-shadow: 0px 1px 2px rgba(60, 64, 67, 0.3), 0px 1px 3px 1px rgba(60, 64, 67, 0.15);\n",
              "      fill: #174EA6;\n",
              "    }\n",
              "\n",
              "    [theme=dark] .colab-df-convert {\n",
              "      background-color: #3B4455;\n",
              "      fill: #D2E3FC;\n",
              "    }\n",
              "\n",
              "    [theme=dark] .colab-df-convert:hover {\n",
              "      background-color: #434B5C;\n",
              "      box-shadow: 0px 1px 3px 1px rgba(0, 0, 0, 0.15);\n",
              "      filter: drop-shadow(0px 1px 2px rgba(0, 0, 0, 0.3));\n",
              "      fill: #FFFFFF;\n",
              "    }\n",
              "  </style>\n",
              "\n",
              "      <script>\n",
              "        const buttonEl =\n",
              "          document.querySelector('#df-e3ee61b0-32ca-4414-8755-cfcaff9eb014 button.colab-df-convert');\n",
              "        buttonEl.style.display =\n",
              "          google.colab.kernel.accessAllowed ? 'block' : 'none';\n",
              "\n",
              "        async function convertToInteractive(key) {\n",
              "          const element = document.querySelector('#df-e3ee61b0-32ca-4414-8755-cfcaff9eb014');\n",
              "          const dataTable =\n",
              "            await google.colab.kernel.invokeFunction('convertToInteractive',\n",
              "                                                     [key], {});\n",
              "          if (!dataTable) return;\n",
              "\n",
              "          const docLinkHtml = 'Like what you see? Visit the ' +\n",
              "            '<a target=\"_blank\" href=https://colab.research.google.com/notebooks/data_table.ipynb>data table notebook</a>'\n",
              "            + ' to learn more about interactive tables.';\n",
              "          element.innerHTML = '';\n",
              "          dataTable['output_type'] = 'display_data';\n",
              "          await google.colab.output.renderOutput(dataTable, element);\n",
              "          const docLink = document.createElement('div');\n",
              "          docLink.innerHTML = docLinkHtml;\n",
              "          element.appendChild(docLink);\n",
              "        }\n",
              "      </script>\n",
              "    </div>\n",
              "  </div>\n",
              "  "
            ]
          },
          "metadata": {},
          "execution_count": 15
        }
      ]
    },
    {
      "cell_type": "markdown",
      "source": [
        "# Clustering"
      ],
      "metadata": {
        "id": "0bLNrVwq15v2"
      }
    },
    {
      "cell_type": "code",
      "source": [
        "# FInd K optimal\n",
        "k=[2,3,4,5,6]\n",
        "kmeans_k = [KMeans(n_clusters = i, random_state = 17).fit(principalDf)\n",
        "            for i in range (1,7)]"
      ],
      "metadata": {
        "colab": {
          "base_uri": "https://localhost:8080/"
        },
        "id": "ArbymrM02Igt",
        "outputId": "e1849f3d-f223-427e-8f62-c47bdcfd53fd"
      },
      "execution_count": 16,
      "outputs": [
        {
          "output_type": "stream",
          "name": "stderr",
          "text": [
            "/usr/local/lib/python3.9/dist-packages/sklearn/cluster/_kmeans.py:870: FutureWarning: The default value of `n_init` will change from 10 to 'auto' in 1.4. Set the value of `n_init` explicitly to suppress the warning\n",
            "  warnings.warn(\n",
            "/usr/local/lib/python3.9/dist-packages/sklearn/cluster/_kmeans.py:870: FutureWarning: The default value of `n_init` will change from 10 to 'auto' in 1.4. Set the value of `n_init` explicitly to suppress the warning\n",
            "  warnings.warn(\n",
            "/usr/local/lib/python3.9/dist-packages/sklearn/cluster/_kmeans.py:870: FutureWarning: The default value of `n_init` will change from 10 to 'auto' in 1.4. Set the value of `n_init` explicitly to suppress the warning\n",
            "  warnings.warn(\n",
            "/usr/local/lib/python3.9/dist-packages/sklearn/cluster/_kmeans.py:870: FutureWarning: The default value of `n_init` will change from 10 to 'auto' in 1.4. Set the value of `n_init` explicitly to suppress the warning\n",
            "  warnings.warn(\n",
            "/usr/local/lib/python3.9/dist-packages/sklearn/cluster/_kmeans.py:870: FutureWarning: The default value of `n_init` will change from 10 to 'auto' in 1.4. Set the value of `n_init` explicitly to suppress the warning\n",
            "  warnings.warn(\n",
            "/usr/local/lib/python3.9/dist-packages/sklearn/cluster/_kmeans.py:870: FutureWarning: The default value of `n_init` will change from 10 to 'auto' in 1.4. Set the value of `n_init` explicitly to suppress the warning\n",
            "  warnings.warn(\n"
          ]
        }
      ]
    },
    {
      "cell_type": "code",
      "source": [
        "# Display Elbow method\n",
        "print('Elbow Method')\n",
        "Elbow_M = KElbowVisualizer(KMeans(), k=7)\n",
        "Elbow_M.fit(principalDf)\n",
        "Elbow_M.show()"
      ],
      "metadata": {
        "colab": {
          "base_uri": "https://localhost:8080/",
          "height": 639
        },
        "id": "PgnZutrZ2ZBh",
        "outputId": "b893a367-6809-4afc-b5a1-c3c841c0e458"
      },
      "execution_count": 17,
      "outputs": [
        {
          "output_type": "stream",
          "name": "stderr",
          "text": [
            "/usr/local/lib/python3.9/dist-packages/sklearn/cluster/_kmeans.py:870: FutureWarning: The default value of `n_init` will change from 10 to 'auto' in 1.4. Set the value of `n_init` explicitly to suppress the warning\n",
            "  warnings.warn(\n",
            "/usr/local/lib/python3.9/dist-packages/sklearn/cluster/_kmeans.py:870: FutureWarning: The default value of `n_init` will change from 10 to 'auto' in 1.4. Set the value of `n_init` explicitly to suppress the warning\n",
            "  warnings.warn(\n"
          ]
        },
        {
          "output_type": "stream",
          "name": "stdout",
          "text": [
            "Elbow Method\n"
          ]
        },
        {
          "output_type": "stream",
          "name": "stderr",
          "text": [
            "/usr/local/lib/python3.9/dist-packages/sklearn/cluster/_kmeans.py:870: FutureWarning: The default value of `n_init` will change from 10 to 'auto' in 1.4. Set the value of `n_init` explicitly to suppress the warning\n",
            "  warnings.warn(\n",
            "/usr/local/lib/python3.9/dist-packages/sklearn/cluster/_kmeans.py:870: FutureWarning: The default value of `n_init` will change from 10 to 'auto' in 1.4. Set the value of `n_init` explicitly to suppress the warning\n",
            "  warnings.warn(\n",
            "/usr/local/lib/python3.9/dist-packages/sklearn/cluster/_kmeans.py:870: FutureWarning: The default value of `n_init` will change from 10 to 'auto' in 1.4. Set the value of `n_init` explicitly to suppress the warning\n",
            "  warnings.warn(\n",
            "/usr/local/lib/python3.9/dist-packages/sklearn/cluster/_kmeans.py:870: FutureWarning: The default value of `n_init` will change from 10 to 'auto' in 1.4. Set the value of `n_init` explicitly to suppress the warning\n",
            "  warnings.warn(\n"
          ]
        },
        {
          "output_type": "display_data",
          "data": {
            "text/plain": [
              "<Figure size 576x396 with 2 Axes>"
            ],
            "image/png": "[encoded data removed]"
          },
          "metadata": {}
        },
        {
          "output_type": "execute_result",
          "data": {
            "text/plain": [
              "<AxesSubplot:title={'center':'Distortion Score Elbow for KMeans Clustering'}, xlabel='k', ylabel='distortion score'>"
            ]
          },
          "metadata": {},
          "execution_count": 17
        }
      ]
    },
    {
      "cell_type": "code",
      "source": [
        "plt.scatter(principalDf['pc1'], principalDf['pc2'])"
      ],
      "metadata": {
        "id": "rRdsX4TZRQTv",
        "colab": {
          "base_uri": "https://localhost:8080/",
          "height": 364
        },
        "outputId": "9b729997-2adb-4f1e-a530-b2f4e3c32dfa"
      },
      "execution_count": 18,
      "outputs": [
        {
          "output_type": "execute_result",
          "data": {
            "text/plain": [
              "<matplotlib.collections.PathCollection at 0x7f980ff6f070>"
            ]
          },
          "metadata": {},
          "execution_count": 18
        },
        {
          "output_type": "display_data",
          "data": {
            "text/plain": [
              "<Figure size 576x396 with 1 Axes>"
            ],
            "image/png": "[encoded data removed]"
          },
          "metadata": {}
        }
      ]
    },
    {
      "cell_type": "markdown",
      "source": [
        "- Pada k-means didapatkan bahwa nilai clusteri terbaik adalah  4"
      ],
      "metadata": {
        "id": "EAgjsp0ADdEz"
      }
    },
    {
      "cell_type": "markdown",
      "source": [
        "## Model improvment"
      ],
      "metadata": {
        "id": "Pw8oc22coXDf"
      }
    },
    {
      "cell_type": "code",
      "source": [
        "# Agglomerative\n",
        "\n",
        "k=[2,3,4,5,6]\n",
        "agglo_per_k = [AgglomerativeClustering(n_clusters=k).fit(principalDf)\n",
        "                for k in range(1, 7)]\n",
        "agglo_per_k"
      ],
      "metadata": {
        "id": "3a2jCbUMoaeK",
        "colab": {
          "base_uri": "https://localhost:8080/"
        },
        "outputId": "21e2f3e2-2c77-4b78-950a-b6fa5ee46027"
      },
      "execution_count": 19,
      "outputs": [
        {
          "output_type": "execute_result",
          "data": {
            "text/plain": [
              "[AgglomerativeClustering(n_clusters=1),\n",
              " AgglomerativeClustering(),\n",
              " AgglomerativeClustering(n_clusters=3),\n",
              " AgglomerativeClustering(n_clusters=4),\n",
              " AgglomerativeClustering(n_clusters=5),\n",
              " AgglomerativeClustering(n_clusters=6)]"
            ]
          },
          "metadata": {},
          "execution_count": 19
        }
      ]
    },
    {
      "cell_type": "code",
      "source": [
        "# creat silhouette_scores\n",
        "\n",
        "silhouette_scores_agg = [silhouette_score(principalDf, model.labels_)\n",
        "                     for model in agglo_per_k[1:]]\n",
        "silhouette_scores_agg"
      ],
      "metadata": {
        "id": "nqpHktEA_0nk",
        "colab": {
          "base_uri": "https://localhost:8080/"
        },
        "outputId": "745d7f02-2fba-41dc-e078-25673a8d8e94"
      },
      "execution_count": 20,
      "outputs": [
        {
          "output_type": "execute_result",
          "data": {
            "text/plain": [
              "[0.6076544474676148,\n",
              " 0.515433284086844,\n",
              " 0.4996465678108335,\n",
              " 0.4747491009628845,\n",
              " 0.453076148281666]"
            ]
          },
          "metadata": {},
          "execution_count": 20
        }
      ]
    },
    {
      "cell_type": "code",
      "source": [
        "# Display Elbow Method\n",
        "print('Elbow Method')\n",
        "Elbow_M = KElbowVisualizer(AgglomerativeClustering(), k=7)\n",
        "Elbow_M.fit(principalDf)\n",
        "Elbow_M.show()"
      ],
      "metadata": {
        "id": "FNkCMlt8_5EZ",
        "colab": {
          "base_uri": "https://localhost:8080/",
          "height": 428
        },
        "outputId": "b4cb206e-66a4-4c3b-db77-d8baf4539a3e"
      },
      "execution_count": 21,
      "outputs": [
        {
          "output_type": "stream",
          "name": "stdout",
          "text": [
            "Elbow Method\n"
          ]
        },
        {
          "output_type": "display_data",
          "data": {
            "text/plain": [
              "<Figure size 576x396 with 2 Axes>"
            ],
            "image/png": "[encoded data removed]"
          },
          "metadata": {}
        },
        {
          "output_type": "execute_result",
          "data": {
            "text/plain": [
              "<AxesSubplot:title={'center':'Distortion Score Elbow for AgglomerativeClustering Clustering'}, xlabel='k', ylabel='distortion score'>"
            ]
          },
          "metadata": {},
          "execution_count": 21
        }
      ]
    },
    {
      "cell_type": "markdown",
      "source": [
        "- Dari hasil silhoutte ditemukan bahwa clustering terbaik ada di 4 cluster."
      ],
      "metadata": {
        "id": "QR1JvA1kAu_m"
      }
    },
    {
      "cell_type": "markdown",
      "source": [
        "## Training model"
      ],
      "metadata": {
        "id": "DtOD5ziMEIsC"
      }
    },
    {
      "cell_type": "markdown",
      "source": [
        "### Kmeans"
      ],
      "metadata": {
        "id": "3e6wZ0m-5VPF"
      }
    },
    {
      "cell_type": "code",
      "source": [
        "kmeans = KMeans(n_clusters = 4, random_state = 17)\n",
        "kmeans.fit(principalDf)"
      ],
      "metadata": {
        "id": "S-23UsiSEIE3",
        "colab": {
          "base_uri": "https://localhost:8080/",
          "height": 130
        },
        "outputId": "86ae3e9e-013f-404e-aae3-dce067b92ec1"
      },
      "execution_count": 22,
      "outputs": [
        {
          "output_type": "stream",
          "name": "stderr",
          "text": [
            "/usr/local/lib/python3.9/dist-packages/sklearn/cluster/_kmeans.py:870: FutureWarning: The default value of `n_init` will change from 10 to 'auto' in 1.4. Set the value of `n_init` explicitly to suppress the warning\n",
            "  warnings.warn(\n"
          ]
        },
        {
          "output_type": "execute_result",
          "data": {
            "text/plain": [
              "KMeans(n_clusters=4, random_state=17)"
            ],
            "text/html": [
              "<style>#sk-container-id-1 {color: black;background-color: white;}#sk-container-id-1 pre{padding: 0;}#sk-container-id-1 div.sk-toggleable {background-color: white;}#sk-container-id-1 label.sk-toggleable__label {cursor: pointer;display: block;width: 100%;margin-bottom: 0;padding: 0.3em;box-sizing: border-box;text-align: center;}#sk-container-id-1 label.sk-toggleable__label-arrow:before {content: \"▸\";float: left;margin-right: 0.25em;color: #696969;}#sk-container-id-1 label.sk-toggleable__label-arrow:hover:before {color: black;}#sk-container-id-1 div.sk-estimator:hover label.sk-toggleable__label-arrow:before {color: black;}#sk-container-id-1 div.sk-toggleable__content {max-height: 0;max-width: 0;overflow: hidden;text-align: left;background-color: #f0f8ff;}#sk-container-id-1 div.sk-toggleable__content pre {margin: 0.2em;color: black;border-radius: 0.25em;background-color: #f0f8ff;}#sk-container-id-1 input.sk-toggleable__control:checked~div.sk-toggleable__content {max-height: 200px;max-width: 100%;overflow: auto;}#sk-container-id-1 input.sk-toggleable__control:checked~label.sk-toggleable__label-arrow:before {content: \"▾\";}#sk-container-id-1 div.sk-estimator input.sk-toggleable__control:checked~label.sk-toggleable__label {background-color: #d4ebff;}#sk-container-id-1 div.sk-label input.sk-toggleable__control:checked~label.sk-toggleable__label {background-color: #d4ebff;}#sk-container-id-1 input.sk-hidden--visually {border: 0;clip: rect(1px 1px 1px 1px);clip: rect(1px, 1px, 1px, 1px);height: 1px;margin: -1px;overflow: hidden;padding: 0;position: absolute;width: 1px;}#sk-container-id-1 div.sk-estimator {font-family: monospace;background-color: #f0f8ff;border: 1px dotted black;border-radius: 0.25em;box-sizing: border-box;margin-bottom: 0.5em;}#sk-container-id-1 div.sk-estimator:hover {background-color: #d4ebff;}#sk-container-id-1 div.sk-parallel-item::after {content: \"\";width: 100%;border-bottom: 1px solid gray;flex-grow: 1;}#sk-container-id-1 div.sk-label:hover label.sk-toggleable__label {background-color: #d4ebff;}#sk-container-id-1 div.sk-serial::before {content: \"\";position: absolute;border-left: 1px solid gray;box-sizing: border-box;top: 0;bottom: 0;left: 50%;z-index: 0;}#sk-container-id-1 div.sk-serial {display: flex;flex-direction: column;align-items: center;background-color: white;padding-right: 0.2em;padding-left: 0.2em;position: relative;}#sk-container-id-1 div.sk-item {position: relative;z-index: 1;}#sk-container-id-1 div.sk-parallel {display: flex;align-items: stretch;justify-content: center;background-color: white;position: relative;}#sk-container-id-1 div.sk-item::before, #sk-container-id-1 div.sk-parallel-item::before {content: \"\";position: absolute;border-left: 1px solid gray;box-sizing: border-box;top: 0;bottom: 0;left: 50%;z-index: -1;}#sk-container-id-1 div.sk-parallel-item {display: flex;flex-direction: column;z-index: 1;position: relative;background-color: white;}#sk-container-id-1 div.sk-parallel-item:first-child::after {align-self: flex-end;width: 50%;}#sk-container-id-1 div.sk-parallel-item:last-child::after {align-self: flex-start;width: 50%;}#sk-container-id-1 div.sk-parallel-item:only-child::after {width: 0;}#sk-container-id-1 div.sk-dashed-wrapped {border: 1px dashed gray;margin: 0 0.4em 0.5em 0.4em;box-sizing: border-box;padding-bottom: 0.4em;background-color: white;}#sk-container-id-1 div.sk-label label {font-family: monospace;font-weight: bold;display: inline-block;line-height: 1.2em;}#sk-container-id-1 div.sk-label-container {text-align: center;}#sk-container-id-1 div.sk-container {/* jupyter's `normalize.less` sets `[hidden] { display: none; }` but bootstrap.min.css set `[hidden] { display: none !important; }` so we also need the `!important` here to be able to override the default hidden behavior on the sphinx rendered scikit-learn.org. See: https://github.com/scikit-learn/scikit-learn/issues/21755 */display: inline-block !important;position: relative;}#sk-container-id-1 div.sk-text-repr-fallback {display: none;}</style><div id=\"sk-container-id-1\" class=\"sk-top-container\"><div class=\"sk-text-repr-fallback\"><pre>KMeans(n_clusters=4, random_state=17)</pre><b>In a Jupyter environment, please rerun this cell to show the HTML representation or trust the notebook. <br />On GitHub, the HTML representation is unable to render, please try loading this page with nbviewer.org.</b></div><div class=\"sk-container\" hidden><div class=\"sk-item\"><div class=\"sk-estimator sk-toggleable\"><input class=\"sk-toggleable__control sk-hidden--visually\" id=\"sk-estimator-id-1\" type=\"checkbox\" checked><label for=\"sk-estimator-id-1\" class=\"sk-toggleable__label sk-toggleable__label-arrow\">KMeans</label><div class=\"sk-toggleable__content\"><pre>KMeans(n_clusters=4, random_state=17)</pre></div></div></div></div></div>"
            ]
          },
          "metadata": {},
          "execution_count": 22
        }
      ]
    },
    {
      "cell_type": "code",
      "source": [
        "kmeans.labels_"
      ],
      "metadata": {
        "colab": {
          "base_uri": "https://localhost:8080/"
        },
        "id": "Kaw_Y98a35oT",
        "outputId": "1ef6dedd-029b-4651-8657-5a8d91db6a1c"
      },
      "execution_count": 23,
      "outputs": [
        {
          "output_type": "execute_result",
          "data": {
            "text/plain": [
              "array([3, 2, 2, 2, 2, 2, 0, 2, 3, 2, 0, 3, 3, 0, 0, 0, 3, 3, 0, 3, 0, 2,\n",
              "       3, 3, 0, 0, 0, 3, 3, 0, 2, 3, 3, 3, 0, 1, 1, 1, 1, 1, 1, 1, 2, 2,\n",
              "       1, 1, 0, 3, 3, 3, 2, 0, 0, 0, 0, 2, 0, 3, 3, 3, 3, 0, 0, 0, 0, 0,\n",
              "       0, 0, 3, 0, 0, 2, 3, 3, 3, 1, 1, 1, 1, 1, 1, 1, 1, 3, 2, 1, 2, 2,\n",
              "       2, 1, 2, 1, 2, 1, 1, 2, 1, 1, 3, 2, 2, 1, 1, 1, 2, 2, 2, 2, 2, 1,\n",
              "       2], dtype=int32)"
            ]
          },
          "metadata": {},
          "execution_count": 23
        }
      ]
    },
    {
      "cell_type": "markdown",
      "source": [
        "### Agglomerative"
      ],
      "metadata": {
        "id": "_fFkYV555XEA"
      }
    },
    {
      "cell_type": "code",
      "source": [
        "agg = AgglomerativeClustering(n_clusters = 4)\n",
        "agg.fit(principalDf)"
      ],
      "metadata": {
        "colab": {
          "base_uri": "https://localhost:8080/",
          "height": 75
        },
        "id": "RSfrorn45ZX3",
        "outputId": "5cbc29bb-4b0b-4a7c-f3a7-38647798726e"
      },
      "execution_count": 24,
      "outputs": [
        {
          "output_type": "execute_result",
          "data": {
            "text/plain": [
              "AgglomerativeClustering(n_clusters=4)"
            ],
            "text/html": [
              "<style>#sk-container-id-2 {color: black;background-color: white;}#sk-container-id-2 pre{padding: 0;}#sk-container-id-2 div.sk-toggleable {background-color: white;}#sk-container-id-2 label.sk-toggleable__label {cursor: pointer;display: block;width: 100%;margin-bottom: 0;padding: 0.3em;box-sizing: border-box;text-align: center;}#sk-container-id-2 label.sk-toggleable__label-arrow:before {content: \"▸\";float: left;margin-right: 0.25em;color: #696969;}#sk-container-id-2 label.sk-toggleable__label-arrow:hover:before {color: black;}#sk-container-id-2 div.sk-estimator:hover label.sk-toggleable__label-arrow:before {color: black;}#sk-container-id-2 div.sk-toggleable__content {max-height: 0;max-width: 0;overflow: hidden;text-align: left;background-color: #f0f8ff;}#sk-container-id-2 div.sk-toggleable__content pre {margin: 0.2em;color: black;border-radius: 0.25em;background-color: #f0f8ff;}#sk-container-id-2 input.sk-toggleable__control:checked~div.sk-toggleable__content {max-height: 200px;max-width: 100%;overflow: auto;}#sk-container-id-2 input.sk-toggleable__control:checked~label.sk-toggleable__label-arrow:before {content: \"▾\";}#sk-container-id-2 div.sk-estimator input.sk-toggleable__control:checked~label.sk-toggleable__label {background-color: #d4ebff;}#sk-container-id-2 div.sk-label input.sk-toggleable__control:checked~label.sk-toggleable__label {background-color: #d4ebff;}#sk-container-id-2 input.sk-hidden--visually {border: 0;clip: rect(1px 1px 1px 1px);clip: rect(1px, 1px, 1px, 1px);height: 1px;margin: -1px;overflow: hidden;padding: 0;position: absolute;width: 1px;}#sk-container-id-2 div.sk-estimator {font-family: monospace;background-color: #f0f8ff;border: 1px dotted black;border-radius: 0.25em;box-sizing: border-box;margin-bottom: 0.5em;}#sk-container-id-2 div.sk-estimator:hover {background-color: #d4ebff;}#sk-container-id-2 div.sk-parallel-item::after {content: \"\";width: 100%;border-bottom: 1px solid gray;flex-grow: 1;}#sk-container-id-2 div.sk-label:hover label.sk-toggleable__label {background-color: #d4ebff;}#sk-container-id-2 div.sk-serial::before {content: \"\";position: absolute;border-left: 1px solid gray;box-sizing: border-box;top: 0;bottom: 0;left: 50%;z-index: 0;}#sk-container-id-2 div.sk-serial {display: flex;flex-direction: column;align-items: center;background-color: white;padding-right: 0.2em;padding-left: 0.2em;position: relative;}#sk-container-id-2 div.sk-item {position: relative;z-index: 1;}#sk-container-id-2 div.sk-parallel {display: flex;align-items: stretch;justify-content: center;background-color: white;position: relative;}#sk-container-id-2 div.sk-item::before, #sk-container-id-2 div.sk-parallel-item::before {content: \"\";position: absolute;border-left: 1px solid gray;box-sizing: border-box;top: 0;bottom: 0;left: 50%;z-index: -1;}#sk-container-id-2 div.sk-parallel-item {display: flex;flex-direction: column;z-index: 1;position: relative;background-color: white;}#sk-container-id-2 div.sk-parallel-item:first-child::after {align-self: flex-end;width: 50%;}#sk-container-id-2 div.sk-parallel-item:last-child::after {align-self: flex-start;width: 50%;}#sk-container-id-2 div.sk-parallel-item:only-child::after {width: 0;}#sk-container-id-2 div.sk-dashed-wrapped {border: 1px dashed gray;margin: 0 0.4em 0.5em 0.4em;box-sizing: border-box;padding-bottom: 0.4em;background-color: white;}#sk-container-id-2 div.sk-label label {font-family: monospace;font-weight: bold;display: inline-block;line-height: 1.2em;}#sk-container-id-2 div.sk-label-container {text-align: center;}#sk-container-id-2 div.sk-container {/* jupyter's `normalize.less` sets `[hidden] { display: none; }` but bootstrap.min.css set `[hidden] { display: none !important; }` so we also need the `!important` here to be able to override the default hidden behavior on the sphinx rendered scikit-learn.org. See: https://github.com/scikit-learn/scikit-learn/issues/21755 */display: inline-block !important;position: relative;}#sk-container-id-2 div.sk-text-repr-fallback {display: none;}</style><div id=\"sk-container-id-2\" class=\"sk-top-container\"><div class=\"sk-text-repr-fallback\"><pre>AgglomerativeClustering(n_clusters=4)</pre><b>In a Jupyter environment, please rerun this cell to show the HTML representation or trust the notebook. <br />On GitHub, the HTML representation is unable to render, please try loading this page with nbviewer.org.</b></div><div class=\"sk-container\" hidden><div class=\"sk-item\"><div class=\"sk-estimator sk-toggleable\"><input class=\"sk-toggleable__control sk-hidden--visually\" id=\"sk-estimator-id-2\" type=\"checkbox\" checked><label for=\"sk-estimator-id-2\" class=\"sk-toggleable__label sk-toggleable__label-arrow\">AgglomerativeClustering</label><div class=\"sk-toggleable__content\"><pre>AgglomerativeClustering(n_clusters=4)</pre></div></div></div></div></div>"
            ]
          },
          "metadata": {},
          "execution_count": 24
        }
      ]
    },
    {
      "cell_type": "code",
      "source": [
        "spec = SpectralClustering(n_clusters=4, random_state=17)\n",
        "spec.fit(principalDf)"
      ],
      "metadata": {
        "colab": {
          "base_uri": "https://localhost:8080/",
          "height": 75
        },
        "id": "KyXwIb1m6btk",
        "outputId": "e0871b7a-3632-4086-a8fe-98409affb26a"
      },
      "execution_count": 25,
      "outputs": [
        {
          "output_type": "execute_result",
          "data": {
            "text/plain": [
              "SpectralClustering(n_clusters=4, random_state=17)"
            ],
            "text/html": [
              "<style>#sk-container-id-3 {color: black;background-color: white;}#sk-container-id-3 pre{padding: 0;}#sk-container-id-3 div.sk-toggleable {background-color: white;}#sk-container-id-3 label.sk-toggleable__label {cursor: pointer;display: block;width: 100%;margin-bottom: 0;padding: 0.3em;box-sizing: border-box;text-align: center;}#sk-container-id-3 label.sk-toggleable__label-arrow:before {content: \"▸\";float: left;margin-right: 0.25em;color: #696969;}#sk-container-id-3 label.sk-toggleable__label-arrow:hover:before {color: black;}#sk-container-id-3 div.sk-estimator:hover label.sk-toggleable__label-arrow:before {color: black;}#sk-container-id-3 div.sk-toggleable__content {max-height: 0;max-width: 0;overflow: hidden;text-align: left;background-color: #f0f8ff;}#sk-container-id-3 div.sk-toggleable__content pre {margin: 0.2em;color: black;border-radius: 0.25em;background-color: #f0f8ff;}#sk-container-id-3 input.sk-toggleable__control:checked~div.sk-toggleable__content {max-height: 200px;max-width: 100%;overflow: auto;}#sk-container-id-3 input.sk-toggleable__control:checked~label.sk-toggleable__label-arrow:before {content: \"▾\";}#sk-container-id-3 div.sk-estimator input.sk-toggleable__control:checked~label.sk-toggleable__label {background-color: #d4ebff;}#sk-container-id-3 div.sk-label input.sk-toggleable__control:checked~label.sk-toggleable__label {background-color: #d4ebff;}#sk-container-id-3 input.sk-hidden--visually {border: 0;clip: rect(1px 1px 1px 1px);clip: rect(1px, 1px, 1px, 1px);height: 1px;margin: -1px;overflow: hidden;padding: 0;position: absolute;width: 1px;}#sk-container-id-3 div.sk-estimator {font-family: monospace;background-color: #f0f8ff;border: 1px dotted black;border-radius: 0.25em;box-sizing: border-box;margin-bottom: 0.5em;}#sk-container-id-3 div.sk-estimator:hover {background-color: #d4ebff;}#sk-container-id-3 div.sk-parallel-item::after {content: \"\";width: 100%;border-bottom: 1px solid gray;flex-grow: 1;}#sk-container-id-3 div.sk-label:hover label.sk-toggleable__label {background-color: #d4ebff;}#sk-container-id-3 div.sk-serial::before {content: \"\";position: absolute;border-left: 1px solid gray;box-sizing: border-box;top: 0;bottom: 0;left: 50%;z-index: 0;}#sk-container-id-3 div.sk-serial {display: flex;flex-direction: column;align-items: center;background-color: white;padding-right: 0.2em;padding-left: 0.2em;position: relative;}#sk-container-id-3 div.sk-item {position: relative;z-index: 1;}#sk-container-id-3 div.sk-parallel {display: flex;align-items: stretch;justify-content: center;background-color: white;position: relative;}#sk-container-id-3 div.sk-item::before, #sk-container-id-3 div.sk-parallel-item::before {content: \"\";position: absolute;border-left: 1px solid gray;box-sizing: border-box;top: 0;bottom: 0;left: 50%;z-index: -1;}#sk-container-id-3 div.sk-parallel-item {display: flex;flex-direction: column;z-index: 1;position: relative;background-color: white;}#sk-container-id-3 div.sk-parallel-item:first-child::after {align-self: flex-end;width: 50%;}#sk-container-id-3 div.sk-parallel-item:last-child::after {align-self: flex-start;width: 50%;}#sk-container-id-3 div.sk-parallel-item:only-child::after {width: 0;}#sk-container-id-3 div.sk-dashed-wrapped {border: 1px dashed gray;margin: 0 0.4em 0.5em 0.4em;box-sizing: border-box;padding-bottom: 0.4em;background-color: white;}#sk-container-id-3 div.sk-label label {font-family: monospace;font-weight: bold;display: inline-block;line-height: 1.2em;}#sk-container-id-3 div.sk-label-container {text-align: center;}#sk-container-id-3 div.sk-container {/* jupyter's `normalize.less` sets `[hidden] { display: none; }` but bootstrap.min.css set `[hidden] { display: none !important; }` so we also need the `!important` here to be able to override the default hidden behavior on the sphinx rendered scikit-learn.org. See: https://github.com/scikit-learn/scikit-learn/issues/21755 */display: inline-block !important;position: relative;}#sk-container-id-3 div.sk-text-repr-fallback {display: none;}</style><div id=\"sk-container-id-3\" class=\"sk-top-container\"><div class=\"sk-text-repr-fallback\"><pre>SpectralClustering(n_clusters=4, random_state=17)</pre><b>In a Jupyter environment, please rerun this cell to show the HTML representation or trust the notebook. <br />On GitHub, the HTML representation is unable to render, please try loading this page with nbviewer.org.</b></div><div class=\"sk-container\" hidden><div class=\"sk-item\"><div class=\"sk-estimator sk-toggleable\"><input class=\"sk-toggleable__control sk-hidden--visually\" id=\"sk-estimator-id-3\" type=\"checkbox\" checked><label for=\"sk-estimator-id-3\" class=\"sk-toggleable__label sk-toggleable__label-arrow\">SpectralClustering</label><div class=\"sk-toggleable__content\"><pre>SpectralClustering(n_clusters=4, random_state=17)</pre></div></div></div></div></div>"
            ]
          },
          "metadata": {},
          "execution_count": 25
        }
      ]
    },
    {
      "cell_type": "markdown",
      "source": [
        "# Evaluasi Model"
      ],
      "metadata": {
        "id": "FvmvbuIv3Iau"
      }
    },
    {
      "cell_type": "code",
      "source": [
        "plt.figure(figsize=(20, 6))\n",
        "sns.scatterplot(x='pc1', y='pc2', hue=kmeans.labels_, data=principalDf, palette='Set1')\n",
        "plt.title('K-Means Clustering Using 4 Clusters')\n",
        "plt.xlabel('PCA 1')\n",
        "plt.ylabel('PCA 2')\n",
        "plt.show()"
      ],
      "metadata": {
        "colab": {
          "base_uri": "https://localhost:8080/",
          "height": 348
        },
        "id": "eUIylm623SIi",
        "outputId": "9f38fbd9-0d3b-45da-8e77-fc8492b1ea01"
      },
      "execution_count": 26,
      "outputs": [
        {
          "output_type": "display_data",
          "data": {
            "text/plain": [
              "<Figure size 1440x432 with 1 Axes>"
            ],
            "image/png": "[encoded data removed]"
          },
          "metadata": {}
        }
      ]
    },
    {
      "cell_type": "markdown",
      "source": [
        "## Evaluasi Model"
      ],
      "metadata": {
        "id": "ULrQMfO6F-5X"
      }
    },
    {
      "cell_type": "code",
      "source": [
        "plt.figure(figsize=(20, 6))\n",
        "sns.scatterplot(x='pc1', y='pc2', hue=kmeans.labels_, data=principalDf, palette='Set1')\n",
        "plt.title('K-Means Clustering Using 4 Clusters')\n",
        "plt.xlabel('PCA 1')\n",
        "plt.ylabel('PCA 2')\n",
        "plt.show()"
      ],
      "metadata": {
        "id": "Iu9EpaCTGAcm",
        "colab": {
          "base_uri": "https://localhost:8080/",
          "height": 348
        },
        "outputId": "b284c3e7-f488-46a6-ca2b-feda9922cb31"
      },
      "execution_count": 27,
      "outputs": [
        {
          "output_type": "display_data",
          "data": {
            "text/plain": [
              "<Figure size 1440x432 with 1 Axes>"
            ],
            "image/png": "[encoded data removed]"
          },
          "metadata": {}
        }
      ]
    },
    {
      "cell_type": "code",
      "source": [
        "plt.figure(figsize=(20, 6))\n",
        "sns.scatterplot(x='pc1', y='pc2', hue=agg.labels_, data=principalDf, palette='Set1')\n",
        "plt.title('Agglomerative Clustering Using 5 Clusters')\n",
        "plt.xlabel('PCA 1')\n",
        "plt.ylabel('PCA 2')\n",
        "plt.show()"
      ],
      "metadata": {
        "colab": {
          "base_uri": "https://localhost:8080/",
          "height": 348
        },
        "id": "y9E8ZHS-5scd",
        "outputId": "49202290-b3f4-4bcc-f72f-543bf9606beb"
      },
      "execution_count": 28,
      "outputs": [
        {
          "output_type": "display_data",
          "data": {
            "text/plain": [
              "<Figure size 1440x432 with 1 Axes>"
            ],
            "image/png": "[encoded data removed]"
          },
          "metadata": {}
        }
      ]
    },
    {
      "cell_type": "markdown",
      "source": [
        "# RESULT"
      ],
      "metadata": {
        "id": "ChJ4GBBNQPhR"
      }
    },
    {
      "cell_type": "code",
      "source": [
        "result = principalDf.copy()\n",
        "result[\"cluster\"]= kmeans.labels_\n",
        "result"
      ],
      "metadata": {
        "colab": {
          "base_uri": "https://localhost:8080/",
          "height": 424
        },
        "id": "ZwmnEwAM55fA",
        "outputId": "3ec2431f-0ff2-4183-ab7d-b040e1ad9c65"
      },
      "execution_count": 29,
      "outputs": [
        {
          "output_type": "execute_result",
          "data": {
            "text/plain": [
              "           pc1       pc2       pc3       pc4       pc5       pc6  cluster\n",
              "0    25.804481  4.437278  2.001701 -1.820406 -0.427313 -0.125354        3\n",
              "1   -36.138219  0.392346  2.994119  0.025597 -0.183934  0.143554        2\n",
              "2   -35.122626 -0.590481  2.911039  0.029787 -0.021809 -0.065832        2\n",
              "3   -37.137798  0.372626  2.979434  0.020300 -0.093633  0.299691        2\n",
              "4   -38.121831 -0.635165  2.910853  0.084758 -0.257523  0.013464        2\n",
              "..         ...       ...       ...       ...       ...       ...      ...\n",
              "106 -48.080673 -2.687431  2.002660  0.970636 -0.169289 -0.160724        2\n",
              "107 -42.113745 -0.602180  2.175938  0.834485 -0.192940  0.005021        2\n",
              "108 -44.080503 -2.581366  1.242619  0.297371 -0.397811 -0.250908        2\n",
              "109  51.921512 -2.027997  0.839061 -0.912611 -0.272169 -0.013223        1\n",
              "110 -50.061686 -3.613351  0.153851 -0.334108 -0.412253  0.288001        2\n",
              "\n",
              "[111 rows x 7 columns]"
            ],
            "text/html": [
              "\n",
              "  <div id=\"df-68f71890-f64a-4934-ac49-fa9cbecc5b56\">\n",
              "    <div class=\"colab-df-container\">\n",
              "      <div>\n",
              "<style scoped>\n",
              "    .dataframe tbody tr th:only-of-type {\n",
              "        vertical-align: middle;\n",
              "    }\n",
              "\n",
              "    .dataframe tbody tr th {\n",
              "        vertical-align: top;\n",
              "    }\n",
              "\n",
              "    .dataframe thead th {\n",
              "        text-align: right;\n",
              "    }\n",
              "</style>\n",
              "<table border=\"1\" class=\"dataframe\">\n",
              "  <thead>\n",
              "    <tr style=\"text-align: right;\">\n",
              "      <th></th>\n",
              "      <th>pc1</th>\n",
              "      <th>pc2</th>\n",
              "      <th>pc3</th>\n",
              "      <th>pc4</th>\n",
              "      <th>pc5</th>\n",
              "      <th>pc6</th>\n",
              "      <th>cluster</th>\n",
              "    </tr>\n",
              "  </thead>\n",
              "  <tbody>\n",
              "    <tr>\n",
              "      <th>0</th>\n",
              "      <td>25.804481</td>\n",
              "      <td>4.437278</td>\n",
              "      <td>2.001701</td>\n",
              "      <td>-1.820406</td>\n",
              "      <td>-0.427313</td>\n",
              "      <td>-0.125354</td>\n",
              "      <td>3</td>\n",
              "    </tr>\n",
              "    <tr>\n",
              "      <th>1</th>\n",
              "      <td>-36.138219</td>\n",
              "      <td>0.392346</td>\n",
              "      <td>2.994119</td>\n",
              "      <td>0.025597</td>\n",
              "      <td>-0.183934</td>\n",
              "      <td>0.143554</td>\n",
              "      <td>2</td>\n",
              "    </tr>\n",
              "    <tr>\n",
              "      <th>2</th>\n",
              "      <td>-35.122626</td>\n",
              "      <td>-0.590481</td>\n",
              "      <td>2.911039</td>\n",
              "      <td>0.029787</td>\n",
              "      <td>-0.021809</td>\n",
              "      <td>-0.065832</td>\n",
              "      <td>2</td>\n",
              "    </tr>\n",
              "    <tr>\n",
              "      <th>3</th>\n",
              "      <td>-37.137798</td>\n",
              "      <td>0.372626</td>\n",
              "      <td>2.979434</td>\n",
              "      <td>0.020300</td>\n",
              "      <td>-0.093633</td>\n",
              "      <td>0.299691</td>\n",
              "      <td>2</td>\n",
              "    </tr>\n",
              "    <tr>\n",
              "      <th>4</th>\n",
              "      <td>-38.121831</td>\n",
              "      <td>-0.635165</td>\n",
              "      <td>2.910853</td>\n",
              "      <td>0.084758</td>\n",
              "      <td>-0.257523</td>\n",
              "      <td>0.013464</td>\n",
              "      <td>2</td>\n",
              "    </tr>\n",
              "    <tr>\n",
              "      <th>...</th>\n",
              "      <td>...</td>\n",
              "      <td>...</td>\n",
              "      <td>...</td>\n",
              "      <td>...</td>\n",
              "      <td>...</td>\n",
              "      <td>...</td>\n",
              "      <td>...</td>\n",
              "    </tr>\n",
              "    <tr>\n",
              "      <th>106</th>\n",
              "      <td>-48.080673</td>\n",
              "      <td>-2.687431</td>\n",
              "      <td>2.002660</td>\n",
              "      <td>0.970636</td>\n",
              "      <td>-0.169289</td>\n",
              "      <td>-0.160724</td>\n",
              "      <td>2</td>\n",
              "    </tr>\n",
              "    <tr>\n",
              "      <th>107</th>\n",
              "      <td>-42.113745</td>\n",
              "      <td>-0.602180</td>\n",
              "      <td>2.175938</td>\n",
              "      <td>0.834485</td>\n",
              "      <td>-0.192940</td>\n",
              "      <td>0.005021</td>\n",
              "      <td>2</td>\n",
              "    </tr>\n",
              "    <tr>\n",
              "      <th>108</th>\n",
              "      <td>-44.080503</td>\n",
              "      <td>-2.581366</td>\n",
              "      <td>1.242619</td>\n",
              "      <td>0.297371</td>\n",
              "      <td>-0.397811</td>\n",
              "      <td>-0.250908</td>\n",
              "      <td>2</td>\n",
              "    </tr>\n",
              "    <tr>\n",
              "      <th>109</th>\n",
              "      <td>51.921512</td>\n",
              "      <td>-2.027997</td>\n",
              "      <td>0.839061</td>\n",
              "      <td>-0.912611</td>\n",
              "      <td>-0.272169</td>\n",
              "      <td>-0.013223</td>\n",
              "      <td>1</td>\n",
              "    </tr>\n",
              "    <tr>\n",
              "      <th>110</th>\n",
              "      <td>-50.061686</td>\n",
              "      <td>-3.613351</td>\n",
              "      <td>0.153851</td>\n",
              "      <td>-0.334108</td>\n",
              "      <td>-0.412253</td>\n",
              "      <td>0.288001</td>\n",
              "      <td>2</td>\n",
              "    </tr>\n",
              "  </tbody>\n",
              "</table>\n",
              "<p>111 rows × 7 columns</p>\n",
              "</div>\n",
              "      <button class=\"colab-df-convert\" onclick=\"convertToInteractive('df-68f71890-f64a-4934-ac49-fa9cbecc5b56')\"\n",
              "              title=\"Convert this dataframe to an interactive table.\"\n",
              "              style=\"display:none;\">\n",
              "        \n",
              "  <svg xmlns=\"http://www.w3.org/2000/svg\" height=\"24px\"viewBox=\"0 0 24 24\"\n",
              "       width=\"24px\">\n",
              "    <path d=\"M0 0h24v24H0V0z\" fill=\"none\"/>\n",
              "    <path d=\"M18.56 5.44l.94 2.06.94-2.06 2.06-.94-2.06-.94-.94-2.06-.94 2.06-2.06.94zm-11 1L8.5 8.5l.94-2.06 2.06-.94-2.06-.94L8.5 2.5l-.94 2.06-2.06.94zm10 10l.94 2.06.94-2.06 2.06-.94-2.06-.94-.94-2.06-.94 2.06-2.06.94z\"/><path d=\"M17.41 7.96l-1.37-1.37c-.4-.4-.92-.59-1.43-.59-.52 0-1.04.2-1.43.59L10.3 9.45l-7.72 7.72c-.78.78-.78 2.05 0 2.83L4 21.41c.39.39.9.59 1.41.59.51 0 1.02-.2 1.41-.59l7.78-7.78 2.81-2.81c.8-.78.8-2.07 0-2.86zM5.41 20L4 18.59l7.72-7.72 1.47 1.35L5.41 20z\"/>\n",
              "  </svg>\n",
              "      </button>\n",
              "      \n",
              "  <style>\n",
              "    .colab-df-container {\n",
              "      display:flex;\n",
              "      flex-wrap:wrap;\n",
              "      gap: 12px;\n",
              "    }\n",
              "\n",
              "    .colab-df-convert {\n",
              "      background-color: #E8F0FE;\n",
              "      border: none;\n",
              "      border-radius: 50%;\n",
              "      cursor: pointer;\n",
              "      display: none;\n",
              "      fill: #1967D2;\n",
              "      height: 32px;\n",
              "      padding: 0 0 0 0;\n",
              "      width: 32px;\n",
              "    }\n",
              "\n",
              "    .colab-df-convert:hover {\n",
              "      background-color: #E2EBFA;\n",
              "      box-shadow: 0px 1px 2px rgba(60, 64, 67, 0.3), 0px 1px 3px 1px rgba(60, 64, 67, 0.15);\n",
              "      fill: #174EA6;\n",
              "    }\n",
              "\n",
              "    [theme=dark] .colab-df-convert {\n",
              "      background-color: #3B4455;\n",
              "      fill: #D2E3FC;\n",
              "    }\n",
              "\n",
              "    [theme=dark] .colab-df-convert:hover {\n",
              "      background-color: #434B5C;\n",
              "      box-shadow: 0px 1px 3px 1px rgba(0, 0, 0, 0.15);\n",
              "      filter: drop-shadow(0px 1px 2px rgba(0, 0, 0, 0.3));\n",
              "      fill: #FFFFFF;\n",
              "    }\n",
              "  </style>\n",
              "\n",
              "      <script>\n",
              "        const buttonEl =\n",
              "          document.querySelector('#df-68f71890-f64a-4934-ac49-fa9cbecc5b56 button.colab-df-convert');\n",
              "        buttonEl.style.display =\n",
              "          google.colab.kernel.accessAllowed ? 'block' : 'none';\n",
              "\n",
              "        async function convertToInteractive(key) {\n",
              "          const element = document.querySelector('#df-68f71890-f64a-4934-ac49-fa9cbecc5b56');\n",
              "          const dataTable =\n",
              "            await google.colab.kernel.invokeFunction('convertToInteractive',\n",
              "                                                     [key], {});\n",
              "          if (!dataTable) return;\n",
              "\n",
              "          const docLinkHtml = 'Like what you see? Visit the ' +\n",
              "            '<a target=\"_blank\" href=https://colab.research.google.com/notebooks/data_table.ipynb>data table notebook</a>'\n",
              "            + ' to learn more about interactive tables.';\n",
              "          element.innerHTML = '';\n",
              "          dataTable['output_type'] = 'display_data';\n",
              "          await google.colab.output.renderOutput(dataTable, element);\n",
              "          const docLink = document.createElement('div');\n",
              "          docLink.innerHTML = docLinkHtml;\n",
              "          element.appendChild(docLink);\n",
              "        }\n",
              "      </script>\n",
              "    </div>\n",
              "  </div>\n",
              "  "
            ]
          },
          "metadata": {},
          "execution_count": 29
        }
      ]
    },
    {
      "cell_type": "code",
      "source": [
        "data_cluster = pd.concat([db, result['cluster']], axis=1)\n",
        "data_cluster = data_cluster.rename(columns={'jumlah penduduk': 'jumlah_penduduk', 'luas wilayah(km2)': 'luas_wilayah_km2','pengeluaran perkapita':'pengeluaran_perkapita', 'kepadatan penduduk':'kepadatan_penduduk'})\n",
        "data_cluster"
      ],
      "metadata": {
        "id": "4PipWOALZ9uy",
        "colab": {
          "base_uri": "https://localhost:8080/",
          "height": 644
        },
        "outputId": "365d168b-67a7-4f9a-f5d3-fc99fc55c659"
      },
      "execution_count": 30,
      "outputs": [
        {
          "output_type": "execute_result",
          "data": {
            "text/plain": [
              "           kabupaten    provinsi  jumlah_penduduk  luas_wilayah_km2  \\\n",
              "0        Kep, Seribu     JAKARTA            28240             10.18   \n",
              "1    Jakarta Selatan     JAKARTA          2233855            154.32   \n",
              "2      Jakarta Timur     JAKARTA          3056300            182.70   \n",
              "3      Jakarta Pusat     JAKARTA          1066460             52.38   \n",
              "4      Jakarta Barat     JAKARTA          2440073            124.44   \n",
              "..               ...         ...              ...               ...   \n",
              "106           Bekasi  JAWA BARAT          2564941            206.61   \n",
              "107            Depok  JAWA BARAT          2085935            200.29   \n",
              "108           Cimahi  JAWA BARAT           571632             39.27   \n",
              "109      Tasikmalaya  JAWA BARAT           723921            171.61   \n",
              "110           Banjar  JAWA BARAT           203417            113.49   \n",
              "\n",
              "     pengeluaran_perkapita   umur ses  kepadatan_penduduk  tpt_persen  \\\n",
              "0               1219497.42    5-9  C2                2774        8.47   \n",
              "1               2506430.84  35-39   B               14475        5.63   \n",
              "2               2048309.48  30-34   B               16729        8.39   \n",
              "3               2162055.05  35-39   B               20360        5.88   \n",
              "4               2200196.33  30-34   B               19608        7.10   \n",
              "..                     ...    ...  ..                 ...         ...   \n",
              "106             2488463.13  20-24   B               12414        8.81   \n",
              "107             2304941.48  30-34   B               10415        7.82   \n",
              "108             1827071.74  20-24  C1               14556       10.77   \n",
              "109             1310775.14  15-19  C2                4218        6.62   \n",
              "110             1088976.65  15-19  C2                1792        5.53   \n",
              "\n",
              "     jumlah_pasar         umk  cluster  \n",
              "0               0  4394816.00        3  \n",
              "1              27  6185279.00        2  \n",
              "2              34  5442060.00        2  \n",
              "3              46  5099960.00        2  \n",
              "4              19  5687307.00        2  \n",
              "..            ...         ...      ...  \n",
              "106            14  4816921.17        2  \n",
              "107            11  4377231.93        2  \n",
              "108             4  3272668.50        2  \n",
              "109            10  2363389.67        1  \n",
              "110             8  1831884.83        2  \n",
              "\n",
              "[111 rows x 12 columns]"
            ],
            "text/html": [
              "\n",
              "  <div id=\"df-1b8b071e-2a04-4c5b-a4b0-6d1bf3211631\">\n",
              "    <div class=\"colab-df-container\">\n",
              "      <div>\n",
              "<style scoped>\n",
              "    .dataframe tbody tr th:only-of-type {\n",
              "        vertical-align: middle;\n",
              "    }\n",
              "\n",
              "    .dataframe tbody tr th {\n",
              "        vertical-align: top;\n",
              "    }\n",
              "\n",
              "    .dataframe thead th {\n",
              "        text-align: right;\n",
              "    }\n",
              "</style>\n",
              "<table border=\"1\" class=\"dataframe\">\n",
              "  <thead>\n",
              "    <tr style=\"text-align: right;\">\n",
              "      <th></th>\n",
              "      <th>kabupaten</th>\n",
              "      <th>provinsi</th>\n",
              "      <th>jumlah_penduduk</th>\n",
              "      <th>luas_wilayah_km2</th>\n",
              "      <th>pengeluaran_perkapita</th>\n",
              "      <th>umur</th>\n",
              "      <th>ses</th>\n",
              "      <th>kepadatan_penduduk</th>\n",
              "      <th>tpt_persen</th>\n",
              "      <th>jumlah_pasar</th>\n",
              "      <th>umk</th>\n",
              "      <th>cluster</th>\n",
              "    </tr>\n",
              "  </thead>\n",
              "  <tbody>\n",
              "    <tr>\n",
              "      <th>0</th>\n",
              "      <td>Kep, Seribu</td>\n",
              "      <td>JAKARTA</td>\n",
              "      <td>28240</td>\n",
              "      <td>10.18</td>\n",
              "      <td>1219497.42</td>\n",
              "      <td>5-9</td>\n",
              "      <td>C2</td>\n",
              "      <td>2774</td>\n",
              "      <td>8.47</td>\n",
              "      <td>0</td>\n",
              "      <td>4394816.00</td>\n",
              "      <td>3</td>\n",
              "    </tr>\n",
              "    <tr>\n",
              "      <th>1</th>\n",
              "      <td>Jakarta Selatan</td>\n",
              "      <td>JAKARTA</td>\n",
              "      <td>2233855</td>\n",
              "      <td>154.32</td>\n",
              "      <td>2506430.84</td>\n",
              "      <td>35-39</td>\n",
              "      <td>B</td>\n",
              "      <td>14475</td>\n",
              "      <td>5.63</td>\n",
              "      <td>27</td>\n",
              "      <td>6185279.00</td>\n",
              "      <td>2</td>\n",
              "    </tr>\n",
              "    <tr>\n",
              "      <th>2</th>\n",
              "      <td>Jakarta Timur</td>\n",
              "      <td>JAKARTA</td>\n",
              "      <td>3056300</td>\n",
              "      <td>182.70</td>\n",
              "      <td>2048309.48</td>\n",
              "      <td>30-34</td>\n",
              "      <td>B</td>\n",
              "      <td>16729</td>\n",
              "      <td>8.39</td>\n",
              "      <td>34</td>\n",
              "      <td>5442060.00</td>\n",
              "      <td>2</td>\n",
              "    </tr>\n",
              "    <tr>\n",
              "      <th>3</th>\n",
              "      <td>Jakarta Pusat</td>\n",
              "      <td>JAKARTA</td>\n",
              "      <td>1066460</td>\n",
              "      <td>52.38</td>\n",
              "      <td>2162055.05</td>\n",
              "      <td>35-39</td>\n",
              "      <td>B</td>\n",
              "      <td>20360</td>\n",
              "      <td>5.88</td>\n",
              "      <td>46</td>\n",
              "      <td>5099960.00</td>\n",
              "      <td>2</td>\n",
              "    </tr>\n",
              "    <tr>\n",
              "      <th>4</th>\n",
              "      <td>Jakarta Barat</td>\n",
              "      <td>JAKARTA</td>\n",
              "      <td>2440073</td>\n",
              "      <td>124.44</td>\n",
              "      <td>2200196.33</td>\n",
              "      <td>30-34</td>\n",
              "      <td>B</td>\n",
              "      <td>19608</td>\n",
              "      <td>7.10</td>\n",
              "      <td>19</td>\n",
              "      <td>5687307.00</td>\n",
              "      <td>2</td>\n",
              "    </tr>\n",
              "    <tr>\n",
              "      <th>...</th>\n",
              "      <td>...</td>\n",
              "      <td>...</td>\n",
              "      <td>...</td>\n",
              "      <td>...</td>\n",
              "      <td>...</td>\n",
              "      <td>...</td>\n",
              "      <td>...</td>\n",
              "      <td>...</td>\n",
              "      <td>...</td>\n",
              "      <td>...</td>\n",
              "      <td>...</td>\n",
              "      <td>...</td>\n",
              "    </tr>\n",
              "    <tr>\n",
              "      <th>106</th>\n",
              "      <td>Bekasi</td>\n",
              "      <td>JAWA BARAT</td>\n",
              "      <td>2564941</td>\n",
              "      <td>206.61</td>\n",
              "      <td>2488463.13</td>\n",
              "      <td>20-24</td>\n",
              "      <td>B</td>\n",
              "      <td>12414</td>\n",
              "      <td>8.81</td>\n",
              "      <td>14</td>\n",
              "      <td>4816921.17</td>\n",
              "      <td>2</td>\n",
              "    </tr>\n",
              "    <tr>\n",
              "      <th>107</th>\n",
              "      <td>Depok</td>\n",
              "      <td>JAWA BARAT</td>\n",
              "      <td>2085935</td>\n",
              "      <td>200.29</td>\n",
              "      <td>2304941.48</td>\n",
              "      <td>30-34</td>\n",
              "      <td>B</td>\n",
              "      <td>10415</td>\n",
              "      <td>7.82</td>\n",
              "      <td>11</td>\n",
              "      <td>4377231.93</td>\n",
              "      <td>2</td>\n",
              "    </tr>\n",
              "    <tr>\n",
              "      <th>108</th>\n",
              "      <td>Cimahi</td>\n",
              "      <td>JAWA BARAT</td>\n",
              "      <td>571632</td>\n",
              "      <td>39.27</td>\n",
              "      <td>1827071.74</td>\n",
              "      <td>20-24</td>\n",
              "      <td>C1</td>\n",
              "      <td>14556</td>\n",
              "      <td>10.77</td>\n",
              "      <td>4</td>\n",
              "      <td>3272668.50</td>\n",
              "      <td>2</td>\n",
              "    </tr>\n",
              "    <tr>\n",
              "      <th>109</th>\n",
              "      <td>Tasikmalaya</td>\n",
              "      <td>JAWA BARAT</td>\n",
              "      <td>723921</td>\n",
              "      <td>171.61</td>\n",
              "      <td>1310775.14</td>\n",
              "      <td>15-19</td>\n",
              "      <td>C2</td>\n",
              "      <td>4218</td>\n",
              "      <td>6.62</td>\n",
              "      <td>10</td>\n",
              "      <td>2363389.67</td>\n",
              "      <td>1</td>\n",
              "    </tr>\n",
              "    <tr>\n",
              "      <th>110</th>\n",
              "      <td>Banjar</td>\n",
              "      <td>JAWA BARAT</td>\n",
              "      <td>203417</td>\n",
              "      <td>113.49</td>\n",
              "      <td>1088976.65</td>\n",
              "      <td>15-19</td>\n",
              "      <td>C2</td>\n",
              "      <td>1792</td>\n",
              "      <td>5.53</td>\n",
              "      <td>8</td>\n",
              "      <td>1831884.83</td>\n",
              "      <td>2</td>\n",
              "    </tr>\n",
              "  </tbody>\n",
              "</table>\n",
              "<p>111 rows × 12 columns</p>\n",
              "</div>\n",
              "      <button class=\"colab-df-convert\" onclick=\"convertToInteractive('df-1b8b071e-2a04-4c5b-a4b0-6d1bf3211631')\"\n",
              "              title=\"Convert this dataframe to an interactive table.\"\n",
              "              style=\"display:none;\">\n",
              "        \n",
              "  <svg xmlns=\"http://www.w3.org/2000/svg\" height=\"24px\"viewBox=\"0 0 24 24\"\n",
              "       width=\"24px\">\n",
              "    <path d=\"M0 0h24v24H0V0z\" fill=\"none\"/>\n",
              "    <path d=\"M18.56 5.44l.94 2.06.94-2.06 2.06-.94-2.06-.94-.94-2.06-.94 2.06-2.06.94zm-11 1L8.5 8.5l.94-2.06 2.06-.94-2.06-.94L8.5 2.5l-.94 2.06-2.06.94zm10 10l.94 2.06.94-2.06 2.06-.94-2.06-.94-.94-2.06-.94 2.06-2.06.94z\"/><path d=\"M17.41 7.96l-1.37-1.37c-.4-.4-.92-.59-1.43-.59-.52 0-1.04.2-1.43.59L10.3 9.45l-7.72 7.72c-.78.78-.78 2.05 0 2.83L4 21.41c.39.39.9.59 1.41.59.51 0 1.02-.2 1.41-.59l7.78-7.78 2.81-2.81c.8-.78.8-2.07 0-2.86zM5.41 20L4 18.59l7.72-7.72 1.47 1.35L5.41 20z\"/>\n",
              "  </svg>\n",
              "      </button>\n",
              "      \n",
              "  <style>\n",
              "    .colab-df-container {\n",
              "      display:flex;\n",
              "      flex-wrap:wrap;\n",
              "      gap: 12px;\n",
              "    }\n",
              "\n",
              "    .colab-df-convert {\n",
              "      background-color: #E8F0FE;\n",
              "      border: none;\n",
              "      border-radius: 50%;\n",
              "      cursor: pointer;\n",
              "      display: none;\n",
              "      fill: #1967D2;\n",
              "      height: 32px;\n",
              "      padding: 0 0 0 0;\n",
              "      width: 32px;\n",
              "    }\n",
              "\n",
              "    .colab-df-convert:hover {\n",
              "      background-color: #E2EBFA;\n",
              "      box-shadow: 0px 1px 2px rgba(60, 64, 67, 0.3), 0px 1px 3px 1px rgba(60, 64, 67, 0.15);\n",
              "      fill: #174EA6;\n",
              "    }\n",
              "\n",
              "    [theme=dark] .colab-df-convert {\n",
              "      background-color: #3B4455;\n",
              "      fill: #D2E3FC;\n",
              "    }\n",
              "\n",
              "    [theme=dark] .colab-df-convert:hover {\n",
              "      background-color: #434B5C;\n",
              "      box-shadow: 0px 1px 3px 1px rgba(0, 0, 0, 0.15);\n",
              "      filter: drop-shadow(0px 1px 2px rgba(0, 0, 0, 0.3));\n",
              "      fill: #FFFFFF;\n",
              "    }\n",
              "  </style>\n",
              "\n",
              "      <script>\n",
              "        const buttonEl =\n",
              "          document.querySelector('#df-1b8b071e-2a04-4c5b-a4b0-6d1bf3211631 button.colab-df-convert');\n",
              "        buttonEl.style.display =\n",
              "          google.colab.kernel.accessAllowed ? 'block' : 'none';\n",
              "\n",
              "        async function convertToInteractive(key) {\n",
              "          const element = document.querySelector('#df-1b8b071e-2a04-4c5b-a4b0-6d1bf3211631');\n",
              "          const dataTable =\n",
              "            await google.colab.kernel.invokeFunction('convertToInteractive',\n",
              "                                                     [key], {});\n",
              "          if (!dataTable) return;\n",
              "\n",
              "          const docLinkHtml = 'Like what you see? Visit the ' +\n",
              "            '<a target=\"_blank\" href=https://colab.research.google.com/notebooks/data_table.ipynb>data table notebook</a>'\n",
              "            + ' to learn more about interactive tables.';\n",
              "          element.innerHTML = '';\n",
              "          dataTable['output_type'] = 'display_data';\n",
              "          await google.colab.output.renderOutput(dataTable, element);\n",
              "          const docLink = document.createElement('div');\n",
              "          docLink.innerHTML = docLinkHtml;\n",
              "          element.appendChild(docLink);\n",
              "        }\n",
              "      </script>\n",
              "    </div>\n",
              "  </div>\n",
              "  "
            ]
          },
          "metadata": {},
          "execution_count": 30
        }
      ]
    },
    {
      "cell_type": "markdown",
      "source": [
        "# ANALISIS\n"
      ],
      "metadata": {
        "id": "O0mg1oPATW7_"
      }
    },
    {
      "cell_type": "markdown",
      "source": [
        "### Socio-economic status"
      ],
      "metadata": {
        "id": "dx56BOa1jwCv"
      }
    },
    {
      "cell_type": "code",
      "source": [
        "dfs = []\n",
        "\n",
        "# loop over the unique values in the 'cluster' column\n",
        "for i in range(data_cluster['cluster'].nunique()):\n",
        "    # create a dataframe for the current cluster\n",
        "    df = data_cluster[data_cluster['cluster'] == i]\n",
        "    # append the dataframe to the list\n",
        "    dfs.append(df)\n",
        "\n",
        "# create subplots using a loop\n",
        "fig, axs = plt.subplots(2, 2, figsize=(10, 8))\n",
        "axs = axs.flatten()\n",
        "for i, df in enumerate(dfs):\n",
        "    if i < len(axs):\n",
        "        sns.countplot(data=df, x='ses', ax=axs[i])\n",
        "        axs[i].set_title(f\"Cluster {i}\")\n",
        "plt.tight_layout()\n",
        "plt.show()"
      ],
      "metadata": {
        "id": "cx0pMGYhhMLy",
        "colab": {
          "base_uri": "https://localhost:8080/",
          "height": 581
        },
        "outputId": "4245c271-94de-4465-bf48-2bca7907a66f"
      },
      "execution_count": 31,
      "outputs": [
        {
          "output_type": "display_data",
          "data": {
            "text/plain": [
              "<Figure size 720x576 with 4 Axes>"
            ],
            "image/png": "[encoded data removed]"
          },
          "metadata": {}
        }
      ]
    },
    {
      "cell_type": "markdown",
      "source": [
        "**ANALISIS**\n",
        "\n",
        "1. Cluster 0 is dominated by Socio-economic status D\n",
        "2. Cluster 1 is dominated by Socio-economic status C2\n",
        "3. Cluster 2 is dominated by Socio-economic status B, C2 & D\n",
        "4. Cluster 3 is dominated by Socio-economic status D"
      ],
      "metadata": {
        "id": "dIDUocBViwpJ"
      }
    },
    {
      "cell_type": "code",
      "source": [
        "dfs = []\n",
        "\n",
        "# loop over the unique values in the 'cluster' column\n",
        "for i in range(data_cluster['cluster'].nunique()):\n",
        "    # create a dataframe for the current cluster\n",
        "    df = data_cluster[data_cluster['cluster'] == i]\n",
        "    # append the dataframe to the list\n",
        "    dfs.append(df)\n",
        "\n",
        "# create subplots using a loop\n",
        "fig, axs = plt.subplots(2, 2, figsize=(10, 8))\n",
        "axs = axs.flatten()\n",
        "for i, df in enumerate(dfs):\n",
        "    if i < len(axs):\n",
        "        sns.countplot(data=df, x='provinsi', ax=axs[i])\n",
        "        axs[i].set_title(f\"Cluster {i}\")\n",
        "plt.tight_layout()\n",
        "plt.show()"
      ],
      "metadata": {
        "id": "GHxQQTkBitKO",
        "colab": {
          "base_uri": "https://localhost:8080/",
          "height": 581
        },
        "outputId": "1a94fb13-2975-4de9-8d71-c541bfd877b0"
      },
      "execution_count": 32,
      "outputs": [
        {
          "output_type": "display_data",
          "data": {
            "text/plain": [
              "<Figure size 720x576 with 4 Axes>"
            ],
            "image/png": "[encoded data removed]"
          },
          "metadata": {}
        }
      ]
    },
    {
      "cell_type": "markdown",
      "source": [
        "**ANALISIS**\n",
        "\n",
        "1. Cluster 0 is dominated by `JAWA TIMUR`\n",
        "2. Cluster 1 is dominated by `JAWA BARAT`\n",
        "3. Cluster 2 is dominated by `JAWA BARAT`\n",
        "4. Cluster 3 is dominated by `JAWA TENGAH`"
      ],
      "metadata": {
        "id": "VMxROJB-k6xJ"
      }
    },
    {
      "cell_type": "code",
      "source": [
        "dfs = []\n",
        "\n",
        "# loop over the unique values in the 'cluster' column\n",
        "for i in range(data_cluster['cluster'].nunique()):\n",
        "    # create a dataframe for the current cluster\n",
        "    df = data_cluster[data_cluster['cluster'] == i]\n",
        "    # append the dataframe to the list\n",
        "    dfs.append(df)\n",
        "\n",
        "# create subplots using a loop\n",
        "fig, axs = plt.subplots(2, 2, figsize=(10, 8))\n",
        "axs = axs.flatten()\n",
        "for i, df in enumerate(dfs):\n",
        "    if i < len(axs):\n",
        "        sns.countplot(data=df, x='umur', ax=axs[i])\n",
        "        axs[i].set_title(f\"Cluster {i}\")\n",
        "plt.tight_layout()\n",
        "plt.show()"
      ],
      "metadata": {
        "id": "G9aymDA0k6JG",
        "colab": {
          "base_uri": "https://localhost:8080/",
          "height": 581
        },
        "outputId": "34d3e8c7-67a5-40ce-d5ab-b416a7163fd5"
      },
      "execution_count": 33,
      "outputs": [
        {
          "output_type": "display_data",
          "data": {
            "text/plain": [
              "<Figure size 720x576 with 4 Axes>"
            ],
            "image/png": "[encoded data removed]"
          },
          "metadata": {}
        }
      ]
    },
    {
      "cell_type": "markdown",
      "source": [
        "**ANALISIS**\n",
        "\n",
        "1. Cluster 0 is dominated by Age `40-44`\n",
        "2. Cluster 1 is dominated by Age `20-24`\n",
        "3. Cluster 2 is dominated by Age `5-9`\n",
        "4. Cluster 3 is dominated by Age `10-14`"
      ],
      "metadata": {
        "id": "_pIb3HzOoGxc"
      }
    },
    {
      "cell_type": "markdown",
      "source": [
        "# CONCLUSION\n"
      ],
      "metadata": {
        "id": "SZZMGAEfof7c"
      }
    },
    {
      "cell_type": "markdown",
      "source": [
        "Cluster mendeskripsikan klasifikasi dari data yang ada dimana : \n",
        "\n",
        "1. **Cluster 0** adalah data dengan mayoritas:\n",
        "  - Sosio-economic status is `D`\n",
        "  - Provinsi is `JAWA TIMUR`\n",
        "  - Umur is `40-44 tahun`\n",
        "\n",
        "2. **Cluster 1** adalah data dengan mayoritas:\n",
        "    - Sosio-economic status is `C2`\n",
        "    - Provinsi is `JAWA BARAT`\n",
        "    - Umur is `20-24 tahun`\n",
        "\n",
        "3. **Cluster 2** adalah data dengan mayoritas:\n",
        "    - Sosio-economic status is `B, C2 & D`\n",
        "    - Provinsi is `JAWA BARAT`\n",
        "    - Umur is `5-9 tahun`\n",
        "\n",
        "4. **Cluster 3** adalah data dengan mayoritas:\n",
        "    - Sosio-economic status is `D`\n",
        "    - Provinsi is `JAWA TENGAH`\n",
        "    - Umur is `10-14 tahun`"
      ],
      "metadata": {
        "id": "mVE5TanWomy1"
      }
    },
    {
      "cell_type": "markdown",
      "source": [
        "# MODEL SAVING\n"
      ],
      "metadata": {
        "id": "-S6BrGQ-bDoJ"
      }
    },
    {
      "cell_type": "code",
      "source": [
        "dff= data_cluster.reset_index().to_json(orient='records')"
      ],
      "metadata": {
        "id": "EUaeDfpOex73"
      },
      "execution_count": 34,
      "outputs": []
    },
    {
      "cell_type": "code",
      "source": [
        "dff"
      ],
      "metadata": {
        "id": "oovkuJ9IfWmo",
        "colab": {
          "base_uri": "https://localhost:8080/",
          "height": 175
        },
        "outputId": "b50b5cd7-4341-49be-9dbb-5c215a3e1741"
      },
      "execution_count": 35,
      "outputs": [
        {
          "output_type": "execute_result",
          "data": {
            "text/plain": [
              "'[{\"index\":0,\"kabupaten\":\"Kep, Seribu\",\"provinsi\":\"JAKARTA\",\"jumlah_penduduk\":28240,\"luas_wilayah_km2\":10.18,\"pengeluaran_perkapita\":1219497.4199999999,\"umur\":\"5-9\",\"ses\":\"C2\",\"kepadatan_penduduk\":2774,\"tpt_persen\":8.47,\"jumlah_pasar\":0,\"umk\":4394816.0,\"cluster\":3},{\"index\":1,\"kabupaten\":\"Jakarta Selatan\",\"provinsi\":\"JAKARTA\",\"jumlah_penduduk\":2233855,\"luas_wilayah_km2\":154.32,\"pengeluaran_perkapita\":2506430.8399999999,\"umur\":\"35-39\",\"ses\":\"B\",\"kepadatan_penduduk\":14475,\"tpt_persen\":5.63,\"jumlah_pasar\":27,\"umk\":6185279.0,\"cluster\":2},{\"index\":2,\"kabupaten\":\"Jakarta Timur\",\"provinsi\":\"JAKARTA\",\"jumlah_penduduk\":3056300,\"luas_wilayah_km2\":182.7,\"pengeluaran_perkapita\":2048309.48,\"umur\":\"30-34\",\"ses\":\"B\",\"kepadatan_penduduk\":16729,\"tpt_persen\":8.39,\"jumlah_pasar\":34,\"umk\":5442060.0,\"cluster\":2},{\"index\":3,\"kabupaten\":\"Jakarta Pusat\",\"provinsi\":\"JAKARTA\",\"jumlah_penduduk\":1066460,\"luas_wilayah_km2\":52.38,\"pengeluaran_perkapita\":2162055.0499999998,\"umur\":\"35-39\",\"ses\":\"B\",\"kepadatan_penduduk\":20360,\"tpt_persen\":5.88,\"jumlah_pasar\":46,\"umk\":5099960.0,\"cluster\":2},{\"index\":4,\"kabupaten\":\"Jakarta Barat\",\"provinsi\":\"JAKARTA\",\"jumlah_penduduk\":2440073,\"luas_wilayah_km2\":124.44,\"pengeluaran_perkapita\":2200196.3300000001,\"umur\":\"30-34\",\"ses\":\"B\",\"kepadatan_penduduk\":19608,\"tpt_persen\":7.1,\"jumlah_pasar\":19,\"umk\":5687307.0,\"cluster\":2},{\"index\":5,\"kabupaten\":\"Jakarta Utara\",\"provinsi\":\"JAKARTA\",\"jumlah_penduduk\":1784753,\"luas_wilayah_km2\":139.99,\"pengeluaran_perkapita\":2882588.5299999998,\"umur\":\"30-34\",\"ses\":\"B\",\"kepadatan_penduduk\":12749,\"tpt_persen\":8.04,\"jumlah_pasar\":25,\"umk\":6989775.0,\"cluster\":2},{\"index\":6,\"kabupaten\":\"Kabupaten Cilacap\",\"provinsi\":\"JAWA TENGAH\",\"jumlah_penduduk\":1963824,\"luas_wilayah_km2\":2124.5,\"pengeluaran_perkapita\":830026.0,\"umur\":\"10-14\",\"ses\":\"D\",\"kepadatan_penduduk\":924,\"tpt_persen\":9.62,\"jumlah_pasar\":58,\"umk\":2228904.0,\"cluster\":0},{\"index\":7,\"kabupaten\":\"Kabupaten Banyumas\",\"provinsi\":\"JAWA TENGAH\",\"jumlah_penduduk\":1789630,\"luas_wilayah_km2\":1335.3,\"pengeluaran_perkapita\":1023973.0,\"umur\":\"5-9\",\"ses\":\"C2\",\"kepadatan_penduduk\":1340,\"tpt_persen\":6.05,\"jumlah_pasar\":61,\"umk\":1970000.0,\"cluster\":2},{\"index\":8,\"kabupaten\":\"Kabupaten Purbalingga\",\"provinsi\":\"JAWA TENGAH\",\"jumlah_penduduk\":1007794,\"luas_wilayah_km2\":677.5,\"pengeluaran_perkapita\":900102.0,\"umur\":\"5-9\",\"ses\":\"D\",\"kepadatan_penduduk\":1487,\"tpt_persen\":5.23,\"jumlah_pasar\":47,\"umk\":1988000.0,\"cluster\":3},{\"index\":9,\"kabupaten\":\"Kabupaten Banjarnegara\",\"provinsi\":\"JAWA TENGAH\",\"jumlah_penduduk\":1026866,\"luas_wilayah_km2\":1023.7,\"pengeluaran_perkapita\":975274.0,\"umur\":\"5-9\",\"ses\":\"D\",\"kepadatan_penduduk\":1003,\"tpt_persen\":6.38,\"jumlah_pasar\":38,\"umk\":1805000.0,\"cluster\":2},{\"index\":10,\"kabupaten\":\"Kabupaten Kebumen\",\"provinsi\":\"JAWA TENGAH\",\"jumlah_penduduk\":1361913,\"luas_wilayah_km2\":1211.7,\"pengeluaran_perkapita\":920590.0,\"umur\":\"10-14\",\"ses\":\"D\",\"kepadatan_penduduk\":1124,\"tpt_persen\":5.92,\"jumlah_pasar\":86,\"umk\":1895000.0,\"cluster\":0},{\"index\":11,\"kabupaten\":\"Kabupaten Purworejo\",\"provinsi\":\"JAWA TENGAH\",\"jumlah_penduduk\":773588,\"luas_wilayah_km2\":1091.5,\"pengeluaran_perkapita\":876976.0,\"umur\":\"10-14\",\"ses\":\"D\",\"kepadatan_penduduk\":709,\"tpt_persen\":4.45,\"jumlah_pasar\":14,\"umk\":1905400.0,\"cluster\":3},{\"index\":12,\"kabupaten\":\"Kabupaten Wonosobo\",\"provinsi\":\"JAWA TENGAH\",\"jumlah_penduduk\":886613,\"luas_wilayah_km2\":981.4,\"pengeluaran_perkapita\":923838.0,\"umur\":\"10-14\",\"ses\":\"D\",\"kepadatan_penduduk\":903,\"tpt_persen\":5.01,\"jumlah_pasar\":30,\"umk\":1920000.0,\"cluster\":3},{\"index\":13,\"kabupaten\":\"Kabupaten Magelang\",\"provinsi\":\"JAWA TENGAH\",\"jumlah_penduduk\":1305512,\"luas_wilayah_km2\":1102.9,\"pengeluaran_perkapita\":947904.0,\"umur\":\"10-14\",\"ses\":\"D\",\"kepadatan_penduduk\":1184,\"tpt_persen\":4.97,\"jumlah_pasar\":51,\"umk\":2075000.0,\"cluster\":0},{\"index\":14,\"kabupaten\":\"Kabupaten Boyolali\",\"provinsi\":\"JAWA TENGAH\",\"jumlah_penduduk\":1070247,\"luas_wilayah_km2\":1008.5,\"pengeluaran_perkapita\":991171.0,\"umur\":\"10-14\",\"ses\":\"D\",\"kepadatan_penduduk\":1061,\"tpt_persen\":4.92,\"jumlah_pasar\":62,\"umk\":2000000.0,\"cluster\":0},{\"index\":15,\"kabupaten\":\"Kabupaten Klaten\",\"provinsi\":\"JAWA TENGAH\",\"jumlah_penduduk\":1267272,\"luas_wilayah_km2\":658.2,\"pengeluaran_perkapita\":972999.0,\"umur\":\"40-44\",\"ses\":\"D\",\"kepadatan_penduduk\":1925,\"tpt_persen\":4.31,\"jumlah_pasar\":61,\"umk\":2011515.0,\"cluster\":0},{\"index\":16,\"kabupaten\":\"Kabupaten Sukoharjo\",\"provinsi\":\"JAWA TENGAH\",\"jumlah_penduduk\":911603,\"luas_wilayah_km2\":489.1,\"pengeluaran_perkapita\":1136812.0,\"umur\":\"20-24\",\"ses\":\"C2\",\"kepadatan_penduduk\":1864,\"tpt_persen\":2.47,\"jumlah_pasar\":39,\"umk\":1986450.0,\"cluster\":3},{\"index\":17,\"kabupaten\":\"Kabupaten Wonogiri\",\"provinsi\":\"JAWA TENGAH\",\"jumlah_penduduk\":1049292,\"luas_wilayah_km2\":1793.7,\"pengeluaran_perkapita\":953678.0,\"umur\":\"50-54\",\"ses\":\"D\",\"kepadatan_penduduk\":585,\"tpt_persen\":1.95,\"jumlah_pasar\":49,\"umk\":1827000.0,\"cluster\":3},{\"index\":18,\"kabupaten\":\"Kabupaten Karanganyar\",\"provinsi\":\"JAWA TENGAH\",\"jumlah_penduduk\":938808,\"luas_wilayah_km2\":775.4,\"pengeluaran_perkapita\":1061898.0,\"umur\":\"5-9\",\"ses\":\"C2\",\"kepadatan_penduduk\":1211,\"tpt_persen\":5.7,\"jumlah_pasar\":45,\"umk\":2054040.0,\"cluster\":0},{\"index\":19,\"kabupaten\":\"Kabupaten Sragen\",\"provinsi\":\"JAWA TENGAH\",\"jumlah_penduduk\":983641,\"luas_wilayah_km2\":941.5,\"pengeluaran_perkapita\":1017549.0,\"umur\":\"10-14\",\"ses\":\"C2\",\"kepadatan_penduduk\":1045,\"tpt_persen\":4.69,\"jumlah_pasar\":59,\"umk\":1829500.0,\"cluster\":3},{\"index\":20,\"kabupaten\":\"Kabupaten Grobogan\",\"provinsi\":\"JAWA TENGAH\",\"jumlah_penduduk\":1460873,\"luas_wilayah_km2\":2013.9,\"pengeluaran_perkapita\":819685.0,\"umur\":\"10-14\",\"ses\":\"D\",\"kepadatan_penduduk\":725,\"tpt_persen\":4.4,\"jumlah_pasar\":83,\"umk\":1890000.0,\"cluster\":0},{\"index\":21,\"kabupaten\":\"Kabupaten Blora\",\"provinsi\":\"JAWA TENGAH\",\"jumlah_penduduk\":886147,\"luas_wilayah_km2\":1804.6,\"pengeluaran_perkapita\":908262.0,\"umur\":\"10-14\",\"ses\":\"D\",\"kepadatan_penduduk\":491,\"tpt_persen\":3.7,\"jumlah_pasar\":47,\"umk\":1894000.0,\"cluster\":2},{\"index\":22,\"kabupaten\":\"Kabupaten Rembang\",\"provinsi\":\"JAWA TENGAH\",\"jumlah_penduduk\":647766,\"luas_wilayah_km2\":887.1,\"pengeluaran_perkapita\":1024187.0,\"umur\":\"20-24\",\"ses\":\"C2\",\"kepadatan_penduduk\":730,\"tpt_persen\":1.76,\"jumlah_pasar\":38,\"umk\":1861000.0,\"cluster\":3},{\"index\":23,\"kabupaten\":\"Kabupaten Pati\",\"provinsi\":\"JAWA TENGAH\",\"jumlah_penduduk\":1330983,\"luas_wilayah_km2\":1489.2,\"pengeluaran_perkapita\":1106824.0,\"umur\":\"15-19\",\"ses\":\"C2\",\"kepadatan_penduduk\":894,\"tpt_persen\":4.45,\"jumlah_pasar\":68,\"umk\":1953000.0,\"cluster\":3},{\"index\":24,\"kabupaten\":\"Kabupaten Kudus\",\"provinsi\":\"JAWA TENGAH\",\"jumlah_penduduk\":852443,\"luas_wilayah_km2\":425.1,\"pengeluaran_perkapita\":1105491.0,\"umur\":\"20-24\",\"ses\":\"C2\",\"kepadatan_penduduk\":2005,\"tpt_persen\":3.21,\"jumlah_pasar\":31,\"umk\":2290995.0,\"cluster\":0},{\"index\":25,\"kabupaten\":\"Kabupaten Jepara\",\"provinsi\":\"JAWA TENGAH\",\"jumlah_penduduk\":1188510,\"luas_wilayah_km2\":1059.2,\"pengeluaran_perkapita\":1014416.0,\"umur\":\"20-24\",\"ses\":\"C2\",\"kepadatan_penduduk\":1122,\"tpt_persen\":4.1,\"jumlah_pasar\":54,\"umk\":2107000.0,\"cluster\":0},{\"index\":26,\"kabupaten\":\"Kabupaten Demak\",\"provinsi\":\"JAWA TENGAH\",\"jumlah_penduduk\":1212377,\"luas_wilayah_km2\":900.1,\"pengeluaran_perkapita\":1089278.0,\"umur\":\"20-24\",\"ses\":\"C2\",\"kepadatan_penduduk\":1347,\"tpt_persen\":6.11,\"jumlah_pasar\":42,\"umk\":2511526.0,\"cluster\":0},{\"index\":27,\"kabupaten\":\"Kabupaten Semarang\",\"provinsi\":\"JAWA TENGAH\",\"jumlah_penduduk\":1059844,\"luas_wilayah_km2\":950.2,\"pengeluaran_perkapita\":1101203.0,\"umur\":\"20-24\",\"ses\":\"C2\",\"kepadatan_penduduk\":1115,\"tpt_persen\":4.81,\"jumlah_pasar\":46,\"umk\":2302798.0,\"cluster\":3},{\"index\":28,\"kabupaten\":\"Kabupaten Temanggung\",\"provinsi\":\"JAWA TENGAH\",\"jumlah_penduduk\":794403,\"luas_wilayah_km2\":837.7,\"pengeluaran_perkapita\":748256.0,\"umur\":\"40-44\",\"ses\":\"D\",\"kepadatan_penduduk\":948,\"tpt_persen\":2.54,\"jumlah_pasar\":28,\"umk\":1885000.0,\"cluster\":3},{\"index\":29,\"kabupaten\":\"Kabupaten Kendal\",\"provinsi\":\"JAWA TENGAH\",\"jumlah_penduduk\":1025020,\"luas_wilayah_km2\":1118.1,\"pengeluaran_perkapita\":1010289.0,\"umur\":\"20-24\",\"ses\":\"C2\",\"kepadatan_penduduk\":917,\"tpt_persen\":7.34,\"jumlah_pasar\":32,\"umk\":2335735.0,\"cluster\":0},{\"index\":30,\"kabupaten\":\"Kabupaten Batang\",\"provinsi\":\"JAWA TENGAH\",\"jumlah_penduduk\":807005,\"luas_wilayah_km2\":788.6,\"pengeluaran_perkapita\":915857.0,\"umur\":\"20-24\",\"ses\":\"D\",\"kepadatan_penduduk\":1023,\"tpt_persen\":6.64,\"jumlah_pasar\":26,\"umk\":2129117.0,\"cluster\":2},{\"index\":31,\"kabupaten\":\"Kabupaten Pekalongan\",\"provinsi\":\"JAWA TENGAH\",\"jumlah_penduduk\":976504,\"luas_wilayah_km2\":837.0,\"pengeluaran_perkapita\":996348.0,\"umur\":\"10-14\",\"ses\":\"D\",\"kepadatan_penduduk\":1167,\"tpt_persen\":3.23,\"jumlah_pasar\":19,\"umk\":2084155.0,\"cluster\":3},{\"index\":32,\"kabupaten\":\"Kabupaten Pemalang\",\"provinsi\":\"JAWA TENGAH\",\"jumlah_penduduk\":1484209,\"luas_wilayah_km2\":1118.0,\"pengeluaran_perkapita\":951240.0,\"umur\":\"10-14\",\"ses\":\"D\",\"kepadatan_penduduk\":1328,\"tpt_persen\":6.63,\"jumlah_pasar\":47,\"umk\":1926000.0,\"cluster\":3},{\"index\":33,\"kabupaten\":\"Kabupaten Tegal\",\"provinsi\":\"JAWA TENGAH\",\"jumlah_penduduk\":1608611,\"luas_wilayah_km2\":876.1,\"pengeluaran_perkapita\":971230.0,\"umur\":\"10-14\",\"ses\":\"D\",\"kepadatan_penduduk\":1836,\"tpt_persen\":9.64,\"jumlah_pasar\":28,\"umk\":1958000.0,\"cluster\":3},{\"index\":34,\"kabupaten\":\"Kabupaten Brebes\",\"provinsi\":\"JAWA TENGAH\",\"jumlah_penduduk\":1992685,\"luas_wilayah_km2\":1902.4,\"pengeluaran_perkapita\":975752.0,\"umur\":\"10-14\",\"ses\":\"D\",\"kepadatan_penduduk\":1047,\"tpt_persen\":9.48,\"jumlah_pasar\":48,\"umk\":1866723.0,\"cluster\":0},{\"index\":35,\"kabupaten\":\"Kota Magelang\",\"provinsi\":\"JAWA TENGAH\",\"jumlah_penduduk\":121610,\"luas_wilayah_km2\":45215.0,\"pengeluaran_perkapita\":1497033.0,\"umur\":\"15-19\",\"ses\":\"C2\",\"kepadatan_penduduk\":7572,\"tpt_persen\":6.71,\"jumlah_pasar\":7,\"umk\":1914000.0,\"cluster\":1},{\"index\":36,\"kabupaten\":\"Kota Surakarta\",\"provinsi\":\"JAWA TENGAH\",\"jumlah_penduduk\":522728,\"luas_wilayah_km2\":46.0,\"pengeluaran_perkapita\":1603079.0,\"umur\":\"15-19\",\"ses\":\"C1\",\"kepadatan_penduduk\":11361,\"tpt_persen\":5.83,\"jumlah_pasar\":48,\"umk\":2013810.0,\"cluster\":1},{\"index\":37,\"kabupaten\":\"Kota Salatiga\",\"provinsi\":\"JAWA TENGAH\",\"jumlah_penduduk\":193525,\"luas_wilayah_km2\":57.4,\"pengeluaran_perkapita\":1913225.0,\"umur\":\"20-24\",\"ses\":\"C1\",\"kepadatan_penduduk\":3374,\"tpt_persen\":5.58,\"jumlah_pasar\":10,\"umk\":2101457.0,\"cluster\":1},{\"index\":38,\"kabupaten\":\"Kota Semarang\",\"provinsi\":\"JAWA TENGAH\",\"jumlah_penduduk\":1656564,\"luas_wilayah_km2\":373.8,\"pengeluaran_perkapita\":1929166.0,\"umur\":\"20-24\",\"ses\":\"C1\",\"kepadatan_penduduk\":4432,\"tpt_persen\":7.6,\"jumlah_pasar\":57,\"umk\":2810025.0,\"cluster\":1},{\"index\":39,\"kabupaten\":\"Kota Pekalongan\",\"provinsi\":\"JAWA TENGAH\",\"jumlah_penduduk\":308310,\"luas_wilayah_km2\":45.2,\"pengeluaran_perkapita\":1379831.0,\"umur\":\"20-24\",\"ses\":\"C2\",\"kepadatan_penduduk\":6813,\"tpt_persen\":4.98,\"jumlah_pasar\":12,\"umk\":2139754.0,\"cluster\":1},{\"index\":40,\"kabupaten\":\"Kota Tegal\",\"provinsi\":\"JAWA TENGAH\",\"jumlah_penduduk\":275781,\"luas_wilayah_km2\":39.7,\"pengeluaran_perkapita\":1522241.0,\"umur\":\"20-24\",\"ses\":\"C1\",\"kepadatan_penduduk\":6950,\"tpt_persen\":6.68,\"jumlah_pasar\":12,\"umk\":1982750.0,\"cluster\":1},{\"index\":41,\"kabupaten\":\"Kulonprogo\",\"provinsi\":\"YOGYAKARTA\",\"jumlah_penduduk\":442724,\"luas_wilayah_km2\":508.13,\"pengeluaran_perkapita\":1006900.0,\"umur\":\"15-19\",\"ses\":\"C2\",\"kepadatan_penduduk\":733,\"tpt_persen\":2.8,\"jumlah_pasar\":27,\"umk\":2050447.0,\"cluster\":1},{\"index\":42,\"kabupaten\":\"Bantul\",\"provinsi\":\"YOGYAKARTA\",\"jumlah_penduduk\":1050308,\"luas_wilayah_km2\":1431.42,\"pengeluaran_perkapita\":1554500.0,\"umur\":\"35-39\",\"ses\":\"C1\",\"kepadatan_penduduk\":2009,\"tpt_persen\":3.97,\"jumlah_pasar\":33,\"umk\":2066439.0,\"cluster\":2},{\"index\":43,\"kabupaten\":\"Gunungkidul\",\"provinsi\":\"YOGYAKARTA\",\"jumlah_penduduk\":767464,\"luas_wilayah_km2\":586.28,\"pengeluaran_perkapita\":950500.0,\"umur\":\"45-49\",\"ses\":\"D\",\"kepadatan_penduduk\":500,\"tpt_persen\":2.08,\"jumlah_pasar\":36,\"umk\":2049266.0,\"cluster\":2},{\"index\":44,\"kabupaten\":\"Sleman\",\"provinsi\":\"YOGYAKARTA\",\"jumlah_penduduk\":1265429,\"luas_wilayah_km2\":574.82,\"pengeluaran_perkapita\":1606000.0,\"umur\":\"20-24\",\"ses\":\"C1\",\"kepadatan_penduduk\":2121,\"tpt_persen\":4.78,\"jumlah_pasar\":41,\"umk\":2159519.0,\"cluster\":1},{\"index\":45,\"kabupaten\":\"Yogyakarta\",\"provinsi\":\"YOGYAKARTA\",\"jumlah_penduduk\":3970220,\"luas_wilayah_km2\":32.5,\"pengeluaran_perkapita\":1880100.0,\"umur\":\"40-44\",\"ses\":\"C1\",\"kepadatan_penduduk\":13290,\"tpt_persen\":7.18,\"jumlah_pasar\":12,\"umk\":2324776.0,\"cluster\":1},{\"index\":46,\"kabupaten\":\"Kabupaten Pacitan\",\"provinsi\":\"JAWA TIMUR\",\"jumlah_penduduk\":589108,\"luas_wilayah_km2\":1389.92,\"pengeluaran_perkapita\":689363.0,\"umur\":\"45-49\",\"ses\":\"E\",\"kepadatan_penduduk\":418,\"tpt_persen\":3.65,\"jumlah_pasar\":18,\"umk\":2157270.25,\"cluster\":0},{\"index\":47,\"kabupaten\":\"Kabupaten Ponorogo\",\"provinsi\":\"JAWA TIMUR\",\"jumlah_penduduk\":955839,\"luas_wilayah_km2\":1305.7,\"pengeluaran_perkapita\":923419.0,\"umur\":\"50-54\",\"ses\":\"D\",\"kepadatan_penduduk\":684,\"tpt_persen\":5.51,\"jumlah_pasar\":56,\"umk\":2149709.4500000002,\"cluster\":3},{\"index\":48,\"kabupaten\":\"Kabupaten Trenggalek\",\"provinsi\":\"JAWA TIMUR\",\"jumlah_penduduk\":734888,\"luas_wilayah_km2\":1147.22,\"pengeluaran_perkapita\":791239.0,\"umur\":\"45-49\",\"ses\":\"D\",\"kepadatan_penduduk\":598,\"tpt_persen\":5.37,\"jumlah_pasar\":9,\"umk\":2139426.0099999998,\"cluster\":3},{\"index\":49,\"kabupaten\":\"Kabupaten Tulungagung\",\"provinsi\":\"JAWA TIMUR\",\"jumlah_penduduk\":1096588,\"luas_wilayah_km2\":1055.65,\"pengeluaran_perkapita\":1074754.0,\"umur\":\"45-49\",\"ses\":\"C2\",\"kepadatan_penduduk\":985,\"tpt_persen\":6.65,\"jumlah_pasar\":17,\"umk\":2229358.6699999999,\"cluster\":3},{\"index\":50,\"kabupaten\":\"Kabupaten Blitar\",\"provinsi\":\"JAWA TIMUR\",\"jumlah_penduduk\":1231013,\"luas_wilayah_km2\":1336.48,\"pengeluaran_perkapita\":932222.0,\"umur\":\"50-54\",\"ses\":\"D\",\"kepadatan_penduduk\":701,\"tpt_persen\":5.45,\"jumlah_pasar\":51,\"umk\":2215071.1800000002,\"cluster\":2},{\"index\":51,\"kabupaten\":\"Kabupaten Kediri\",\"provinsi\":\"JAWA TIMUR\",\"jumlah_penduduk\":1644400,\"luas_wilayah_km2\":1386.05,\"pengeluaran_perkapita\":942363.0,\"umur\":\"40-44\",\"ses\":\"D\",\"kepadatan_penduduk\":1099,\"tpt_persen\":6.83,\"jumlah_pasar\":61,\"umk\":2243422.9300000002,\"cluster\":0},{\"index\":52,\"kabupaten\":\"Kabupaten Malang\",\"provinsi\":\"JAWA TIMUR\",\"jumlah_penduduk\":2668296,\"luas_wilayah_km2\":3530.65,\"pengeluaran_perkapita\":974043.0,\"umur\":\"45-49\",\"ses\":\"D\",\"kepadatan_penduduk\":766,\"tpt_persen\":6.57,\"jumlah_pasar\":6,\"umk\":3268275.3599999999,\"cluster\":0},{\"index\":53,\"kabupaten\":\"Kabupaten Lumajang\",\"provinsi\":\"JAWA TIMUR\",\"jumlah_penduduk\":1127094,\"luas_wilayah_km2\":1790.9,\"pengeluaran_perkapita\":996500.0,\"umur\":\"40-44\",\"ses\":\"D\",\"kepadatan_penduduk\":609,\"tpt_persen\":4.97,\"jumlah_pasar\":13,\"umk\":2200607.2000000002,\"cluster\":0},{\"index\":54,\"kabupaten\":\"Kabupaten Jember\",\"provinsi\":\"JAWA TIMUR\",\"jumlah_penduduk\":2550360,\"luas_wilayah_km2\":3092.34,\"pengeluaran_perkapita\":936487.0,\"umur\":\"40-44\",\"ses\":\"D\",\"kepadatan_penduduk\":780,\"tpt_persen\":4.06,\"jumlah_pasar\":11,\"umk\":2555662.9100000001,\"cluster\":0},{\"index\":55,\"kabupaten\":\"Kabupaten Banyuwangi\",\"provinsi\":\"JAWA TIMUR\",\"jumlah_penduduk\":1718462,\"luas_wilayah_km2\":5782.4,\"pengeluaran_perkapita\":1188385.0,\"umur\":\"40-44\",\"ses\":\"C2\",\"kepadatan_penduduk\":488,\"tpt_persen\":5.26,\"jumlah_pasar\":1,\"umk\":2528899.1200000001,\"cluster\":2},{\"index\":56,\"kabupaten\":\"Kabupaten Bondowoso\",\"provinsi\":\"JAWA TIMUR\",\"jumlah_penduduk\":778525,\"luas_wilayah_km2\":1525.97,\"pengeluaran_perkapita\":854506.0,\"umur\":\"40-44\",\"ses\":\"D\",\"kepadatan_penduduk\":516,\"tpt_persen\":4.32,\"jumlah_pasar\":4,\"umk\":2154504.1299999999,\"cluster\":0},{\"index\":57,\"kabupaten\":\"Kabupaten Situbondo\",\"provinsi\":\"JAWA TIMUR\",\"jumlah_penduduk\":688337,\"luas_wilayah_km2\":1669.87,\"pengeluaran_perkapita\":868906.0,\"umur\":\"35-39\",\"ses\":\"D\",\"kepadatan_penduduk\":403,\"tpt_persen\":3.38,\"jumlah_pasar\":7,\"umk\":2137025.8500000001,\"cluster\":3},{\"index\":58,\"kabupaten\":\"Kabupaten Probolinggo\",\"provinsi\":\"JAWA TIMUR\",\"jumlah_penduduk\":1155894,\"luas_wilayah_km2\":1696.21,\"pengeluaran_perkapita\":803883.0,\"umur\":\"25-29\",\"ses\":\"D\",\"kepadatan_penduduk\":672,\"tpt_persen\":3.25,\"jumlah_pasar\":12,\"umk\":2753265.9500000002,\"cluster\":3},{\"index\":59,\"kabupaten\":\"Kabupaten Pasuruan\",\"provinsi\":\"JAWA TIMUR\",\"jumlah_penduduk\":1611805,\"luas_wilayah_km2\":1474.02,\"pengeluaran_perkapita\":967469.0,\"umur\":\"35-39\",\"ses\":\"D\",\"kepadatan_penduduk\":1077,\"tpt_persen\":5.91,\"jumlah_pasar\":28,\"umk\":4515133.1900000004,\"cluster\":3},{\"index\":60,\"kabupaten\":\"Kabupaten Sidoarjo\",\"provinsi\":\"JAWA TIMUR\",\"jumlah_penduduk\":2091930,\"luas_wilayah_km2\":634.38,\"pengeluaran_perkapita\":1702975.0,\"umur\":\"35-39\",\"ses\":\"C1\",\"kepadatan_penduduk\":2691,\"tpt_persen\":8.8,\"jumlah_pasar\":16,\"umk\":4518581.8499999996,\"cluster\":3},{\"index\":61,\"kabupaten\":\"Kabupaten Mojokerto\",\"provinsi\":\"JAWA TIMUR\",\"jumlah_penduduk\":1125522,\"luas_wilayah_km2\":717.83,\"pengeluaran_perkapita\":1152592.0,\"umur\":\"25-29\",\"ses\":\"C2\",\"kepadatan_penduduk\":1146,\"tpt_persen\":4.83,\"jumlah_pasar\":11,\"umk\":4504787.1699999999,\"cluster\":0},{\"index\":62,\"kabupaten\":\"Kabupaten Jombang\",\"provinsi\":\"JAWA TIMUR\",\"jumlah_penduduk\":1325914,\"luas_wilayah_km2\":1115.09,\"pengeluaran_perkapita\":1044859.0,\"umur\":\"40-44\",\"ses\":\"C2\",\"kepadatan_penduduk\":1219,\"tpt_persen\":5.47,\"jumlah_pasar\":6,\"umk\":2854095.8799999999,\"cluster\":0},{\"index\":63,\"kabupaten\":\"Kabupaten Nganjuk\",\"provinsi\":\"JAWA TIMUR\",\"jumlah_penduduk\":1109683,\"luas_wilayah_km2\":1224.25,\"pengeluaran_perkapita\":945427.0,\"umur\":\"40-44\",\"ses\":\"D\",\"kepadatan_penduduk\":880,\"tpt_persen\":4.74,\"jumlah_pasar\":18,\"umk\":2167007.0499999998,\"cluster\":0},{\"index\":64,\"kabupaten\":\"Kabupaten Madiun\",\"provinsi\":\"JAWA TIMUR\",\"jumlah_penduduk\":750143,\"luas_wilayah_km2\":1037.58,\"pengeluaran_perkapita\":866944.0,\"umur\":\"45-49\",\"ses\":\"D\",\"kepadatan_penduduk\":678,\"tpt_persen\":5.84,\"jumlah_pasar\":25,\"umk\":2154251.3399999999,\"cluster\":0},{\"index\":65,\"kabupaten\":\"Kabupaten Magetan\",\"provinsi\":\"JAWA TIMUR\",\"jumlah_penduduk\":674133,\"luas_wilayah_km2\":688.84,\"pengeluaran_perkapita\":972412.0,\"umur\":\"55-59\",\"ses\":\"D\",\"kepadatan_penduduk\":977,\"tpt_persen\":4.33,\"jumlah_pasar\":52,\"umk\":2153062.3700000001,\"cluster\":0},{\"index\":66,\"kabupaten\":\"Kabupaten Ngawi\",\"provinsi\":\"JAWA TIMUR\",\"jumlah_penduduk\":873346,\"luas_wilayah_km2\":1295.98,\"pengeluaran_perkapita\":862193.0,\"umur\":\"45-49\",\"ses\":\"D\",\"kepadatan_penduduk\":643,\"tpt_persen\":2.48,\"jumlah_pasar\":7,\"umk\":2158844.5899999999,\"cluster\":0},{\"index\":67,\"kabupaten\":\"Kabupaten Bojonegoro\",\"provinsi\":\"JAWA TIMUR\",\"jumlah_penduduk\":1307602,\"luas_wilayah_km2\":2198.79,\"pengeluaran_perkapita\":951402.0,\"umur\":\"40-44\",\"ses\":\"D\",\"kepadatan_penduduk\":581,\"tpt_persen\":4.69,\"jumlah_pasar\":14,\"umk\":2279568.0699999998,\"cluster\":0},{\"index\":68,\"kabupaten\":\"Kabupaten Tuban\",\"provinsi\":\"JAWA TIMUR\",\"jumlah_penduduk\":1203127,\"luas_wilayah_km2\":1834.15,\"pengeluaran_perkapita\":999885.0,\"umur\":\"40-44\",\"ses\":\"D\",\"kepadatan_penduduk\":621,\"tpt_persen\":4.54,\"jumlah_pasar\":14,\"umk\":2739224.8799999999,\"cluster\":3},{\"index\":69,\"kabupaten\":\"Kabupaten Lamongan\",\"provinsi\":\"JAWA TIMUR\",\"jumlah_penduduk\":1356027,\"luas_wilayah_km2\":1782.05,\"pengeluaran_perkapita\":1099944.0,\"umur\":\"50-54\",\"ses\":\"C2\",\"kepadatan_penduduk\":788,\"tpt_persen\":6.05,\"jumlah_pasar\":60,\"umk\":2701977.27,\"cluster\":0},{\"index\":70,\"kabupaten\":\"Kabupaten Gresik\",\"provinsi\":\"JAWA TIMUR\",\"jumlah_penduduk\":1320570,\"luas_wilayah_km2\":1191.25,\"pengeluaran_perkapita\":1386341.0,\"umur\":\"30-34\",\"ses\":\"C2\",\"kepadatan_penduduk\":1025,\"tpt_persen\":7.84,\"jumlah_pasar\":4,\"umk\":4522030.5099999998,\"cluster\":0},{\"index\":71,\"kabupaten\":\"Kabupaten Bangkalan\",\"provinsi\":\"JAWA TIMUR\",\"jumlah_penduduk\":1071712,\"luas_wilayah_km2\":1001.44,\"pengeluaran_perkapita\":696199.0,\"umur\":\"5-9\",\"ses\":\"E\",\"kepadatan_penduduk\":833,\"tpt_persen\":8.05,\"jumlah_pasar\":1,\"umk\":2152450.8300000001,\"cluster\":2},{\"index\":72,\"kabupaten\":\"Kabupaten Sampang\",\"provinsi\":\"JAWA TIMUR\",\"jumlah_penduduk\":976020,\"luas_wilayah_km2\":1233.08,\"pengeluaran_perkapita\":663069.0,\"umur\":\"10-14\",\"ses\":\"E\",\"kepadatan_penduduk\":774,\"tpt_persen\":3.11,\"jumlah_pasar\":2,\"umk\":2114335.27,\"cluster\":3},{\"index\":73,\"kabupaten\":\"Kabupaten Pamekasan\",\"provinsi\":\"JAWA TIMUR\",\"jumlah_penduduk\":853507,\"luas_wilayah_km2\":792.24,\"pengeluaran_perkapita\":678583.0,\"umur\":\"10-14\",\"ses\":\"E\",\"kepadatan_penduduk\":1078,\"tpt_persen\":1.4,\"jumlah_pasar\":11,\"umk\":2133655.0299999998,\"cluster\":3},{\"index\":74,\"kabupaten\":\"Kabupaten Sumenep\",\"provinsi\":\"JAWA TIMUR\",\"jumlah_penduduk\":1129822,\"luas_wilayah_km2\":1998.54,\"pengeluaran_perkapita\":1101593.0,\"umur\":\"40-44\",\"ses\":\"C2\",\"kepadatan_penduduk\":545,\"tpt_persen\":1.36,\"jumlah_pasar\":11,\"umk\":2176819.9399999999,\"cluster\":3},{\"index\":75,\"kabupaten\":\"Kota Kediri\",\"provinsi\":\"JAWA TIMUR\",\"jumlah_penduduk\":287962,\"luas_wilayah_km2\":63.4,\"pengeluaran_perkapita\":1500469.0,\"umur\":\"20-24\",\"ses\":\"C1\",\"kepadatan_penduduk\":4362,\"tpt_persen\":4.38,\"jumlah_pasar\":9,\"umk\":2318116.6299999999,\"cluster\":1},{\"index\":76,\"kabupaten\":\"Kota Blitar\",\"provinsi\":\"JAWA TIMUR\",\"jumlah_penduduk\":150371,\"luas_wilayah_km2\":32.57,\"pengeluaran_perkapita\":1539749.0,\"umur\":\"25-29\",\"ses\":\"C1\",\"kepadatan_penduduk\":4772,\"tpt_persen\":5.39,\"jumlah_pasar\":6,\"umk\":2239024.4399999999,\"cluster\":1},{\"index\":77,\"kabupaten\":\"Kota Malang\",\"provinsi\":\"JAWA TIMUR\",\"jumlah_penduduk\":844933,\"luas_wilayah_km2\":145.28,\"pengeluaran_perkapita\":1766014.0,\"umur\":\"20-24\",\"ses\":\"C1\",\"kepadatan_penduduk\":7806,\"tpt_persen\":7.66,\"jumlah_pasar\":28,\"umk\":3194143.98,\"cluster\":1},{\"index\":78,\"kabupaten\":\"Kota Probolinggo\",\"provinsi\":\"JAWA TIMUR\",\"jumlah_penduduk\":241202,\"luas_wilayah_km2\":56.67,\"pengeluaran_perkapita\":1355536.0,\"umur\":\"30-34\",\"ses\":\"C2\",\"kepadatan_penduduk\":4442,\"tpt_persen\":4.57,\"jumlah_pasar\":34,\"umk\":2576240.6299999999,\"cluster\":1},{\"index\":79,\"kabupaten\":\"Kota Pasuruan\",\"provinsi\":\"JAWA TIMUR\",\"jumlah_penduduk\":209528,\"luas_wilayah_km2\":35.29,\"pengeluaran_perkapita\":1372321.0,\"umur\":\"20-24\",\"ses\":\"C2\",\"kepadatan_penduduk\":5416,\"tpt_persen\":6.18,\"jumlah_pasar\":6,\"umk\":3038837.6400000001,\"cluster\":1},{\"index\":80,\"kabupaten\":\"Kota Mojokerto\",\"provinsi\":\"JAWA TIMUR\",\"jumlah_penduduk\":133272,\"luas_wilayah_km2\":20.21,\"pengeluaran_perkapita\":1506376.0,\"umur\":\"35-39\",\"ses\":\"C1\",\"kepadatan_penduduk\":6946,\"tpt_persen\":5.05,\"jumlah_pasar\":20,\"umk\":4504787.1699999999,\"cluster\":1},{\"index\":81,\"kabupaten\":\"Kota Madiun\",\"provinsi\":\"JAWA TIMUR\",\"jumlah_penduduk\":196917,\"luas_wilayah_km2\":33.92,\"pengeluaran_perkapita\":1611780.0,\"umur\":\"50-54\",\"ses\":\"C1\",\"kepadatan_penduduk\":5580,\"tpt_persen\":6.39,\"jumlah_pasar\":42,\"umk\":2190216.3700000001,\"cluster\":1},{\"index\":82,\"kabupaten\":\"Kota Surabaya\",\"provinsi\":\"JAWA TIMUR\",\"jumlah_penduduk\":2880284,\"luas_wilayah_km2\":350.54,\"pengeluaran_perkapita\":1952590.0,\"umur\":\"20-24\",\"ses\":\"C1\",\"kepadatan_penduduk\":8867,\"tpt_persen\":7.62,\"jumlah_pasar\":79,\"umk\":4525479.1900000004,\"cluster\":1},{\"index\":83,\"kabupaten\":\"Kota Batu\",\"provinsi\":\"JAWA TIMUR\",\"jumlah_penduduk\":214653,\"luas_wilayah_km2\":136.74,\"pengeluaran_perkapita\":1375931.0,\"umur\":\"20-24\",\"ses\":\"C2\",\"kepadatan_penduduk\":1113,\"tpt_persen\":8.43,\"jumlah_pasar\":9,\"umk\":3030367.0899999999,\"cluster\":3},{\"index\":84,\"kabupaten\":\"Bogor\",\"provinsi\":\"JAWA BARAT\",\"jumlah_penduduk\":5489536,\"luas_wilayah_km2\":2710.62,\"pengeluaran_perkapita\":1220669.29,\"umur\":\"5-9\",\"ses\":\"C2\",\"kepadatan_penduduk\":2025,\"tpt_persen\":10.64,\"jumlah_pasar\":77,\"umk\":4217206.0,\"cluster\":2},{\"index\":85,\"kabupaten\":\"Sukabumi\",\"provinsi\":\"JAWA BARAT\",\"jumlah_penduduk\":2761476,\"luas_wilayah_km2\":4145.7,\"pengeluaran_perkapita\":1018782.54,\"umur\":\"10-14\",\"ses\":\"C2\",\"kepadatan_penduduk\":666,\"tpt_persen\":7.77,\"jumlah_pasar\":95,\"umk\":3125444.7200000002,\"cluster\":1},{\"index\":86,\"kabupaten\":\"Cianjur\",\"provinsi\":\"JAWA BARAT\",\"jumlah_penduduk\":2506682,\"luas_wilayah_km2\":3840.16,\"pengeluaran_perkapita\":959446.99,\"umur\":\"10-14\",\"ses\":\"D\",\"kepadatan_penduduk\":653,\"tpt_persen\":8.41,\"jumlah_pasar\":78,\"umk\":2699814.3999999999,\"cluster\":2},{\"index\":87,\"kabupaten\":\"Bandung\",\"provinsi\":\"JAWA BARAT\",\"jumlah_penduduk\":3666156,\"luas_wilayah_km2\":1767.96,\"pengeluaran_perkapita\":1210944.21,\"umur\":\"5-9\",\"ses\":\"C2\",\"kepadatan_penduduk\":2071,\"tpt_persen\":6.98,\"jumlah_pasar\":30,\"umk\":3241929.6699999999,\"cluster\":2},{\"index\":88,\"kabupaten\":\"Garut\",\"provinsi\":\"JAWA BARAT\",\"jumlah_penduduk\":2604787,\"luas_wilayah_km2\":428978.0,\"pengeluaran_perkapita\":831102.3,\"umur\":\"5-9\",\"ses\":\"D\",\"kepadatan_penduduk\":847,\"tpt_persen\":7.6,\"jumlah_pasar\":70,\"umk\":1975220.9199999999,\"cluster\":2},{\"index\":89,\"kabupaten\":\"Tasikmalaya\",\"provinsi\":\"JAWA BARAT\",\"jumlah_penduduk\":1883733,\"luas_wilayah_km2\":2551.19,\"pengeluaran_perkapita\":884302.63,\"umur\":\"10-14\",\"ses\":\"D\",\"kepadatan_penduduk\":738,\"tpt_persen\":4.17,\"jumlah_pasar\":57,\"umk\":2326772.46,\"cluster\":1},{\"index\":90,\"kabupaten\":\"Ciamis\",\"provinsi\":\"JAWA BARAT\",\"jumlah_penduduk\":1237726,\"luas_wilayah_km2\":1414.71,\"pengeluaran_perkapita\":1021570.53,\"umur\":\"45-49\",\"ses\":\"C2\",\"kepadatan_penduduk\":875,\"tpt_persen\":3.75,\"jumlah_pasar\":52,\"umk\":1897867.1399999999,\"cluster\":2},{\"index\":91,\"kabupaten\":\"Kuningan\",\"provinsi\":\"JAWA BARAT\",\"jumlah_penduduk\":1180391,\"luas_wilayah_km2\":1110.56,\"pengeluaran_perkapita\":1211684.8999999999,\"umur\":\"10-14\",\"ses\":\"C2\",\"kepadatan_penduduk\":1063,\"tpt_persen\":9.81,\"jumlah_pasar\":38,\"umk\":1908102.1699999999,\"cluster\":1},{\"index\":92,\"kabupaten\":\"Cirebon\",\"provinsi\":\"JAWA BARAT\",\"jumlah_penduduk\":2290967,\"luas_wilayah_km2\":984.52,\"pengeluaran_perkapita\":1016766.58,\"umur\":\"10-14\",\"ses\":\"C2\",\"kepadatan_penduduk\":2327,\"tpt_persen\":8.11,\"jumlah_pasar\":31,\"umk\":2279982.77,\"cluster\":2},{\"index\":93,\"kabupaten\":\"Majalengka\",\"provinsi\":\"JAWA BARAT\",\"jumlah_penduduk\":1318965,\"luas_wilayah_km2\":1204.24,\"pengeluaran_perkapita\":1095738.7,\"umur\":\"10-14\",\"ses\":\"C2\",\"kepadatan_penduduk\":1095,\"tpt_persen\":4.16,\"jumlah_pasar\":48,\"umk\":2027619.04,\"cluster\":1},{\"index\":94,\"kabupaten\":\"Sumedang\",\"provinsi\":\"JAWA BARAT\",\"jumlah_penduduk\":1159346,\"luas_wilayah_km2\":1518.33,\"pengeluaran_perkapita\":1144317.3300000001,\"umur\":\"15-19\",\"ses\":\"C2\",\"kepadatan_penduduk\":764,\"tpt_persen\":7.72,\"jumlah_pasar\":42,\"umk\":3241929.6699999999,\"cluster\":1},{\"index\":95,\"kabupaten\":\"Indramayu\",\"provinsi\":\"JAWA BARAT\",\"jumlah_penduduk\":1851383,\"luas_wilayah_km2\":51441.0,\"pengeluaran_perkapita\":1248638.0600000001,\"umur\":\"10-14\",\"ses\":\"C2\",\"kepadatan_penduduk\":907,\"tpt_persen\":6.49,\"jumlah_pasar\":38,\"umk\":2391567.1499999999,\"cluster\":2},{\"index\":96,\"kabupaten\":\"Subang\",\"provinsi\":\"JAWA BARAT\",\"jumlah_penduduk\":1608594,\"luas_wilayah_km2\":1893.95,\"pengeluaran_perkapita\":1154420.45,\"umur\":\"10-14\",\"ses\":\"C2\",\"kepadatan_penduduk\":849,\"tpt_persen\":7.77,\"jumlah_pasar\":37,\"umk\":3064218.0,\"cluster\":1},{\"index\":97,\"kabupaten\":\"Purwakarta\",\"provinsi\":\"JAWA BARAT\",\"jumlah_penduduk\":1011466,\"luas_wilayah_km2\":825.74,\"pengeluaran_perkapita\":1400486.8799999999,\"umur\":\"5-9\",\"ses\":\"C2\",\"kepadatan_penduduk\":1225,\"tpt_persen\":8.75,\"jumlah_pasar\":16,\"umk\":4173568.6099999999,\"cluster\":1},{\"index\":98,\"kabupaten\":\"Karawang\",\"provinsi\":\"JAWA BARAT\",\"jumlah_penduduk\":2468576,\"luas_wilayah_km2\":1652.2,\"pengeluaran_perkapita\":1242403.46,\"umur\":\"20-24\",\"ses\":\"C2\",\"kepadatan_penduduk\":1494,\"tpt_persen\":9.87,\"jumlah_pasar\":33,\"umk\":4798312.0,\"cluster\":3},{\"index\":99,\"kabupaten\":\"Bekasi\",\"provinsi\":\"JAWA BARAT\",\"jumlah_penduduk\":3157962,\"luas_wilayah_km2\":1224.88,\"pengeluaran_perkapita\":1588581.6000000001,\"umur\":\"20-24\",\"ses\":\"C1\",\"kepadatan_penduduk\":2578,\"tpt_persen\":10.31,\"jumlah_pasar\":57,\"umk\":4791843.9000000004,\"cluster\":2},{\"index\":100,\"kabupaten\":\"Bandung Barat\",\"provinsi\":\"JAWA BARAT\",\"jumlah_penduduk\":1814226,\"luas_wilayah_km2\":1305.77,\"pengeluaran_perkapita\":952620.37,\"umur\":\"5-9\",\"ses\":\"D\",\"kepadatan_penduduk\":1389,\"tpt_persen\":9.63,\"jumlah_pasar\":16,\"umk\":3248283.2799999998,\"cluster\":2},{\"index\":101,\"kabupaten\":\"Pangandaran\",\"provinsi\":\"JAWA BARAT\",\"jumlah_penduduk\":427614,\"luas_wilayah_km2\":1010.0,\"pengeluaran_perkapita\":1179731.01,\"umur\":\"45-49\",\"ses\":\"C2\",\"kepadatan_penduduk\":423,\"tpt_persen\":1.56,\"jumlah_pasar\":32,\"umk\":1884364.0800000001,\"cluster\":1},{\"index\":102,\"kabupaten\":\"Kota Bogor\",\"provinsi\":\"JAWA BARAT\",\"jumlah_penduduk\":1052359,\"luas_wilayah_km2\":118.5,\"pengeluaran_perkapita\":1960499.8600000001,\"umur\":\"20-24\",\"ses\":\"C1\",\"kepadatan_penduduk\":8881,\"tpt_persen\":10.78,\"jumlah_pasar\":16,\"umk\":4330249.5700000003,\"cluster\":1},{\"index\":103,\"kabupaten\":\"Sukabumi\",\"provinsi\":\"JAWA BARAT\",\"jumlah_penduduk\":350804,\"luas_wilayah_km2\":48.25,\"pengeluaran_perkapita\":1483147.21,\"umur\":\"5-9\",\"ses\":\"C2\",\"kepadatan_penduduk\":7271,\"tpt_persen\":8.83,\"jumlah_pasar\":8,\"umk\":2562434.0099999998,\"cluster\":1},{\"index\":104,\"kabupaten\":\"Bandung\",\"provinsi\":\"JAWA BARAT\",\"jumlah_penduduk\":2452943,\"luas_wilayah_km2\":167.67,\"pengeluaran_perkapita\":2082374.8899999999,\"umur\":\"20-24\",\"ses\":\"B\",\"kepadatan_penduduk\":14630,\"tpt_persen\":9.55,\"jumlah_pasar\":49,\"umk\":3774860.7799999998,\"cluster\":2},{\"index\":105,\"kabupaten\":\"Cirebon\",\"provinsi\":\"JAWA BARAT\",\"jumlah_penduduk\":336864,\"luas_wilayah_km2\":37.36,\"pengeluaran_perkapita\":1629707.9099999999,\"umur\":\"15-19\",\"ses\":\"C1\",\"kepadatan_penduduk\":9017,\"tpt_persen\":8.42,\"jumlah_pasar\":12,\"umk\":2304943.5099999998,\"cluster\":2},{\"index\":106,\"kabupaten\":\"Bekasi\",\"provinsi\":\"JAWA BARAT\",\"jumlah_penduduk\":2564941,\"luas_wilayah_km2\":206.61,\"pengeluaran_perkapita\":2488463.1299999999,\"umur\":\"20-24\",\"ses\":\"B\",\"kepadatan_penduduk\":12414,\"tpt_persen\":8.81,\"jumlah_pasar\":14,\"umk\":4816921.1699999999,\"cluster\":2},{\"index\":107,\"kabupaten\":\"Depok\",\"provinsi\":\"JAWA BARAT\",\"jumlah_penduduk\":2085935,\"luas_wilayah_km2\":200.29,\"pengeluaran_perkapita\":2304941.48,\"umur\":\"30-34\",\"ses\":\"B\",\"kepadatan_penduduk\":10415,\"tpt_persen\":7.82,\"jumlah_pasar\":11,\"umk\":4377231.9299999997,\"cluster\":2},{\"index\":108,\"kabupaten\":\"Cimahi\",\"provinsi\":\"JAWA BARAT\",\"jumlah_penduduk\":571632,\"luas_wilayah_km2\":39.27,\"pengeluaran_perkapita\":1827071.74,\"umur\":\"20-24\",\"ses\":\"C1\",\"kepadatan_penduduk\":14556,\"tpt_persen\":10.77,\"jumlah_pasar\":4,\"umk\":3272668.5,\"cluster\":2},{\"index\":109,\"kabupaten\":\"Tasikmalaya\",\"provinsi\":\"JAWA BARAT\",\"jumlah_penduduk\":723921,\"luas_wilayah_km2\":171.61,\"pengeluaran_perkapita\":1310775.1399999999,\"umur\":\"15-19\",\"ses\":\"C2\",\"kepadatan_penduduk\":4218,\"tpt_persen\":6.62,\"jumlah_pasar\":10,\"umk\":2363389.6699999999,\"cluster\":1},{\"index\":110,\"kabupaten\":\"Banjar\",\"provinsi\":\"JAWA BARAT\",\"jumlah_penduduk\":203417,\"luas_wilayah_km2\":113.49,\"pengeluaran_perkapita\":1088976.6499999999,\"umur\":\"15-19\",\"ses\":\"C2\",\"kepadatan_penduduk\":1792,\"tpt_persen\":5.53,\"jumlah_pasar\":8,\"umk\":1831884.8300000001,\"cluster\":2}]'"
            ],
            "application/vnd.google.colaboratory.intrinsic+json": {
              "type": "string"
            }
          },
          "metadata": {},
          "execution_count": 35
        }
      ]
    },
    {
      "cell_type": "code",
      "source": [
        "# Save with json\n",
        "with open('datanew.json','w') as file:\n",
        "  json.dump(dff, file)"
      ],
      "metadata": {
        "id": "227xbdQ3gPZD"
      },
      "execution_count": 36,
      "outputs": []
    },
    {
      "cell_type": "code",
      "source": [
        "joblib.dump(data_cluster, 'datanew.pkl')"
      ],
      "metadata": {
        "id": "7KHCaPPxsEDL",
        "colab": {
          "base_uri": "https://localhost:8080/"
        },
        "outputId": "247b0e38-5dcd-4edd-d026-2cc4c71bc67d"
      },
      "execution_count": 40,
      "outputs": [
        {
          "output_type": "execute_result",
          "data": {
            "text/plain": [
              "['datanew.pkl']"
            ]
          },
          "metadata": {},
          "execution_count": 40
        }
      ]
    },
    {
      "cell_type": "code",
      "source": [
        "with open('datanew.json', 'r') as file:\n",
        "  dfx =json.load(file)\n",
        "  print(dfx)"
      ],
      "metadata": {
        "id": "anPsgXWDgbXL",
        "colab": {
          "base_uri": "https://localhost:8080/"
        },
        "outputId": "93ddaca6-98bb-4e2c-be41-0b915aee630c"
      },
      "execution_count": 41,
      "outputs": [
        {
          "output_type": "stream",
          "name": "stdout",
          "text": [
            "[{\"index\":0,\"kabupaten\":\"Kep, Seribu\",\"provinsi\":\"JAKARTA\",\"jumlah_penduduk\":28240,\"luas_wilayah_km2\":10.18,\"pengeluaran_perkapita\":1219497.4199999999,\"umur\":\"5-9\",\"ses\":\"C2\",\"kepadatan_penduduk\":2774,\"tpt_persen\":8.47,\"jumlah_pasar\":0,\"umk\":4394816.0,\"cluster\":3},{\"index\":1,\"kabupaten\":\"Jakarta Selatan\",\"provinsi\":\"JAKARTA\",\"jumlah_penduduk\":2233855,\"luas_wilayah_km2\":154.32,\"pengeluaran_perkapita\":2506430.8399999999,\"umur\":\"35-39\",\"ses\":\"B\",\"kepadatan_penduduk\":14475,\"tpt_persen\":5.63,\"jumlah_pasar\":27,\"umk\":6185279.0,\"cluster\":2},{\"index\":2,\"kabupaten\":\"Jakarta Timur\",\"provinsi\":\"JAKARTA\",\"jumlah_penduduk\":3056300,\"luas_wilayah_km2\":182.7,\"pengeluaran_perkapita\":2048309.48,\"umur\":\"30-34\",\"ses\":\"B\",\"kepadatan_penduduk\":16729,\"tpt_persen\":8.39,\"jumlah_pasar\":34,\"umk\":5442060.0,\"cluster\":2},{\"index\":3,\"kabupaten\":\"Jakarta Pusat\",\"provinsi\":\"JAKARTA\",\"jumlah_penduduk\":1066460,\"luas_wilayah_km2\":52.38,\"pengeluaran_perkapita\":2162055.0499999998,\"umur\":\"35-39\",\"ses\":\"B\",\"kepadatan_penduduk\":20360,\"tpt_persen\":5.88,\"jumlah_pasar\":46,\"umk\":5099960.0,\"cluster\":2},{\"index\":4,\"kabupaten\":\"Jakarta Barat\",\"provinsi\":\"JAKARTA\",\"jumlah_penduduk\":2440073,\"luas_wilayah_km2\":124.44,\"pengeluaran_perkapita\":2200196.3300000001,\"umur\":\"30-34\",\"ses\":\"B\",\"kepadatan_penduduk\":19608,\"tpt_persen\":7.1,\"jumlah_pasar\":19,\"umk\":5687307.0,\"cluster\":2},{\"index\":5,\"kabupaten\":\"Jakarta Utara\",\"provinsi\":\"JAKARTA\",\"jumlah_penduduk\":1784753,\"luas_wilayah_km2\":139.99,\"pengeluaran_perkapita\":2882588.5299999998,\"umur\":\"30-34\",\"ses\":\"B\",\"kepadatan_penduduk\":12749,\"tpt_persen\":8.04,\"jumlah_pasar\":25,\"umk\":6989775.0,\"cluster\":2},{\"index\":6,\"kabupaten\":\"Kabupaten Cilacap\",\"provinsi\":\"JAWA TENGAH\",\"jumlah_penduduk\":1963824,\"luas_wilayah_km2\":2124.5,\"pengeluaran_perkapita\":830026.0,\"umur\":\"10-14\",\"ses\":\"D\",\"kepadatan_penduduk\":924,\"tpt_persen\":9.62,\"jumlah_pasar\":58,\"umk\":2228904.0,\"cluster\":0},{\"index\":7,\"kabupaten\":\"Kabupaten Banyumas\",\"provinsi\":\"JAWA TENGAH\",\"jumlah_penduduk\":1789630,\"luas_wilayah_km2\":1335.3,\"pengeluaran_perkapita\":1023973.0,\"umur\":\"5-9\",\"ses\":\"C2\",\"kepadatan_penduduk\":1340,\"tpt_persen\":6.05,\"jumlah_pasar\":61,\"umk\":1970000.0,\"cluster\":2},{\"index\":8,\"kabupaten\":\"Kabupaten Purbalingga\",\"provinsi\":\"JAWA TENGAH\",\"jumlah_penduduk\":1007794,\"luas_wilayah_km2\":677.5,\"pengeluaran_perkapita\":900102.0,\"umur\":\"5-9\",\"ses\":\"D\",\"kepadatan_penduduk\":1487,\"tpt_persen\":5.23,\"jumlah_pasar\":47,\"umk\":1988000.0,\"cluster\":3},{\"index\":9,\"kabupaten\":\"Kabupaten Banjarnegara\",\"provinsi\":\"JAWA TENGAH\",\"jumlah_penduduk\":1026866,\"luas_wilayah_km2\":1023.7,\"pengeluaran_perkapita\":975274.0,\"umur\":\"5-9\",\"ses\":\"D\",\"kepadatan_penduduk\":1003,\"tpt_persen\":6.38,\"jumlah_pasar\":38,\"umk\":1805000.0,\"cluster\":2},{\"index\":10,\"kabupaten\":\"Kabupaten Kebumen\",\"provinsi\":\"JAWA TENGAH\",\"jumlah_penduduk\":1361913,\"luas_wilayah_km2\":1211.7,\"pengeluaran_perkapita\":920590.0,\"umur\":\"10-14\",\"ses\":\"D\",\"kepadatan_penduduk\":1124,\"tpt_persen\":5.92,\"jumlah_pasar\":86,\"umk\":1895000.0,\"cluster\":0},{\"index\":11,\"kabupaten\":\"Kabupaten Purworejo\",\"provinsi\":\"JAWA TENGAH\",\"jumlah_penduduk\":773588,\"luas_wilayah_km2\":1091.5,\"pengeluaran_perkapita\":876976.0,\"umur\":\"10-14\",\"ses\":\"D\",\"kepadatan_penduduk\":709,\"tpt_persen\":4.45,\"jumlah_pasar\":14,\"umk\":1905400.0,\"cluster\":3},{\"index\":12,\"kabupaten\":\"Kabupaten Wonosobo\",\"provinsi\":\"JAWA TENGAH\",\"jumlah_penduduk\":886613,\"luas_wilayah_km2\":981.4,\"pengeluaran_perkapita\":923838.0,\"umur\":\"10-14\",\"ses\":\"D\",\"kepadatan_penduduk\":903,\"tpt_persen\":5.01,\"jumlah_pasar\":30,\"umk\":1920000.0,\"cluster\":3},{\"index\":13,\"kabupaten\":\"Kabupaten Magelang\",\"provinsi\":\"JAWA TENGAH\",\"jumlah_penduduk\":1305512,\"luas_wilayah_km2\":1102.9,\"pengeluaran_perkapita\":947904.0,\"umur\":\"10-14\",\"ses\":\"D\",\"kepadatan_penduduk\":1184,\"tpt_persen\":4.97,\"jumlah_pasar\":51,\"umk\":2075000.0,\"cluster\":0},{\"index\":14,\"kabupaten\":\"Kabupaten Boyolali\",\"provinsi\":\"JAWA TENGAH\",\"jumlah_penduduk\":1070247,\"luas_wilayah_km2\":1008.5,\"pengeluaran_perkapita\":991171.0,\"umur\":\"10-14\",\"ses\":\"D\",\"kepadatan_penduduk\":1061,\"tpt_persen\":4.92,\"jumlah_pasar\":62,\"umk\":2000000.0,\"cluster\":0},{\"index\":15,\"kabupaten\":\"Kabupaten Klaten\",\"provinsi\":\"JAWA TENGAH\",\"jumlah_penduduk\":1267272,\"luas_wilayah_km2\":658.2,\"pengeluaran_perkapita\":972999.0,\"umur\":\"40-44\",\"ses\":\"D\",\"kepadatan_penduduk\":1925,\"tpt_persen\":4.31,\"jumlah_pasar\":61,\"umk\":2011515.0,\"cluster\":0},{\"index\":16,\"kabupaten\":\"Kabupaten Sukoharjo\",\"provinsi\":\"JAWA TENGAH\",\"jumlah_penduduk\":911603,\"luas_wilayah_km2\":489.1,\"pengeluaran_perkapita\":1136812.0,\"umur\":\"20-24\",\"ses\":\"C2\",\"kepadatan_penduduk\":1864,\"tpt_persen\":2.47,\"jumlah_pasar\":39,\"umk\":1986450.0,\"cluster\":3},{\"index\":17,\"kabupaten\":\"Kabupaten Wonogiri\",\"provinsi\":\"JAWA TENGAH\",\"jumlah_penduduk\":1049292,\"luas_wilayah_km2\":1793.7,\"pengeluaran_perkapita\":953678.0,\"umur\":\"50-54\",\"ses\":\"D\",\"kepadatan_penduduk\":585,\"tpt_persen\":1.95,\"jumlah_pasar\":49,\"umk\":1827000.0,\"cluster\":3},{\"index\":18,\"kabupaten\":\"Kabupaten Karanganyar\",\"provinsi\":\"JAWA TENGAH\",\"jumlah_penduduk\":938808,\"luas_wilayah_km2\":775.4,\"pengeluaran_perkapita\":1061898.0,\"umur\":\"5-9\",\"ses\":\"C2\",\"kepadatan_penduduk\":1211,\"tpt_persen\":5.7,\"jumlah_pasar\":45,\"umk\":2054040.0,\"cluster\":0},{\"index\":19,\"kabupaten\":\"Kabupaten Sragen\",\"provinsi\":\"JAWA TENGAH\",\"jumlah_penduduk\":983641,\"luas_wilayah_km2\":941.5,\"pengeluaran_perkapita\":1017549.0,\"umur\":\"10-14\",\"ses\":\"C2\",\"kepadatan_penduduk\":1045,\"tpt_persen\":4.69,\"jumlah_pasar\":59,\"umk\":1829500.0,\"cluster\":3},{\"index\":20,\"kabupaten\":\"Kabupaten Grobogan\",\"provinsi\":\"JAWA TENGAH\",\"jumlah_penduduk\":1460873,\"luas_wilayah_km2\":2013.9,\"pengeluaran_perkapita\":819685.0,\"umur\":\"10-14\",\"ses\":\"D\",\"kepadatan_penduduk\":725,\"tpt_persen\":4.4,\"jumlah_pasar\":83,\"umk\":1890000.0,\"cluster\":0},{\"index\":21,\"kabupaten\":\"Kabupaten Blora\",\"provinsi\":\"JAWA TENGAH\",\"jumlah_penduduk\":886147,\"luas_wilayah_km2\":1804.6,\"pengeluaran_perkapita\":908262.0,\"umur\":\"10-14\",\"ses\":\"D\",\"kepadatan_penduduk\":491,\"tpt_persen\":3.7,\"jumlah_pasar\":47,\"umk\":1894000.0,\"cluster\":2},{\"index\":22,\"kabupaten\":\"Kabupaten Rembang\",\"provinsi\":\"JAWA TENGAH\",\"jumlah_penduduk\":647766,\"luas_wilayah_km2\":887.1,\"pengeluaran_perkapita\":1024187.0,\"umur\":\"20-24\",\"ses\":\"C2\",\"kepadatan_penduduk\":730,\"tpt_persen\":1.76,\"jumlah_pasar\":38,\"umk\":1861000.0,\"cluster\":3},{\"index\":23,\"kabupaten\":\"Kabupaten Pati\",\"provinsi\":\"JAWA TENGAH\",\"jumlah_penduduk\":1330983,\"luas_wilayah_km2\":1489.2,\"pengeluaran_perkapita\":1106824.0,\"umur\":\"15-19\",\"ses\":\"C2\",\"kepadatan_penduduk\":894,\"tpt_persen\":4.45,\"jumlah_pasar\":68,\"umk\":1953000.0,\"cluster\":3},{\"index\":24,\"kabupaten\":\"Kabupaten Kudus\",\"provinsi\":\"JAWA TENGAH\",\"jumlah_penduduk\":852443,\"luas_wilayah_km2\":425.1,\"pengeluaran_perkapita\":1105491.0,\"umur\":\"20-24\",\"ses\":\"C2\",\"kepadatan_penduduk\":2005,\"tpt_persen\":3.21,\"jumlah_pasar\":31,\"umk\":2290995.0,\"cluster\":0},{\"index\":25,\"kabupaten\":\"Kabupaten Jepara\",\"provinsi\":\"JAWA TENGAH\",\"jumlah_penduduk\":1188510,\"luas_wilayah_km2\":1059.2,\"pengeluaran_perkapita\":1014416.0,\"umur\":\"20-24\",\"ses\":\"C2\",\"kepadatan_penduduk\":1122,\"tpt_persen\":4.1,\"jumlah_pasar\":54,\"umk\":2107000.0,\"cluster\":0},{\"index\":26,\"kabupaten\":\"Kabupaten Demak\",\"provinsi\":\"JAWA TENGAH\",\"jumlah_penduduk\":1212377,\"luas_wilayah_km2\":900.1,\"pengeluaran_perkapita\":1089278.0,\"umur\":\"20-24\",\"ses\":\"C2\",\"kepadatan_penduduk\":1347,\"tpt_persen\":6.11,\"jumlah_pasar\":42,\"umk\":2511526.0,\"cluster\":0},{\"index\":27,\"kabupaten\":\"Kabupaten Semarang\",\"provinsi\":\"JAWA TENGAH\",\"jumlah_penduduk\":1059844,\"luas_wilayah_km2\":950.2,\"pengeluaran_perkapita\":1101203.0,\"umur\":\"20-24\",\"ses\":\"C2\",\"kepadatan_penduduk\":1115,\"tpt_persen\":4.81,\"jumlah_pasar\":46,\"umk\":2302798.0,\"cluster\":3},{\"index\":28,\"kabupaten\":\"Kabupaten Temanggung\",\"provinsi\":\"JAWA TENGAH\",\"jumlah_penduduk\":794403,\"luas_wilayah_km2\":837.7,\"pengeluaran_perkapita\":748256.0,\"umur\":\"40-44\",\"ses\":\"D\",\"kepadatan_penduduk\":948,\"tpt_persen\":2.54,\"jumlah_pasar\":28,\"umk\":1885000.0,\"cluster\":3},{\"index\":29,\"kabupaten\":\"Kabupaten Kendal\",\"provinsi\":\"JAWA TENGAH\",\"jumlah_penduduk\":1025020,\"luas_wilayah_km2\":1118.1,\"pengeluaran_perkapita\":1010289.0,\"umur\":\"20-24\",\"ses\":\"C2\",\"kepadatan_penduduk\":917,\"tpt_persen\":7.34,\"jumlah_pasar\":32,\"umk\":2335735.0,\"cluster\":0},{\"index\":30,\"kabupaten\":\"Kabupaten Batang\",\"provinsi\":\"JAWA TENGAH\",\"jumlah_penduduk\":807005,\"luas_wilayah_km2\":788.6,\"pengeluaran_perkapita\":915857.0,\"umur\":\"20-24\",\"ses\":\"D\",\"kepadatan_penduduk\":1023,\"tpt_persen\":6.64,\"jumlah_pasar\":26,\"umk\":2129117.0,\"cluster\":2},{\"index\":31,\"kabupaten\":\"Kabupaten Pekalongan\",\"provinsi\":\"JAWA TENGAH\",\"jumlah_penduduk\":976504,\"luas_wilayah_km2\":837.0,\"pengeluaran_perkapita\":996348.0,\"umur\":\"10-14\",\"ses\":\"D\",\"kepadatan_penduduk\":1167,\"tpt_persen\":3.23,\"jumlah_pasar\":19,\"umk\":2084155.0,\"cluster\":3},{\"index\":32,\"kabupaten\":\"Kabupaten Pemalang\",\"provinsi\":\"JAWA TENGAH\",\"jumlah_penduduk\":1484209,\"luas_wilayah_km2\":1118.0,\"pengeluaran_perkapita\":951240.0,\"umur\":\"10-14\",\"ses\":\"D\",\"kepadatan_penduduk\":1328,\"tpt_persen\":6.63,\"jumlah_pasar\":47,\"umk\":1926000.0,\"cluster\":3},{\"index\":33,\"kabupaten\":\"Kabupaten Tegal\",\"provinsi\":\"JAWA TENGAH\",\"jumlah_penduduk\":1608611,\"luas_wilayah_km2\":876.1,\"pengeluaran_perkapita\":971230.0,\"umur\":\"10-14\",\"ses\":\"D\",\"kepadatan_penduduk\":1836,\"tpt_persen\":9.64,\"jumlah_pasar\":28,\"umk\":1958000.0,\"cluster\":3},{\"index\":34,\"kabupaten\":\"Kabupaten Brebes\",\"provinsi\":\"JAWA TENGAH\",\"jumlah_penduduk\":1992685,\"luas_wilayah_km2\":1902.4,\"pengeluaran_perkapita\":975752.0,\"umur\":\"10-14\",\"ses\":\"D\",\"kepadatan_penduduk\":1047,\"tpt_persen\":9.48,\"jumlah_pasar\":48,\"umk\":1866723.0,\"cluster\":0},{\"index\":35,\"kabupaten\":\"Kota Magelang\",\"provinsi\":\"JAWA TENGAH\",\"jumlah_penduduk\":121610,\"luas_wilayah_km2\":45215.0,\"pengeluaran_perkapita\":1497033.0,\"umur\":\"15-19\",\"ses\":\"C2\",\"kepadatan_penduduk\":7572,\"tpt_persen\":6.71,\"jumlah_pasar\":7,\"umk\":1914000.0,\"cluster\":1},{\"index\":36,\"kabupaten\":\"Kota Surakarta\",\"provinsi\":\"JAWA TENGAH\",\"jumlah_penduduk\":522728,\"luas_wilayah_km2\":46.0,\"pengeluaran_perkapita\":1603079.0,\"umur\":\"15-19\",\"ses\":\"C1\",\"kepadatan_penduduk\":11361,\"tpt_persen\":5.83,\"jumlah_pasar\":48,\"umk\":2013810.0,\"cluster\":1},{\"index\":37,\"kabupaten\":\"Kota Salatiga\",\"provinsi\":\"JAWA TENGAH\",\"jumlah_penduduk\":193525,\"luas_wilayah_km2\":57.4,\"pengeluaran_perkapita\":1913225.0,\"umur\":\"20-24\",\"ses\":\"C1\",\"kepadatan_penduduk\":3374,\"tpt_persen\":5.58,\"jumlah_pasar\":10,\"umk\":2101457.0,\"cluster\":1},{\"index\":38,\"kabupaten\":\"Kota Semarang\",\"provinsi\":\"JAWA TENGAH\",\"jumlah_penduduk\":1656564,\"luas_wilayah_km2\":373.8,\"pengeluaran_perkapita\":1929166.0,\"umur\":\"20-24\",\"ses\":\"C1\",\"kepadatan_penduduk\":4432,\"tpt_persen\":7.6,\"jumlah_pasar\":57,\"umk\":2810025.0,\"cluster\":1},{\"index\":39,\"kabupaten\":\"Kota Pekalongan\",\"provinsi\":\"JAWA TENGAH\",\"jumlah_penduduk\":308310,\"luas_wilayah_km2\":45.2,\"pengeluaran_perkapita\":1379831.0,\"umur\":\"20-24\",\"ses\":\"C2\",\"kepadatan_penduduk\":6813,\"tpt_persen\":4.98,\"jumlah_pasar\":12,\"umk\":2139754.0,\"cluster\":1},{\"index\":40,\"kabupaten\":\"Kota Tegal\",\"provinsi\":\"JAWA TENGAH\",\"jumlah_penduduk\":275781,\"luas_wilayah_km2\":39.7,\"pengeluaran_perkapita\":1522241.0,\"umur\":\"20-24\",\"ses\":\"C1\",\"kepadatan_penduduk\":6950,\"tpt_persen\":6.68,\"jumlah_pasar\":12,\"umk\":1982750.0,\"cluster\":1},{\"index\":41,\"kabupaten\":\"Kulonprogo\",\"provinsi\":\"YOGYAKARTA\",\"jumlah_penduduk\":442724,\"luas_wilayah_km2\":508.13,\"pengeluaran_perkapita\":1006900.0,\"umur\":\"15-19\",\"ses\":\"C2\",\"kepadatan_penduduk\":733,\"tpt_persen\":2.8,\"jumlah_pasar\":27,\"umk\":2050447.0,\"cluster\":1},{\"index\":42,\"kabupaten\":\"Bantul\",\"provinsi\":\"YOGYAKARTA\",\"jumlah_penduduk\":1050308,\"luas_wilayah_km2\":1431.42,\"pengeluaran_perkapita\":1554500.0,\"umur\":\"35-39\",\"ses\":\"C1\",\"kepadatan_penduduk\":2009,\"tpt_persen\":3.97,\"jumlah_pasar\":33,\"umk\":2066439.0,\"cluster\":2},{\"index\":43,\"kabupaten\":\"Gunungkidul\",\"provinsi\":\"YOGYAKARTA\",\"jumlah_penduduk\":767464,\"luas_wilayah_km2\":586.28,\"pengeluaran_perkapita\":950500.0,\"umur\":\"45-49\",\"ses\":\"D\",\"kepadatan_penduduk\":500,\"tpt_persen\":2.08,\"jumlah_pasar\":36,\"umk\":2049266.0,\"cluster\":2},{\"index\":44,\"kabupaten\":\"Sleman\",\"provinsi\":\"YOGYAKARTA\",\"jumlah_penduduk\":1265429,\"luas_wilayah_km2\":574.82,\"pengeluaran_perkapita\":1606000.0,\"umur\":\"20-24\",\"ses\":\"C1\",\"kepadatan_penduduk\":2121,\"tpt_persen\":4.78,\"jumlah_pasar\":41,\"umk\":2159519.0,\"cluster\":1},{\"index\":45,\"kabupaten\":\"Yogyakarta\",\"provinsi\":\"YOGYAKARTA\",\"jumlah_penduduk\":3970220,\"luas_wilayah_km2\":32.5,\"pengeluaran_perkapita\":1880100.0,\"umur\":\"40-44\",\"ses\":\"C1\",\"kepadatan_penduduk\":13290,\"tpt_persen\":7.18,\"jumlah_pasar\":12,\"umk\":2324776.0,\"cluster\":1},{\"index\":46,\"kabupaten\":\"Kabupaten Pacitan\",\"provinsi\":\"JAWA TIMUR\",\"jumlah_penduduk\":589108,\"luas_wilayah_km2\":1389.92,\"pengeluaran_perkapita\":689363.0,\"umur\":\"45-49\",\"ses\":\"E\",\"kepadatan_penduduk\":418,\"tpt_persen\":3.65,\"jumlah_pasar\":18,\"umk\":2157270.25,\"cluster\":0},{\"index\":47,\"kabupaten\":\"Kabupaten Ponorogo\",\"provinsi\":\"JAWA TIMUR\",\"jumlah_penduduk\":955839,\"luas_wilayah_km2\":1305.7,\"pengeluaran_perkapita\":923419.0,\"umur\":\"50-54\",\"ses\":\"D\",\"kepadatan_penduduk\":684,\"tpt_persen\":5.51,\"jumlah_pasar\":56,\"umk\":2149709.4500000002,\"cluster\":3},{\"index\":48,\"kabupaten\":\"Kabupaten Trenggalek\",\"provinsi\":\"JAWA TIMUR\",\"jumlah_penduduk\":734888,\"luas_wilayah_km2\":1147.22,\"pengeluaran_perkapita\":791239.0,\"umur\":\"45-49\",\"ses\":\"D\",\"kepadatan_penduduk\":598,\"tpt_persen\":5.37,\"jumlah_pasar\":9,\"umk\":2139426.0099999998,\"cluster\":3},{\"index\":49,\"kabupaten\":\"Kabupaten Tulungagung\",\"provinsi\":\"JAWA TIMUR\",\"jumlah_penduduk\":1096588,\"luas_wilayah_km2\":1055.65,\"pengeluaran_perkapita\":1074754.0,\"umur\":\"45-49\",\"ses\":\"C2\",\"kepadatan_penduduk\":985,\"tpt_persen\":6.65,\"jumlah_pasar\":17,\"umk\":2229358.6699999999,\"cluster\":3},{\"index\":50,\"kabupaten\":\"Kabupaten Blitar\",\"provinsi\":\"JAWA TIMUR\",\"jumlah_penduduk\":1231013,\"luas_wilayah_km2\":1336.48,\"pengeluaran_perkapita\":932222.0,\"umur\":\"50-54\",\"ses\":\"D\",\"kepadatan_penduduk\":701,\"tpt_persen\":5.45,\"jumlah_pasar\":51,\"umk\":2215071.1800000002,\"cluster\":2},{\"index\":51,\"kabupaten\":\"Kabupaten Kediri\",\"provinsi\":\"JAWA TIMUR\",\"jumlah_penduduk\":1644400,\"luas_wilayah_km2\":1386.05,\"pengeluaran_perkapita\":942363.0,\"umur\":\"40-44\",\"ses\":\"D\",\"kepadatan_penduduk\":1099,\"tpt_persen\":6.83,\"jumlah_pasar\":61,\"umk\":2243422.9300000002,\"cluster\":0},{\"index\":52,\"kabupaten\":\"Kabupaten Malang\",\"provinsi\":\"JAWA TIMUR\",\"jumlah_penduduk\":2668296,\"luas_wilayah_km2\":3530.65,\"pengeluaran_perkapita\":974043.0,\"umur\":\"45-49\",\"ses\":\"D\",\"kepadatan_penduduk\":766,\"tpt_persen\":6.57,\"jumlah_pasar\":6,\"umk\":3268275.3599999999,\"cluster\":0},{\"index\":53,\"kabupaten\":\"Kabupaten Lumajang\",\"provinsi\":\"JAWA TIMUR\",\"jumlah_penduduk\":1127094,\"luas_wilayah_km2\":1790.9,\"pengeluaran_perkapita\":996500.0,\"umur\":\"40-44\",\"ses\":\"D\",\"kepadatan_penduduk\":609,\"tpt_persen\":4.97,\"jumlah_pasar\":13,\"umk\":2200607.2000000002,\"cluster\":0},{\"index\":54,\"kabupaten\":\"Kabupaten Jember\",\"provinsi\":\"JAWA TIMUR\",\"jumlah_penduduk\":2550360,\"luas_wilayah_km2\":3092.34,\"pengeluaran_perkapita\":936487.0,\"umur\":\"40-44\",\"ses\":\"D\",\"kepadatan_penduduk\":780,\"tpt_persen\":4.06,\"jumlah_pasar\":11,\"umk\":2555662.9100000001,\"cluster\":0},{\"index\":55,\"kabupaten\":\"Kabupaten Banyuwangi\",\"provinsi\":\"JAWA TIMUR\",\"jumlah_penduduk\":1718462,\"luas_wilayah_km2\":5782.4,\"pengeluaran_perkapita\":1188385.0,\"umur\":\"40-44\",\"ses\":\"C2\",\"kepadatan_penduduk\":488,\"tpt_persen\":5.26,\"jumlah_pasar\":1,\"umk\":2528899.1200000001,\"cluster\":2},{\"index\":56,\"kabupaten\":\"Kabupaten Bondowoso\",\"provinsi\":\"JAWA TIMUR\",\"jumlah_penduduk\":778525,\"luas_wilayah_km2\":1525.97,\"pengeluaran_perkapita\":854506.0,\"umur\":\"40-44\",\"ses\":\"D\",\"kepadatan_penduduk\":516,\"tpt_persen\":4.32,\"jumlah_pasar\":4,\"umk\":2154504.1299999999,\"cluster\":0},{\"index\":57,\"kabupaten\":\"Kabupaten Situbondo\",\"provinsi\":\"JAWA TIMUR\",\"jumlah_penduduk\":688337,\"luas_wilayah_km2\":1669.87,\"pengeluaran_perkapita\":868906.0,\"umur\":\"35-39\",\"ses\":\"D\",\"kepadatan_penduduk\":403,\"tpt_persen\":3.38,\"jumlah_pasar\":7,\"umk\":2137025.8500000001,\"cluster\":3},{\"index\":58,\"kabupaten\":\"Kabupaten Probolinggo\",\"provinsi\":\"JAWA TIMUR\",\"jumlah_penduduk\":1155894,\"luas_wilayah_km2\":1696.21,\"pengeluaran_perkapita\":803883.0,\"umur\":\"25-29\",\"ses\":\"D\",\"kepadatan_penduduk\":672,\"tpt_persen\":3.25,\"jumlah_pasar\":12,\"umk\":2753265.9500000002,\"cluster\":3},{\"index\":59,\"kabupaten\":\"Kabupaten Pasuruan\",\"provinsi\":\"JAWA TIMUR\",\"jumlah_penduduk\":1611805,\"luas_wilayah_km2\":1474.02,\"pengeluaran_perkapita\":967469.0,\"umur\":\"35-39\",\"ses\":\"D\",\"kepadatan_penduduk\":1077,\"tpt_persen\":5.91,\"jumlah_pasar\":28,\"umk\":4515133.1900000004,\"cluster\":3},{\"index\":60,\"kabupaten\":\"Kabupaten Sidoarjo\",\"provinsi\":\"JAWA TIMUR\",\"jumlah_penduduk\":2091930,\"luas_wilayah_km2\":634.38,\"pengeluaran_perkapita\":1702975.0,\"umur\":\"35-39\",\"ses\":\"C1\",\"kepadatan_penduduk\":2691,\"tpt_persen\":8.8,\"jumlah_pasar\":16,\"umk\":4518581.8499999996,\"cluster\":3},{\"index\":61,\"kabupaten\":\"Kabupaten Mojokerto\",\"provinsi\":\"JAWA TIMUR\",\"jumlah_penduduk\":1125522,\"luas_wilayah_km2\":717.83,\"pengeluaran_perkapita\":1152592.0,\"umur\":\"25-29\",\"ses\":\"C2\",\"kepadatan_penduduk\":1146,\"tpt_persen\":4.83,\"jumlah_pasar\":11,\"umk\":4504787.1699999999,\"cluster\":0},{\"index\":62,\"kabupaten\":\"Kabupaten Jombang\",\"provinsi\":\"JAWA TIMUR\",\"jumlah_penduduk\":1325914,\"luas_wilayah_km2\":1115.09,\"pengeluaran_perkapita\":1044859.0,\"umur\":\"40-44\",\"ses\":\"C2\",\"kepadatan_penduduk\":1219,\"tpt_persen\":5.47,\"jumlah_pasar\":6,\"umk\":2854095.8799999999,\"cluster\":0},{\"index\":63,\"kabupaten\":\"Kabupaten Nganjuk\",\"provinsi\":\"JAWA TIMUR\",\"jumlah_penduduk\":1109683,\"luas_wilayah_km2\":1224.25,\"pengeluaran_perkapita\":945427.0,\"umur\":\"40-44\",\"ses\":\"D\",\"kepadatan_penduduk\":880,\"tpt_persen\":4.74,\"jumlah_pasar\":18,\"umk\":2167007.0499999998,\"cluster\":0},{\"index\":64,\"kabupaten\":\"Kabupaten Madiun\",\"provinsi\":\"JAWA TIMUR\",\"jumlah_penduduk\":750143,\"luas_wilayah_km2\":1037.58,\"pengeluaran_perkapita\":866944.0,\"umur\":\"45-49\",\"ses\":\"D\",\"kepadatan_penduduk\":678,\"tpt_persen\":5.84,\"jumlah_pasar\":25,\"umk\":2154251.3399999999,\"cluster\":0},{\"index\":65,\"kabupaten\":\"Kabupaten Magetan\",\"provinsi\":\"JAWA TIMUR\",\"jumlah_penduduk\":674133,\"luas_wilayah_km2\":688.84,\"pengeluaran_perkapita\":972412.0,\"umur\":\"55-59\",\"ses\":\"D\",\"kepadatan_penduduk\":977,\"tpt_persen\":4.33,\"jumlah_pasar\":52,\"umk\":2153062.3700000001,\"cluster\":0},{\"index\":66,\"kabupaten\":\"Kabupaten Ngawi\",\"provinsi\":\"JAWA TIMUR\",\"jumlah_penduduk\":873346,\"luas_wilayah_km2\":1295.98,\"pengeluaran_perkapita\":862193.0,\"umur\":\"45-49\",\"ses\":\"D\",\"kepadatan_penduduk\":643,\"tpt_persen\":2.48,\"jumlah_pasar\":7,\"umk\":2158844.5899999999,\"cluster\":0},{\"index\":67,\"kabupaten\":\"Kabupaten Bojonegoro\",\"provinsi\":\"JAWA TIMUR\",\"jumlah_penduduk\":1307602,\"luas_wilayah_km2\":2198.79,\"pengeluaran_perkapita\":951402.0,\"umur\":\"40-44\",\"ses\":\"D\",\"kepadatan_penduduk\":581,\"tpt_persen\":4.69,\"jumlah_pasar\":14,\"umk\":2279568.0699999998,\"cluster\":0},{\"index\":68,\"kabupaten\":\"Kabupaten Tuban\",\"provinsi\":\"JAWA TIMUR\",\"jumlah_penduduk\":1203127,\"luas_wilayah_km2\":1834.15,\"pengeluaran_perkapita\":999885.0,\"umur\":\"40-44\",\"ses\":\"D\",\"kepadatan_penduduk\":621,\"tpt_persen\":4.54,\"jumlah_pasar\":14,\"umk\":2739224.8799999999,\"cluster\":3},{\"index\":69,\"kabupaten\":\"Kabupaten Lamongan\",\"provinsi\":\"JAWA TIMUR\",\"jumlah_penduduk\":1356027,\"luas_wilayah_km2\":1782.05,\"pengeluaran_perkapita\":1099944.0,\"umur\":\"50-54\",\"ses\":\"C2\",\"kepadatan_penduduk\":788,\"tpt_persen\":6.05,\"jumlah_pasar\":60,\"umk\":2701977.27,\"cluster\":0},{\"index\":70,\"kabupaten\":\"Kabupaten Gresik\",\"provinsi\":\"JAWA TIMUR\",\"jumlah_penduduk\":1320570,\"luas_wilayah_km2\":1191.25,\"pengeluaran_perkapita\":1386341.0,\"umur\":\"30-34\",\"ses\":\"C2\",\"kepadatan_penduduk\":1025,\"tpt_persen\":7.84,\"jumlah_pasar\":4,\"umk\":4522030.5099999998,\"cluster\":0},{\"index\":71,\"kabupaten\":\"Kabupaten Bangkalan\",\"provinsi\":\"JAWA TIMUR\",\"jumlah_penduduk\":1071712,\"luas_wilayah_km2\":1001.44,\"pengeluaran_perkapita\":696199.0,\"umur\":\"5-9\",\"ses\":\"E\",\"kepadatan_penduduk\":833,\"tpt_persen\":8.05,\"jumlah_pasar\":1,\"umk\":2152450.8300000001,\"cluster\":2},{\"index\":72,\"kabupaten\":\"Kabupaten Sampang\",\"provinsi\":\"JAWA TIMUR\",\"jumlah_penduduk\":976020,\"luas_wilayah_km2\":1233.08,\"pengeluaran_perkapita\":663069.0,\"umur\":\"10-14\",\"ses\":\"E\",\"kepadatan_penduduk\":774,\"tpt_persen\":3.11,\"jumlah_pasar\":2,\"umk\":2114335.27,\"cluster\":3},{\"index\":73,\"kabupaten\":\"Kabupaten Pamekasan\",\"provinsi\":\"JAWA TIMUR\",\"jumlah_penduduk\":853507,\"luas_wilayah_km2\":792.24,\"pengeluaran_perkapita\":678583.0,\"umur\":\"10-14\",\"ses\":\"E\",\"kepadatan_penduduk\":1078,\"tpt_persen\":1.4,\"jumlah_pasar\":11,\"umk\":2133655.0299999998,\"cluster\":3},{\"index\":74,\"kabupaten\":\"Kabupaten Sumenep\",\"provinsi\":\"JAWA TIMUR\",\"jumlah_penduduk\":1129822,\"luas_wilayah_km2\":1998.54,\"pengeluaran_perkapita\":1101593.0,\"umur\":\"40-44\",\"ses\":\"C2\",\"kepadatan_penduduk\":545,\"tpt_persen\":1.36,\"jumlah_pasar\":11,\"umk\":2176819.9399999999,\"cluster\":3},{\"index\":75,\"kabupaten\":\"Kota Kediri\",\"provinsi\":\"JAWA TIMUR\",\"jumlah_penduduk\":287962,\"luas_wilayah_km2\":63.4,\"pengeluaran_perkapita\":1500469.0,\"umur\":\"20-24\",\"ses\":\"C1\",\"kepadatan_penduduk\":4362,\"tpt_persen\":4.38,\"jumlah_pasar\":9,\"umk\":2318116.6299999999,\"cluster\":1},{\"index\":76,\"kabupaten\":\"Kota Blitar\",\"provinsi\":\"JAWA TIMUR\",\"jumlah_penduduk\":150371,\"luas_wilayah_km2\":32.57,\"pengeluaran_perkapita\":1539749.0,\"umur\":\"25-29\",\"ses\":\"C1\",\"kepadatan_penduduk\":4772,\"tpt_persen\":5.39,\"jumlah_pasar\":6,\"umk\":2239024.4399999999,\"cluster\":1},{\"index\":77,\"kabupaten\":\"Kota Malang\",\"provinsi\":\"JAWA TIMUR\",\"jumlah_penduduk\":844933,\"luas_wilayah_km2\":145.28,\"pengeluaran_perkapita\":1766014.0,\"umur\":\"20-24\",\"ses\":\"C1\",\"kepadatan_penduduk\":7806,\"tpt_persen\":7.66,\"jumlah_pasar\":28,\"umk\":3194143.98,\"cluster\":1},{\"index\":78,\"kabupaten\":\"Kota Probolinggo\",\"provinsi\":\"JAWA TIMUR\",\"jumlah_penduduk\":241202,\"luas_wilayah_km2\":56.67,\"pengeluaran_perkapita\":1355536.0,\"umur\":\"30-34\",\"ses\":\"C2\",\"kepadatan_penduduk\":4442,\"tpt_persen\":4.57,\"jumlah_pasar\":34,\"umk\":2576240.6299999999,\"cluster\":1},{\"index\":79,\"kabupaten\":\"Kota Pasuruan\",\"provinsi\":\"JAWA TIMUR\",\"jumlah_penduduk\":209528,\"luas_wilayah_km2\":35.29,\"pengeluaran_perkapita\":1372321.0,\"umur\":\"20-24\",\"ses\":\"C2\",\"kepadatan_penduduk\":5416,\"tpt_persen\":6.18,\"jumlah_pasar\":6,\"umk\":3038837.6400000001,\"cluster\":1},{\"index\":80,\"kabupaten\":\"Kota Mojokerto\",\"provinsi\":\"JAWA TIMUR\",\"jumlah_penduduk\":133272,\"luas_wilayah_km2\":20.21,\"pengeluaran_perkapita\":1506376.0,\"umur\":\"35-39\",\"ses\":\"C1\",\"kepadatan_penduduk\":6946,\"tpt_persen\":5.05,\"jumlah_pasar\":20,\"umk\":4504787.1699999999,\"cluster\":1},{\"index\":81,\"kabupaten\":\"Kota Madiun\",\"provinsi\":\"JAWA TIMUR\",\"jumlah_penduduk\":196917,\"luas_wilayah_km2\":33.92,\"pengeluaran_perkapita\":1611780.0,\"umur\":\"50-54\",\"ses\":\"C1\",\"kepadatan_penduduk\":5580,\"tpt_persen\":6.39,\"jumlah_pasar\":42,\"umk\":2190216.3700000001,\"cluster\":1},{\"index\":82,\"kabupaten\":\"Kota Surabaya\",\"provinsi\":\"JAWA TIMUR\",\"jumlah_penduduk\":2880284,\"luas_wilayah_km2\":350.54,\"pengeluaran_perkapita\":1952590.0,\"umur\":\"20-24\",\"ses\":\"C1\",\"kepadatan_penduduk\":8867,\"tpt_persen\":7.62,\"jumlah_pasar\":79,\"umk\":4525479.1900000004,\"cluster\":1},{\"index\":83,\"kabupaten\":\"Kota Batu\",\"provinsi\":\"JAWA TIMUR\",\"jumlah_penduduk\":214653,\"luas_wilayah_km2\":136.74,\"pengeluaran_perkapita\":1375931.0,\"umur\":\"20-24\",\"ses\":\"C2\",\"kepadatan_penduduk\":1113,\"tpt_persen\":8.43,\"jumlah_pasar\":9,\"umk\":3030367.0899999999,\"cluster\":3},{\"index\":84,\"kabupaten\":\"Bogor\",\"provinsi\":\"JAWA BARAT\",\"jumlah_penduduk\":5489536,\"luas_wilayah_km2\":2710.62,\"pengeluaran_perkapita\":1220669.29,\"umur\":\"5-9\",\"ses\":\"C2\",\"kepadatan_penduduk\":2025,\"tpt_persen\":10.64,\"jumlah_pasar\":77,\"umk\":4217206.0,\"cluster\":2},{\"index\":85,\"kabupaten\":\"Sukabumi\",\"provinsi\":\"JAWA BARAT\",\"jumlah_penduduk\":2761476,\"luas_wilayah_km2\":4145.7,\"pengeluaran_perkapita\":1018782.54,\"umur\":\"10-14\",\"ses\":\"C2\",\"kepadatan_penduduk\":666,\"tpt_persen\":7.77,\"jumlah_pasar\":95,\"umk\":3125444.7200000002,\"cluster\":1},{\"index\":86,\"kabupaten\":\"Cianjur\",\"provinsi\":\"JAWA BARAT\",\"jumlah_penduduk\":2506682,\"luas_wilayah_km2\":3840.16,\"pengeluaran_perkapita\":959446.99,\"umur\":\"10-14\",\"ses\":\"D\",\"kepadatan_penduduk\":653,\"tpt_persen\":8.41,\"jumlah_pasar\":78,\"umk\":2699814.3999999999,\"cluster\":2},{\"index\":87,\"kabupaten\":\"Bandung\",\"provinsi\":\"JAWA BARAT\",\"jumlah_penduduk\":3666156,\"luas_wilayah_km2\":1767.96,\"pengeluaran_perkapita\":1210944.21,\"umur\":\"5-9\",\"ses\":\"C2\",\"kepadatan_penduduk\":2071,\"tpt_persen\":6.98,\"jumlah_pasar\":30,\"umk\":3241929.6699999999,\"cluster\":2},{\"index\":88,\"kabupaten\":\"Garut\",\"provinsi\":\"JAWA BARAT\",\"jumlah_penduduk\":2604787,\"luas_wilayah_km2\":428978.0,\"pengeluaran_perkapita\":831102.3,\"umur\":\"5-9\",\"ses\":\"D\",\"kepadatan_penduduk\":847,\"tpt_persen\":7.6,\"jumlah_pasar\":70,\"umk\":1975220.9199999999,\"cluster\":2},{\"index\":89,\"kabupaten\":\"Tasikmalaya\",\"provinsi\":\"JAWA BARAT\",\"jumlah_penduduk\":1883733,\"luas_wilayah_km2\":2551.19,\"pengeluaran_perkapita\":884302.63,\"umur\":\"10-14\",\"ses\":\"D\",\"kepadatan_penduduk\":738,\"tpt_persen\":4.17,\"jumlah_pasar\":57,\"umk\":2326772.46,\"cluster\":1},{\"index\":90,\"kabupaten\":\"Ciamis\",\"provinsi\":\"JAWA BARAT\",\"jumlah_penduduk\":1237726,\"luas_wilayah_km2\":1414.71,\"pengeluaran_perkapita\":1021570.53,\"umur\":\"45-49\",\"ses\":\"C2\",\"kepadatan_penduduk\":875,\"tpt_persen\":3.75,\"jumlah_pasar\":52,\"umk\":1897867.1399999999,\"cluster\":2},{\"index\":91,\"kabupaten\":\"Kuningan\",\"provinsi\":\"JAWA BARAT\",\"jumlah_penduduk\":1180391,\"luas_wilayah_km2\":1110.56,\"pengeluaran_perkapita\":1211684.8999999999,\"umur\":\"10-14\",\"ses\":\"C2\",\"kepadatan_penduduk\":1063,\"tpt_persen\":9.81,\"jumlah_pasar\":38,\"umk\":1908102.1699999999,\"cluster\":1},{\"index\":92,\"kabupaten\":\"Cirebon\",\"provinsi\":\"JAWA BARAT\",\"jumlah_penduduk\":2290967,\"luas_wilayah_km2\":984.52,\"pengeluaran_perkapita\":1016766.58,\"umur\":\"10-14\",\"ses\":\"C2\",\"kepadatan_penduduk\":2327,\"tpt_persen\":8.11,\"jumlah_pasar\":31,\"umk\":2279982.77,\"cluster\":2},{\"index\":93,\"kabupaten\":\"Majalengka\",\"provinsi\":\"JAWA BARAT\",\"jumlah_penduduk\":1318965,\"luas_wilayah_km2\":1204.24,\"pengeluaran_perkapita\":1095738.7,\"umur\":\"10-14\",\"ses\":\"C2\",\"kepadatan_penduduk\":1095,\"tpt_persen\":4.16,\"jumlah_pasar\":48,\"umk\":2027619.04,\"cluster\":1},{\"index\":94,\"kabupaten\":\"Sumedang\",\"provinsi\":\"JAWA BARAT\",\"jumlah_penduduk\":1159346,\"luas_wilayah_km2\":1518.33,\"pengeluaran_perkapita\":1144317.3300000001,\"umur\":\"15-19\",\"ses\":\"C2\",\"kepadatan_penduduk\":764,\"tpt_persen\":7.72,\"jumlah_pasar\":42,\"umk\":3241929.6699999999,\"cluster\":1},{\"index\":95,\"kabupaten\":\"Indramayu\",\"provinsi\":\"JAWA BARAT\",\"jumlah_penduduk\":1851383,\"luas_wilayah_km2\":51441.0,\"pengeluaran_perkapita\":1248638.0600000001,\"umur\":\"10-14\",\"ses\":\"C2\",\"kepadatan_penduduk\":907,\"tpt_persen\":6.49,\"jumlah_pasar\":38,\"umk\":2391567.1499999999,\"cluster\":2},{\"index\":96,\"kabupaten\":\"Subang\",\"provinsi\":\"JAWA BARAT\",\"jumlah_penduduk\":1608594,\"luas_wilayah_km2\":1893.95,\"pengeluaran_perkapita\":1154420.45,\"umur\":\"10-14\",\"ses\":\"C2\",\"kepadatan_penduduk\":849,\"tpt_persen\":7.77,\"jumlah_pasar\":37,\"umk\":3064218.0,\"cluster\":1},{\"index\":97,\"kabupaten\":\"Purwakarta\",\"provinsi\":\"JAWA BARAT\",\"jumlah_penduduk\":1011466,\"luas_wilayah_km2\":825.74,\"pengeluaran_perkapita\":1400486.8799999999,\"umur\":\"5-9\",\"ses\":\"C2\",\"kepadatan_penduduk\":1225,\"tpt_persen\":8.75,\"jumlah_pasar\":16,\"umk\":4173568.6099999999,\"cluster\":1},{\"index\":98,\"kabupaten\":\"Karawang\",\"provinsi\":\"JAWA BARAT\",\"jumlah_penduduk\":2468576,\"luas_wilayah_km2\":1652.2,\"pengeluaran_perkapita\":1242403.46,\"umur\":\"20-24\",\"ses\":\"C2\",\"kepadatan_penduduk\":1494,\"tpt_persen\":9.87,\"jumlah_pasar\":33,\"umk\":4798312.0,\"cluster\":3},{\"index\":99,\"kabupaten\":\"Bekasi\",\"provinsi\":\"JAWA BARAT\",\"jumlah_penduduk\":3157962,\"luas_wilayah_km2\":1224.88,\"pengeluaran_perkapita\":1588581.6000000001,\"umur\":\"20-24\",\"ses\":\"C1\",\"kepadatan_penduduk\":2578,\"tpt_persen\":10.31,\"jumlah_pasar\":57,\"umk\":4791843.9000000004,\"cluster\":2},{\"index\":100,\"kabupaten\":\"Bandung Barat\",\"provinsi\":\"JAWA BARAT\",\"jumlah_penduduk\":1814226,\"luas_wilayah_km2\":1305.77,\"pengeluaran_perkapita\":952620.37,\"umur\":\"5-9\",\"ses\":\"D\",\"kepadatan_penduduk\":1389,\"tpt_persen\":9.63,\"jumlah_pasar\":16,\"umk\":3248283.2799999998,\"cluster\":2},{\"index\":101,\"kabupaten\":\"Pangandaran\",\"provinsi\":\"JAWA BARAT\",\"jumlah_penduduk\":427614,\"luas_wilayah_km2\":1010.0,\"pengeluaran_perkapita\":1179731.01,\"umur\":\"45-49\",\"ses\":\"C2\",\"kepadatan_penduduk\":423,\"tpt_persen\":1.56,\"jumlah_pasar\":32,\"umk\":1884364.0800000001,\"cluster\":1},{\"index\":102,\"kabupaten\":\"Kota Bogor\",\"provinsi\":\"JAWA BARAT\",\"jumlah_penduduk\":1052359,\"luas_wilayah_km2\":118.5,\"pengeluaran_perkapita\":1960499.8600000001,\"umur\":\"20-24\",\"ses\":\"C1\",\"kepadatan_penduduk\":8881,\"tpt_persen\":10.78,\"jumlah_pasar\":16,\"umk\":4330249.5700000003,\"cluster\":1},{\"index\":103,\"kabupaten\":\"Sukabumi\",\"provinsi\":\"JAWA BARAT\",\"jumlah_penduduk\":350804,\"luas_wilayah_km2\":48.25,\"pengeluaran_perkapita\":1483147.21,\"umur\":\"5-9\",\"ses\":\"C2\",\"kepadatan_penduduk\":7271,\"tpt_persen\":8.83,\"jumlah_pasar\":8,\"umk\":2562434.0099999998,\"cluster\":1},{\"index\":104,\"kabupaten\":\"Bandung\",\"provinsi\":\"JAWA BARAT\",\"jumlah_penduduk\":2452943,\"luas_wilayah_km2\":167.67,\"pengeluaran_perkapita\":2082374.8899999999,\"umur\":\"20-24\",\"ses\":\"B\",\"kepadatan_penduduk\":14630,\"tpt_persen\":9.55,\"jumlah_pasar\":49,\"umk\":3774860.7799999998,\"cluster\":2},{\"index\":105,\"kabupaten\":\"Cirebon\",\"provinsi\":\"JAWA BARAT\",\"jumlah_penduduk\":336864,\"luas_wilayah_km2\":37.36,\"pengeluaran_perkapita\":1629707.9099999999,\"umur\":\"15-19\",\"ses\":\"C1\",\"kepadatan_penduduk\":9017,\"tpt_persen\":8.42,\"jumlah_pasar\":12,\"umk\":2304943.5099999998,\"cluster\":2},{\"index\":106,\"kabupaten\":\"Bekasi\",\"provinsi\":\"JAWA BARAT\",\"jumlah_penduduk\":2564941,\"luas_wilayah_km2\":206.61,\"pengeluaran_perkapita\":2488463.1299999999,\"umur\":\"20-24\",\"ses\":\"B\",\"kepadatan_penduduk\":12414,\"tpt_persen\":8.81,\"jumlah_pasar\":14,\"umk\":4816921.1699999999,\"cluster\":2},{\"index\":107,\"kabupaten\":\"Depok\",\"provinsi\":\"JAWA BARAT\",\"jumlah_penduduk\":2085935,\"luas_wilayah_km2\":200.29,\"pengeluaran_perkapita\":2304941.48,\"umur\":\"30-34\",\"ses\":\"B\",\"kepadatan_penduduk\":10415,\"tpt_persen\":7.82,\"jumlah_pasar\":11,\"umk\":4377231.9299999997,\"cluster\":2},{\"index\":108,\"kabupaten\":\"Cimahi\",\"provinsi\":\"JAWA BARAT\",\"jumlah_penduduk\":571632,\"luas_wilayah_km2\":39.27,\"pengeluaran_perkapita\":1827071.74,\"umur\":\"20-24\",\"ses\":\"C1\",\"kepadatan_penduduk\":14556,\"tpt_persen\":10.77,\"jumlah_pasar\":4,\"umk\":3272668.5,\"cluster\":2},{\"index\":109,\"kabupaten\":\"Tasikmalaya\",\"provinsi\":\"JAWA BARAT\",\"jumlah_penduduk\":723921,\"luas_wilayah_km2\":171.61,\"pengeluaran_perkapita\":1310775.1399999999,\"umur\":\"15-19\",\"ses\":\"C2\",\"kepadatan_penduduk\":4218,\"tpt_persen\":6.62,\"jumlah_pasar\":10,\"umk\":2363389.6699999999,\"cluster\":1},{\"index\":110,\"kabupaten\":\"Banjar\",\"provinsi\":\"JAWA BARAT\",\"jumlah_penduduk\":203417,\"luas_wilayah_km2\":113.49,\"pengeluaran_perkapita\":1088976.6499999999,\"umur\":\"15-19\",\"ses\":\"C2\",\"kepadatan_penduduk\":1792,\"tpt_persen\":5.53,\"jumlah_pasar\":8,\"umk\":1831884.8300000001,\"cluster\":2}]\n"
          ]
        }
      ]
    },
    {
      "cell_type": "code",
      "source": [
        "dfxx = joblib.load('datanew.pkl')\n",
        "dfxx"
      ],
      "metadata": {
        "colab": {
          "base_uri": "https://localhost:8080/",
          "height": 644
        },
        "id": "N7g2Ys0CBgCQ",
        "outputId": "96e90304-d3ae-4ebc-9f8b-db685e919e3f"
      },
      "execution_count": 44,
      "outputs": [
        {
          "output_type": "execute_result",
          "data": {
            "text/plain": [
              "           kabupaten    provinsi  jumlah_penduduk  luas_wilayah_km2  \\\n",
              "0        Kep, Seribu     JAKARTA            28240             10.18   \n",
              "1    Jakarta Selatan     JAKARTA          2233855            154.32   \n",
              "2      Jakarta Timur     JAKARTA          3056300            182.70   \n",
              "3      Jakarta Pusat     JAKARTA          1066460             52.38   \n",
              "4      Jakarta Barat     JAKARTA          2440073            124.44   \n",
              "..               ...         ...              ...               ...   \n",
              "106           Bekasi  JAWA BARAT          2564941            206.61   \n",
              "107            Depok  JAWA BARAT          2085935            200.29   \n",
              "108           Cimahi  JAWA BARAT           571632             39.27   \n",
              "109      Tasikmalaya  JAWA BARAT           723921            171.61   \n",
              "110           Banjar  JAWA BARAT           203417            113.49   \n",
              "\n",
              "     pengeluaran_perkapita   umur ses  kepadatan_penduduk  tpt_persen  \\\n",
              "0               1219497.42    5-9  C2                2774        8.47   \n",
              "1               2506430.84  35-39   B               14475        5.63   \n",
              "2               2048309.48  30-34   B               16729        8.39   \n",
              "3               2162055.05  35-39   B               20360        5.88   \n",
              "4               2200196.33  30-34   B               19608        7.10   \n",
              "..                     ...    ...  ..                 ...         ...   \n",
              "106             2488463.13  20-24   B               12414        8.81   \n",
              "107             2304941.48  30-34   B               10415        7.82   \n",
              "108             1827071.74  20-24  C1               14556       10.77   \n",
              "109             1310775.14  15-19  C2                4218        6.62   \n",
              "110             1088976.65  15-19  C2                1792        5.53   \n",
              "\n",
              "     jumlah_pasar         umk  cluster  \n",
              "0               0  4394816.00        3  \n",
              "1              27  6185279.00        2  \n",
              "2              34  5442060.00        2  \n",
              "3              46  5099960.00        2  \n",
              "4              19  5687307.00        2  \n",
              "..            ...         ...      ...  \n",
              "106            14  4816921.17        2  \n",
              "107            11  4377231.93        2  \n",
              "108             4  3272668.50        2  \n",
              "109            10  2363389.67        1  \n",
              "110             8  1831884.83        2  \n",
              "\n",
              "[111 rows x 12 columns]"
            ],
            "text/html": [
              "\n",
              "  <div id=\"df-757e4a82-5137-4279-8ab8-4fb2522d5c6f\">\n",
              "    <div class=\"colab-df-container\">\n",
              "      <div>\n",
              "<style scoped>\n",
              "    .dataframe tbody tr th:only-of-type {\n",
              "        vertical-align: middle;\n",
              "    }\n",
              "\n",
              "    .dataframe tbody tr th {\n",
              "        vertical-align: top;\n",
              "    }\n",
              "\n",
              "    .dataframe thead th {\n",
              "        text-align: right;\n",
              "    }\n",
              "</style>\n",
              "<table border=\"1\" class=\"dataframe\">\n",
              "  <thead>\n",
              "    <tr style=\"text-align: right;\">\n",
              "      <th></th>\n",
              "      <th>kabupaten</th>\n",
              "      <th>provinsi</th>\n",
              "      <th>jumlah_penduduk</th>\n",
              "      <th>luas_wilayah_km2</th>\n",
              "      <th>pengeluaran_perkapita</th>\n",
              "      <th>umur</th>\n",
              "      <th>ses</th>\n",
              "      <th>kepadatan_penduduk</th>\n",
              "      <th>tpt_persen</th>\n",
              "      <th>jumlah_pasar</th>\n",
              "      <th>umk</th>\n",
              "      <th>cluster</th>\n",
              "    </tr>\n",
              "  </thead>\n",
              "  <tbody>\n",
              "    <tr>\n",
              "      <th>0</th>\n",
              "      <td>Kep, Seribu</td>\n",
              "      <td>JAKARTA</td>\n",
              "      <td>28240</td>\n",
              "      <td>10.18</td>\n",
              "      <td>1219497.42</td>\n",
              "      <td>5-9</td>\n",
              "      <td>C2</td>\n",
              "      <td>2774</td>\n",
              "      <td>8.47</td>\n",
              "      <td>0</td>\n",
              "      <td>4394816.00</td>\n",
              "      <td>3</td>\n",
              "    </tr>\n",
              "    <tr>\n",
              "      <th>1</th>\n",
              "      <td>Jakarta Selatan</td>\n",
              "      <td>JAKARTA</td>\n",
              "      <td>2233855</td>\n",
              "      <td>154.32</td>\n",
              "      <td>2506430.84</td>\n",
              "      <td>35-39</td>\n",
              "      <td>B</td>\n",
              "      <td>14475</td>\n",
              "      <td>5.63</td>\n",
              "      <td>27</td>\n",
              "      <td>6185279.00</td>\n",
              "      <td>2</td>\n",
              "    </tr>\n",
              "    <tr>\n",
              "      <th>2</th>\n",
              "      <td>Jakarta Timur</td>\n",
              "      <td>JAKARTA</td>\n",
              "      <td>3056300</td>\n",
              "      <td>182.70</td>\n",
              "      <td>2048309.48</td>\n",
              "      <td>30-34</td>\n",
              "      <td>B</td>\n",
              "      <td>16729</td>\n",
              "      <td>8.39</td>\n",
              "      <td>34</td>\n",
              "      <td>5442060.00</td>\n",
              "      <td>2</td>\n",
              "    </tr>\n",
              "    <tr>\n",
              "      <th>3</th>\n",
              "      <td>Jakarta Pusat</td>\n",
              "      <td>JAKARTA</td>\n",
              "      <td>1066460</td>\n",
              "      <td>52.38</td>\n",
              "      <td>2162055.05</td>\n",
              "      <td>35-39</td>\n",
              "      <td>B</td>\n",
              "      <td>20360</td>\n",
              "      <td>5.88</td>\n",
              "      <td>46</td>\n",
              "      <td>5099960.00</td>\n",
              "      <td>2</td>\n",
              "    </tr>\n",
              "    <tr>\n",
              "      <th>4</th>\n",
              "      <td>Jakarta Barat</td>\n",
              "      <td>JAKARTA</td>\n",
              "      <td>2440073</td>\n",
              "      <td>124.44</td>\n",
              "      <td>2200196.33</td>\n",
              "      <td>30-34</td>\n",
              "      <td>B</td>\n",
              "      <td>19608</td>\n",
              "      <td>7.10</td>\n",
              "      <td>19</td>\n",
              "      <td>5687307.00</td>\n",
              "      <td>2</td>\n",
              "    </tr>\n",
              "    <tr>\n",
              "      <th>...</th>\n",
              "      <td>...</td>\n",
              "      <td>...</td>\n",
              "      <td>...</td>\n",
              "      <td>...</td>\n",
              "      <td>...</td>\n",
              "      <td>...</td>\n",
              "      <td>...</td>\n",
              "      <td>...</td>\n",
              "      <td>...</td>\n",
              "      <td>...</td>\n",
              "      <td>...</td>\n",
              "      <td>...</td>\n",
              "    </tr>\n",
              "    <tr>\n",
              "      <th>106</th>\n",
              "      <td>Bekasi</td>\n",
              "      <td>JAWA BARAT</td>\n",
              "      <td>2564941</td>\n",
              "      <td>206.61</td>\n",
              "      <td>2488463.13</td>\n",
              "      <td>20-24</td>\n",
              "      <td>B</td>\n",
              "      <td>12414</td>\n",
              "      <td>8.81</td>\n",
              "      <td>14</td>\n",
              "      <td>4816921.17</td>\n",
              "      <td>2</td>\n",
              "    </tr>\n",
              "    <tr>\n",
              "      <th>107</th>\n",
              "      <td>Depok</td>\n",
              "      <td>JAWA BARAT</td>\n",
              "      <td>2085935</td>\n",
              "      <td>200.29</td>\n",
              "      <td>2304941.48</td>\n",
              "      <td>30-34</td>\n",
              "      <td>B</td>\n",
              "      <td>10415</td>\n",
              "      <td>7.82</td>\n",
              "      <td>11</td>\n",
              "      <td>4377231.93</td>\n",
              "      <td>2</td>\n",
              "    </tr>\n",
              "    <tr>\n",
              "      <th>108</th>\n",
              "      <td>Cimahi</td>\n",
              "      <td>JAWA BARAT</td>\n",
              "      <td>571632</td>\n",
              "      <td>39.27</td>\n",
              "      <td>1827071.74</td>\n",
              "      <td>20-24</td>\n",
              "      <td>C1</td>\n",
              "      <td>14556</td>\n",
              "      <td>10.77</td>\n",
              "      <td>4</td>\n",
              "      <td>3272668.50</td>\n",
              "      <td>2</td>\n",
              "    </tr>\n",
              "    <tr>\n",
              "      <th>109</th>\n",
              "      <td>Tasikmalaya</td>\n",
              "      <td>JAWA BARAT</td>\n",
              "      <td>723921</td>\n",
              "      <td>171.61</td>\n",
              "      <td>1310775.14</td>\n",
              "      <td>15-19</td>\n",
              "      <td>C2</td>\n",
              "      <td>4218</td>\n",
              "      <td>6.62</td>\n",
              "      <td>10</td>\n",
              "      <td>2363389.67</td>\n",
              "      <td>1</td>\n",
              "    </tr>\n",
              "    <tr>\n",
              "      <th>110</th>\n",
              "      <td>Banjar</td>\n",
              "      <td>JAWA BARAT</td>\n",
              "      <td>203417</td>\n",
              "      <td>113.49</td>\n",
              "      <td>1088976.65</td>\n",
              "      <td>15-19</td>\n",
              "      <td>C2</td>\n",
              "      <td>1792</td>\n",
              "      <td>5.53</td>\n",
              "      <td>8</td>\n",
              "      <td>1831884.83</td>\n",
              "      <td>2</td>\n",
              "    </tr>\n",
              "  </tbody>\n",
              "</table>\n",
              "<p>111 rows × 12 columns</p>\n",
              "</div>\n",
              "      <button class=\"colab-df-convert\" onclick=\"convertToInteractive('df-757e4a82-5137-4279-8ab8-4fb2522d5c6f')\"\n",
              "              title=\"Convert this dataframe to an interactive table.\"\n",
              "              style=\"display:none;\">\n",
              "        \n",
              "  <svg xmlns=\"http://www.w3.org/2000/svg\" height=\"24px\"viewBox=\"0 0 24 24\"\n",
              "       width=\"24px\">\n",
              "    <path d=\"M0 0h24v24H0V0z\" fill=\"none\"/>\n",
              "    <path d=\"M18.56 5.44l.94 2.06.94-2.06 2.06-.94-2.06-.94-.94-2.06-.94 2.06-2.06.94zm-11 1L8.5 8.5l.94-2.06 2.06-.94-2.06-.94L8.5 2.5l-.94 2.06-2.06.94zm10 10l.94 2.06.94-2.06 2.06-.94-2.06-.94-.94-2.06-.94 2.06-2.06.94z\"/><path d=\"M17.41 7.96l-1.37-1.37c-.4-.4-.92-.59-1.43-.59-.52 0-1.04.2-1.43.59L10.3 9.45l-7.72 7.72c-.78.78-.78 2.05 0 2.83L4 21.41c.39.39.9.59 1.41.59.51 0 1.02-.2 1.41-.59l7.78-7.78 2.81-2.81c.8-.78.8-2.07 0-2.86zM5.41 20L4 18.59l7.72-7.72 1.47 1.35L5.41 20z\"/>\n",
              "  </svg>\n",
              "      </button>\n",
              "      \n",
              "  <style>\n",
              "    .colab-df-container {\n",
              "      display:flex;\n",
              "      flex-wrap:wrap;\n",
              "      gap: 12px;\n",
              "    }\n",
              "\n",
              "    .colab-df-convert {\n",
              "      background-color: #E8F0FE;\n",
              "      border: none;\n",
              "      border-radius: 50%;\n",
              "      cursor: pointer;\n",
              "      display: none;\n",
              "      fill: #1967D2;\n",
              "      height: 32px;\n",
              "      padding: 0 0 0 0;\n",
              "      width: 32px;\n",
              "    }\n",
              "\n",
              "    .colab-df-convert:hover {\n",
              "      background-color: #E2EBFA;\n",
              "      box-shadow: 0px 1px 2px rgba(60, 64, 67, 0.3), 0px 1px 3px 1px rgba(60, 64, 67, 0.15);\n",
              "      fill: #174EA6;\n",
              "    }\n",
              "\n",
              "    [theme=dark] .colab-df-convert {\n",
              "      background-color: #3B4455;\n",
              "      fill: #D2E3FC;\n",
              "    }\n",
              "\n",
              "    [theme=dark] .colab-df-convert:hover {\n",
              "      background-color: #434B5C;\n",
              "      box-shadow: 0px 1px 3px 1px rgba(0, 0, 0, 0.15);\n",
              "      filter: drop-shadow(0px 1px 2px rgba(0, 0, 0, 0.3));\n",
              "      fill: #FFFFFF;\n",
              "    }\n",
              "  </style>\n",
              "\n",
              "      <script>\n",
              "        const buttonEl =\n",
              "          document.querySelector('#df-757e4a82-5137-4279-8ab8-4fb2522d5c6f button.colab-df-convert');\n",
              "        buttonEl.style.display =\n",
              "          google.colab.kernel.accessAllowed ? 'block' : 'none';\n",
              "\n",
              "        async function convertToInteractive(key) {\n",
              "          const element = document.querySelector('#df-757e4a82-5137-4279-8ab8-4fb2522d5c6f');\n",
              "          const dataTable =\n",
              "            await google.colab.kernel.invokeFunction('convertToInteractive',\n",
              "                                                     [key], {});\n",
              "          if (!dataTable) return;\n",
              "\n",
              "          const docLinkHtml = 'Like what you see? Visit the ' +\n",
              "            '<a target=\"_blank\" href=https://colab.research.google.com/notebooks/data_table.ipynb>data table notebook</a>'\n",
              "            + ' to learn more about interactive tables.';\n",
              "          element.innerHTML = '';\n",
              "          dataTable['output_type'] = 'display_data';\n",
              "          await google.colab.output.renderOutput(dataTable, element);\n",
              "          const docLink = document.createElement('div');\n",
              "          docLink.innerHTML = docLinkHtml;\n",
              "          element.appendChild(docLink);\n",
              "        }\n",
              "      </script>\n",
              "    </div>\n",
              "  </div>\n",
              "  "
            ]
          },
          "metadata": {},
          "execution_count": 44
        }
      ]
    },
    {
      "cell_type": "code",
      "source": [
        "dfxx.info()"
      ],
      "metadata": {
        "colab": {
          "base_uri": "https://localhost:8080/"
        },
        "id": "RFczH80ICKQO",
        "outputId": "9ca69be8-fe7a-4577-bcf7-00f1779c59ae"
      },
      "execution_count": 51,
      "outputs": [
        {
          "output_type": "stream",
          "name": "stdout",
          "text": [
            "<class 'pandas.core.frame.DataFrame'>\n",
            "RangeIndex: 111 entries, 0 to 110\n",
            "Data columns (total 12 columns):\n",
            " #   Column                 Non-Null Count  Dtype  \n",
            "---  ------                 --------------  -----  \n",
            " 0   kabupaten              111 non-null    object \n",
            " 1   provinsi               111 non-null    object \n",
            " 2   jumlah_penduduk        111 non-null    int64  \n",
            " 3   luas_wilayah_km2       111 non-null    float64\n",
            " 4   pengeluaran_perkapita  111 non-null    float64\n",
            " 5   umur                   111 non-null    object \n",
            " 6   ses                    111 non-null    object \n",
            " 7   kepadatan_penduduk     111 non-null    int64  \n",
            " 8   tpt_persen             111 non-null    float64\n",
            " 9   jumlah_pasar           111 non-null    int64  \n",
            " 10  umk                    111 non-null    float64\n",
            " 11  cluster                111 non-null    int32  \n",
            "dtypes: float64(4), int32(1), int64(3), object(4)\n",
            "memory usage: 10.1+ KB\n"
          ]
        }
      ]
    },
    {
      "cell_type": "markdown",
      "source": [
        "# PREDICTION"
      ],
      "metadata": {
        "id": "CanrsnRfQJK4"
      }
    },
    {
      "cell_type": "code",
      "execution_count": 59,
      "metadata": {
        "id": "D3C-mu9AwHCL",
        "colab": {
          "base_uri": "https://localhost:8080/"
        },
        "outputId": "3525a4a5-62de-4858-beda-3f6423e04095"
      },
      "outputs": [
        {
          "output_type": "stream",
          "name": "stdout",
          "text": [
            "Masukan Umur : 10-14\n",
            "Masukan Cluster : 2\n",
            "Masukan SES : C2\n",
            "Masukan Provinsi: JAWA BARAT\n",
            "kabupaten                   Cirebon\n",
            "provinsi                 JAWA BARAT\n",
            "jumlah_penduduk             2290967\n",
            "luas_wilayah_km2             984.52\n",
            "pengeluaran_perkapita    1016766.58\n",
            "umur                          10-14\n",
            "ses                              C2\n",
            "kepadatan_penduduk             2327\n",
            "tpt_persen                     8.11\n",
            "jumlah_pasar                     31\n",
            "umk                      2279982.77\n",
            "cluster                           2\n",
            "Name: 92, dtype: object\n"
          ]
        }
      ],
      "source": [
        "def my_func(row, v, x, y, z):\n",
        "  if row['umur'] == v and row['cluster'] == x and row['ses'] == y and row['provinsi'] == z:\n",
        "    return True\n",
        "  else:\n",
        "    return False\n",
        "\n",
        "# Define the inputs\n",
        "v = input('Masukan Umur : ')\n",
        "x = int(input('Masukan Cluster : '))\n",
        "y = input('Masukan SES : ')\n",
        "z = input('Masukan Provinsi: ')\n",
        "\n",
        "filtered_data = dfxx.apply(my_func, args=( v, x, y, z), axis=1)\n",
        "if filtered_data.any():\n",
        "  print(dfxx[filtered_data].iloc[0])\n",
        "else:\n",
        "  print(\"Tidak ada data yang sesuai dengan kriteria yang diberikan.\")\n"
      ]
    },
    {
      "cell_type": "code",
      "source": [
        "D"
      ],
      "metadata": {
        "id": "OV_EK3n5PoXV"
      },
      "execution_count": null,
      "outputs": []
    }
  ]
}